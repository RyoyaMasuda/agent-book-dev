{
 "cells": [
  {
   "cell_type": "markdown",
   "metadata": {},
   "source": [
    "# LangChain/LangGraphで実装するエージェントデザインパターン"
   ]
  },
  {
   "cell_type": "markdown",
   "metadata": {},
   "source": [
    "## セットアップ"
   ]
  },
  {
   "cell_type": "code",
   "execution_count": null,
   "metadata": {},
   "outputs": [],
   "source": [
    "!git clone https://github.com/GenerativeAgents/agent-book.git"
   ]
  },
  {
   "cell_type": "code",
   "execution_count": null,
   "metadata": {},
   "outputs": [],
   "source": [
    "%cd agent-book\n",
    "%cd chapter12"
   ]
  },
  {
   "cell_type": "code",
   "execution_count": 1,
   "metadata": {},
   "outputs": [
    {
     "name": "stdout",
     "output_type": "stream",
     "text": [
      "Requirement already satisfied: langchain-core==0.3.0 in /home/rmasuda/agent-book-dev/venv/lib/python3.10/site-packages (0.3.0)\n",
      "Collecting langchain-community==0.3.0\n",
      "  Using cached langchain_community-0.3.0-py3-none-any.whl (2.3 MB)\n",
      "Requirement already satisfied: langgraph==0.2.22 in /home/rmasuda/agent-book-dev/venv/lib/python3.10/site-packages (0.2.22)\n",
      "Requirement already satisfied: langchain-openai==0.2.0 in /home/rmasuda/agent-book-dev/venv/lib/python3.10/site-packages (0.2.0)\n",
      "Collecting langchain-anthropic==0.2.0\n",
      "  Downloading langchain_anthropic-0.2.0-py3-none-any.whl (21 kB)\n",
      "Requirement already satisfied: python-dotenv==1.0.1 in /home/rmasuda/agent-book-dev/venv/lib/python3.10/site-packages (1.0.1)\n",
      "Requirement already satisfied: numpy==1.26.4 in /home/rmasuda/agent-book-dev/venv/lib/python3.10/site-packages (1.26.4)\n",
      "Collecting faiss-cpu==1.8.0.post1\n",
      "  Downloading faiss_cpu-1.8.0.post1-cp310-cp310-manylinux_2_17_x86_64.manylinux2014_x86_64.whl (27.0 MB)\n",
      "\u001b[2K     \u001b[90m━━━━━━━━━━━━━━━━━━━━━━━━━━━━━━━━━━━━━━━━\u001b[0m \u001b[32m27.0/27.0 MB\u001b[0m \u001b[31m32.6 MB/s\u001b[0m eta \u001b[36m0:00:00\u001b[0m00:01\u001b[0m00:01\u001b[0m\n",
      "\u001b[?25hCollecting pydantic-settings==2.5.2\n",
      "  Downloading pydantic_settings-2.5.2-py3-none-any.whl (26 kB)\n",
      "Collecting retry==0.9.2\n",
      "  Downloading retry-0.9.2-py2.py3-none-any.whl (8.0 kB)\n",
      "Collecting decorator==4.4.2\n",
      "  Downloading decorator-4.4.2-py2.py3-none-any.whl (9.2 kB)\n",
      "Requirement already satisfied: langsmith<0.2.0,>=0.1.117 in /home/rmasuda/agent-book-dev/venv/lib/python3.10/site-packages (from langchain-core==0.3.0) (0.1.147)\n",
      "Requirement already satisfied: pydantic<3.0.0,>=2.5.2 in /home/rmasuda/agent-book-dev/venv/lib/python3.10/site-packages (from langchain-core==0.3.0) (2.10.6)\n",
      "Requirement already satisfied: packaging<25,>=23.2 in /home/rmasuda/agent-book-dev/venv/lib/python3.10/site-packages (from langchain-core==0.3.0) (24.2)\n",
      "Requirement already satisfied: PyYAML>=5.3 in /home/rmasuda/agent-book-dev/venv/lib/python3.10/site-packages (from langchain-core==0.3.0) (6.0.2)\n",
      "Requirement already satisfied: typing-extensions>=4.7 in /home/rmasuda/agent-book-dev/venv/lib/python3.10/site-packages (from langchain-core==0.3.0) (4.12.2)\n",
      "Requirement already satisfied: jsonpatch<2.0,>=1.33 in /home/rmasuda/agent-book-dev/venv/lib/python3.10/site-packages (from langchain-core==0.3.0) (1.33)\n",
      "Requirement already satisfied: tenacity!=8.4.0,<9.0.0,>=8.1.0 in /home/rmasuda/agent-book-dev/venv/lib/python3.10/site-packages (from langchain-core==0.3.0) (8.5.0)\n",
      "Requirement already satisfied: langchain<0.4.0,>=0.3.0 in /home/rmasuda/agent-book-dev/venv/lib/python3.10/site-packages (from langchain-community==0.3.0) (0.3.0)\n",
      "Requirement already satisfied: requests<3,>=2 in /home/rmasuda/agent-book-dev/venv/lib/python3.10/site-packages (from langchain-community==0.3.0) (2.32.3)\n",
      "Requirement already satisfied: dataclasses-json<0.7,>=0.5.7 in /home/rmasuda/agent-book-dev/venv/lib/python3.10/site-packages (from langchain-community==0.3.0) (0.6.7)\n",
      "Requirement already satisfied: aiohttp<4.0.0,>=3.8.3 in /home/rmasuda/agent-book-dev/venv/lib/python3.10/site-packages (from langchain-community==0.3.0) (3.11.13)\n",
      "Requirement already satisfied: SQLAlchemy<3,>=1.4 in /home/rmasuda/agent-book-dev/venv/lib/python3.10/site-packages (from langchain-community==0.3.0) (2.0.39)\n",
      "Requirement already satisfied: langgraph-checkpoint<2.0.0,>=1.0.2 in /home/rmasuda/agent-book-dev/venv/lib/python3.10/site-packages (from langgraph==0.2.22) (1.0.11)\n",
      "Requirement already satisfied: openai<2.0.0,>=1.40.0 in /home/rmasuda/agent-book-dev/venv/lib/python3.10/site-packages (from langchain-openai==0.2.0) (1.55.3)\n",
      "Requirement already satisfied: tiktoken<1,>=0.7 in /home/rmasuda/agent-book-dev/venv/lib/python3.10/site-packages (from langchain-openai==0.2.0) (0.9.0)\n",
      "Collecting anthropic<1,>=0.30.0\n",
      "  Downloading anthropic-0.49.0-py3-none-any.whl (243 kB)\n",
      "\u001b[2K     \u001b[90m━━━━━━━━━━━━━━━━━━━━━━━━━━━━━━━━━━━━━━\u001b[0m \u001b[32m243.4/243.4 kB\u001b[0m \u001b[31m35.2 MB/s\u001b[0m eta \u001b[36m0:00:00\u001b[0m\n",
      "\u001b[?25hCollecting defusedxml<0.8.0,>=0.7.1\n",
      "  Downloading defusedxml-0.7.1-py2.py3-none-any.whl (25 kB)\n",
      "Collecting py<2.0.0,>=1.4.26\n",
      "  Downloading py-1.11.0-py2.py3-none-any.whl (98 kB)\n",
      "\u001b[2K     \u001b[90m━━━━━━━━━━━━━━━━━━━━━━━━━━━━━━━━━━━━━━━━\u001b[0m \u001b[32m98.7/98.7 kB\u001b[0m \u001b[31m19.0 MB/s\u001b[0m eta \u001b[36m0:00:00\u001b[0m\n",
      "\u001b[?25hRequirement already satisfied: async-timeout<6.0,>=4.0 in /home/rmasuda/agent-book-dev/venv/lib/python3.10/site-packages (from aiohttp<4.0.0,>=3.8.3->langchain-community==0.3.0) (4.0.3)\n",
      "Requirement already satisfied: frozenlist>=1.1.1 in /home/rmasuda/agent-book-dev/venv/lib/python3.10/site-packages (from aiohttp<4.0.0,>=3.8.3->langchain-community==0.3.0) (1.5.0)\n",
      "Requirement already satisfied: attrs>=17.3.0 in /home/rmasuda/agent-book-dev/venv/lib/python3.10/site-packages (from aiohttp<4.0.0,>=3.8.3->langchain-community==0.3.0) (25.3.0)\n",
      "Requirement already satisfied: yarl<2.0,>=1.17.0 in /home/rmasuda/agent-book-dev/venv/lib/python3.10/site-packages (from aiohttp<4.0.0,>=3.8.3->langchain-community==0.3.0) (1.18.3)\n",
      "Requirement already satisfied: multidict<7.0,>=4.5 in /home/rmasuda/agent-book-dev/venv/lib/python3.10/site-packages (from aiohttp<4.0.0,>=3.8.3->langchain-community==0.3.0) (6.1.0)\n",
      "Requirement already satisfied: propcache>=0.2.0 in /home/rmasuda/agent-book-dev/venv/lib/python3.10/site-packages (from aiohttp<4.0.0,>=3.8.3->langchain-community==0.3.0) (0.3.0)\n",
      "Requirement already satisfied: aiohappyeyeballs>=2.3.0 in /home/rmasuda/agent-book-dev/venv/lib/python3.10/site-packages (from aiohttp<4.0.0,>=3.8.3->langchain-community==0.3.0) (2.6.1)\n",
      "Requirement already satisfied: aiosignal>=1.1.2 in /home/rmasuda/agent-book-dev/venv/lib/python3.10/site-packages (from aiohttp<4.0.0,>=3.8.3->langchain-community==0.3.0) (1.3.2)\n",
      "Requirement already satisfied: sniffio in /home/rmasuda/agent-book-dev/venv/lib/python3.10/site-packages (from anthropic<1,>=0.30.0->langchain-anthropic==0.2.0) (1.3.1)\n",
      "Requirement already satisfied: anyio<5,>=3.5.0 in /home/rmasuda/agent-book-dev/venv/lib/python3.10/site-packages (from anthropic<1,>=0.30.0->langchain-anthropic==0.2.0) (4.8.0)\n",
      "Requirement already satisfied: httpx<1,>=0.23.0 in /home/rmasuda/agent-book-dev/venv/lib/python3.10/site-packages (from anthropic<1,>=0.30.0->langchain-anthropic==0.2.0) (0.28.1)\n",
      "Requirement already satisfied: jiter<1,>=0.4.0 in /home/rmasuda/agent-book-dev/venv/lib/python3.10/site-packages (from anthropic<1,>=0.30.0->langchain-anthropic==0.2.0) (0.9.0)\n",
      "Requirement already satisfied: distro<2,>=1.7.0 in /home/rmasuda/agent-book-dev/venv/lib/python3.10/site-packages (from anthropic<1,>=0.30.0->langchain-anthropic==0.2.0) (1.9.0)\n",
      "Requirement already satisfied: typing-inspect<1,>=0.4.0 in /home/rmasuda/agent-book-dev/venv/lib/python3.10/site-packages (from dataclasses-json<0.7,>=0.5.7->langchain-community==0.3.0) (0.9.0)\n",
      "Requirement already satisfied: marshmallow<4.0.0,>=3.18.0 in /home/rmasuda/agent-book-dev/venv/lib/python3.10/site-packages (from dataclasses-json<0.7,>=0.5.7->langchain-community==0.3.0) (3.26.1)\n",
      "Requirement already satisfied: jsonpointer>=1.9 in /home/rmasuda/agent-book-dev/venv/lib/python3.10/site-packages (from jsonpatch<2.0,>=1.33->langchain-core==0.3.0) (3.0.0)\n",
      "Requirement already satisfied: langchain-text-splitters<0.4.0,>=0.3.0 in /home/rmasuda/agent-book-dev/venv/lib/python3.10/site-packages (from langchain<0.4.0,>=0.3.0->langchain-community==0.3.0) (0.3.7)\n",
      "Requirement already satisfied: msgpack<2.0.0,>=1.1.0 in /home/rmasuda/agent-book-dev/venv/lib/python3.10/site-packages (from langgraph-checkpoint<2.0.0,>=1.0.2->langgraph==0.2.22) (1.1.0)\n",
      "Requirement already satisfied: requests-toolbelt<2.0.0,>=1.0.0 in /home/rmasuda/agent-book-dev/venv/lib/python3.10/site-packages (from langsmith<0.2.0,>=0.1.117->langchain-core==0.3.0) (1.0.0)\n",
      "Requirement already satisfied: orjson<4.0.0,>=3.9.14 in /home/rmasuda/agent-book-dev/venv/lib/python3.10/site-packages (from langsmith<0.2.0,>=0.1.117->langchain-core==0.3.0) (3.10.15)\n",
      "Requirement already satisfied: tqdm>4 in /home/rmasuda/agent-book-dev/venv/lib/python3.10/site-packages (from openai<2.0.0,>=1.40.0->langchain-openai==0.2.0) (4.67.1)\n",
      "Requirement already satisfied: pydantic-core==2.27.2 in /home/rmasuda/agent-book-dev/venv/lib/python3.10/site-packages (from pydantic<3.0.0,>=2.5.2->langchain-core==0.3.0) (2.27.2)\n",
      "Requirement already satisfied: annotated-types>=0.6.0 in /home/rmasuda/agent-book-dev/venv/lib/python3.10/site-packages (from pydantic<3.0.0,>=2.5.2->langchain-core==0.3.0) (0.7.0)\n",
      "Requirement already satisfied: urllib3<3,>=1.21.1 in /home/rmasuda/agent-book-dev/venv/lib/python3.10/site-packages (from requests<3,>=2->langchain-community==0.3.0) (2.3.0)\n",
      "Requirement already satisfied: charset-normalizer<4,>=2 in /home/rmasuda/agent-book-dev/venv/lib/python3.10/site-packages (from requests<3,>=2->langchain-community==0.3.0) (3.4.1)\n",
      "Requirement already satisfied: certifi>=2017.4.17 in /home/rmasuda/agent-book-dev/venv/lib/python3.10/site-packages (from requests<3,>=2->langchain-community==0.3.0) (2025.1.31)\n",
      "Requirement already satisfied: idna<4,>=2.5 in /home/rmasuda/agent-book-dev/venv/lib/python3.10/site-packages (from requests<3,>=2->langchain-community==0.3.0) (3.10)\n",
      "Requirement already satisfied: greenlet!=0.4.17 in /home/rmasuda/agent-book-dev/venv/lib/python3.10/site-packages (from SQLAlchemy<3,>=1.4->langchain-community==0.3.0) (3.1.1)\n",
      "Requirement already satisfied: regex>=2022.1.18 in /home/rmasuda/agent-book-dev/venv/lib/python3.10/site-packages (from tiktoken<1,>=0.7->langchain-openai==0.2.0) (2024.11.6)\n",
      "Requirement already satisfied: exceptiongroup>=1.0.2 in /home/rmasuda/agent-book-dev/venv/lib/python3.10/site-packages (from anyio<5,>=3.5.0->anthropic<1,>=0.30.0->langchain-anthropic==0.2.0) (1.2.2)\n",
      "Requirement already satisfied: httpcore==1.* in /home/rmasuda/agent-book-dev/venv/lib/python3.10/site-packages (from httpx<1,>=0.23.0->anthropic<1,>=0.30.0->langchain-anthropic==0.2.0) (1.0.7)\n",
      "Requirement already satisfied: h11<0.15,>=0.13 in /home/rmasuda/agent-book-dev/venv/lib/python3.10/site-packages (from httpcore==1.*->httpx<1,>=0.23.0->anthropic<1,>=0.30.0->langchain-anthropic==0.2.0) (0.14.0)\n",
      "Collecting langchain-text-splitters<0.4.0,>=0.3.0\n",
      "  Using cached langchain_text_splitters-0.3.6-py3-none-any.whl (31 kB)\n",
      "  Downloading langchain_text_splitters-0.3.5-py3-none-any.whl (31 kB)\n",
      "  Using cached langchain_text_splitters-0.3.4-py3-none-any.whl (27 kB)\n",
      "  Downloading langchain_text_splitters-0.3.3-py3-none-any.whl (27 kB)\n",
      "  Downloading langchain_text_splitters-0.3.2-py3-none-any.whl (25 kB)\n",
      "  Downloading langchain_text_splitters-0.3.1-py3-none-any.whl (25 kB)\n",
      "  Using cached langchain_text_splitters-0.3.0-py3-none-any.whl (25 kB)\n",
      "Requirement already satisfied: mypy-extensions>=0.3.0 in /home/rmasuda/agent-book-dev/venv/lib/python3.10/site-packages (from typing-inspect<1,>=0.4.0->dataclasses-json<0.7,>=0.5.7->langchain-community==0.3.0) (1.0.0)\n",
      "Installing collected packages: py, faiss-cpu, defusedxml, decorator, retry, pydantic-settings, anthropic, langchain-text-splitters, langchain-anthropic, langchain-community\n",
      "  Attempting uninstall: decorator\n",
      "    Found existing installation: decorator 5.2.1\n",
      "    Uninstalling decorator-5.2.1:\n",
      "      Successfully uninstalled decorator-5.2.1\n",
      "  Attempting uninstall: pydantic-settings\n",
      "    Found existing installation: pydantic-settings 2.8.1\n",
      "    Uninstalling pydantic-settings-2.8.1:\n",
      "      Successfully uninstalled pydantic-settings-2.8.1\n",
      "  Attempting uninstall: langchain-text-splitters\n",
      "    Found existing installation: langchain-text-splitters 0.3.7\n",
      "    Uninstalling langchain-text-splitters-0.3.7:\n",
      "      Successfully uninstalled langchain-text-splitters-0.3.7\n",
      "  Attempting uninstall: langchain-community\n",
      "    Found existing installation: langchain-community 0.2.12\n",
      "    Uninstalling langchain-community-0.2.12:\n",
      "      Successfully uninstalled langchain-community-0.2.12\n",
      "\u001b[31mERROR: pip's dependency resolver does not currently take into account all the packages that are installed. This behaviour is the source of the following dependency conflicts.\n",
      "langchain-experimental 0.3.4 requires langchain-core<0.4.0,>=0.3.28, but you have langchain-core 0.3.0 which is incompatible.\u001b[0m\u001b[31m\n",
      "\u001b[0mSuccessfully installed anthropic-0.49.0 decorator-4.4.2 defusedxml-0.7.1 faiss-cpu-1.8.0.post1 langchain-anthropic-0.2.0 langchain-community-0.3.0 langchain-text-splitters-0.3.0 py-1.11.0 pydantic-settings-2.5.2 retry-0.9.2\n",
      "\n",
      "\u001b[1m[\u001b[0m\u001b[34;49mnotice\u001b[0m\u001b[1;39;49m]\u001b[0m\u001b[39;49m A new release of pip is available: \u001b[0m\u001b[31;49m23.0.1\u001b[0m\u001b[39;49m -> \u001b[0m\u001b[32;49m25.0.1\u001b[0m\n",
      "\u001b[1m[\u001b[0m\u001b[34;49mnotice\u001b[0m\u001b[1;39;49m]\u001b[0m\u001b[39;49m To update, run: \u001b[0m\u001b[32;49mpip install --upgrade pip\u001b[0m\n"
     ]
    }
   ],
   "source": [
    "!pip install langchain-core==0.3.0 langchain-community==0.3.0 \\\n",
    "  langgraph==0.2.22 langchain-openai==0.2.0 langchain-anthropic==0.2.0 \\\n",
    "    python-dotenv==1.0.1 numpy==1.26.4 faiss-cpu==1.8.0.post1 \\\n",
    "      pydantic-settings==2.5.2 retry==0.9.2 decorator==4.4.2"
   ]
  },
  {
   "cell_type": "code",
   "execution_count": 2,
   "metadata": {},
   "outputs": [
    {
     "ename": "TypeError",
     "evalue": "str expected, not NoneType",
     "output_type": "error",
     "traceback": [
      "\u001b[0;31m---------------------------------------------------------------------------\u001b[0m",
      "\u001b[0;31mTypeError\u001b[0m                                 Traceback (most recent call last)",
      "Cell \u001b[0;32mIn[2], line 7\u001b[0m\n\u001b[1;32m      4\u001b[0m load_dotenv()\n\u001b[1;32m      6\u001b[0m os\u001b[38;5;241m.\u001b[39menviron[\u001b[38;5;124m\"\u001b[39m\u001b[38;5;124mOPENAI_API_KEY\u001b[39m\u001b[38;5;124m\"\u001b[39m] \u001b[38;5;241m=\u001b[39m os\u001b[38;5;241m.\u001b[39mgetenv(\u001b[38;5;124m\"\u001b[39m\u001b[38;5;124mOPENAI_API_KEY\u001b[39m\u001b[38;5;124m\"\u001b[39m)\n\u001b[0;32m----> 7\u001b[0m \u001b[43mos\u001b[49m\u001b[38;5;241;43m.\u001b[39;49m\u001b[43menviron\u001b[49m\u001b[43m[\u001b[49m\u001b[38;5;124;43m\"\u001b[39;49m\u001b[38;5;124;43mANTHROPIC_API_KEY\u001b[39;49m\u001b[38;5;124;43m\"\u001b[39;49m\u001b[43m]\u001b[49m \u001b[38;5;241m=\u001b[39m os\u001b[38;5;241m.\u001b[39mgetenv(\u001b[38;5;124m\"\u001b[39m\u001b[38;5;124mANTHROPIC_API_KEY\u001b[39m\u001b[38;5;124m\"\u001b[39m)\n\u001b[1;32m      8\u001b[0m os\u001b[38;5;241m.\u001b[39menviron[\u001b[38;5;124m\"\u001b[39m\u001b[38;5;124mTAVILY_API_KEY\u001b[39m\u001b[38;5;124m\"\u001b[39m] \u001b[38;5;241m=\u001b[39m os\u001b[38;5;241m.\u001b[39mgetenv(\u001b[38;5;124m\"\u001b[39m\u001b[38;5;124mTAVILY_API_KEY\u001b[39m\u001b[38;5;124m\"\u001b[39m)\n\u001b[1;32m      9\u001b[0m os\u001b[38;5;241m.\u001b[39menviron[\u001b[38;5;124m\"\u001b[39m\u001b[38;5;124mLANGCHAIN_TRACING_V2\u001b[39m\u001b[38;5;124m\"\u001b[39m] \u001b[38;5;241m=\u001b[39m \u001b[38;5;124m\"\u001b[39m\u001b[38;5;124mtrue\u001b[39m\u001b[38;5;124m\"\u001b[39m\n",
      "File \u001b[0;32m~/.pyenv/versions/3.10.12/lib/python3.10/os.py:685\u001b[0m, in \u001b[0;36m_Environ.__setitem__\u001b[0;34m(self, key, value)\u001b[0m\n\u001b[1;32m    683\u001b[0m \u001b[38;5;28;01mdef\u001b[39;00m\u001b[38;5;250m \u001b[39m\u001b[38;5;21m__setitem__\u001b[39m(\u001b[38;5;28mself\u001b[39m, key, value):\n\u001b[1;32m    684\u001b[0m     key \u001b[38;5;241m=\u001b[39m \u001b[38;5;28mself\u001b[39m\u001b[38;5;241m.\u001b[39mencodekey(key)\n\u001b[0;32m--> 685\u001b[0m     value \u001b[38;5;241m=\u001b[39m \u001b[38;5;28;43mself\u001b[39;49m\u001b[38;5;241;43m.\u001b[39;49m\u001b[43mencodevalue\u001b[49m\u001b[43m(\u001b[49m\u001b[43mvalue\u001b[49m\u001b[43m)\u001b[49m\n\u001b[1;32m    686\u001b[0m     putenv(key, value)\n\u001b[1;32m    687\u001b[0m     \u001b[38;5;28mself\u001b[39m\u001b[38;5;241m.\u001b[39m_data[key] \u001b[38;5;241m=\u001b[39m value\n",
      "File \u001b[0;32m~/.pyenv/versions/3.10.12/lib/python3.10/os.py:757\u001b[0m, in \u001b[0;36m_createenviron.<locals>.encode\u001b[0;34m(value)\u001b[0m\n\u001b[1;32m    755\u001b[0m \u001b[38;5;28;01mdef\u001b[39;00m\u001b[38;5;250m \u001b[39m\u001b[38;5;21mencode\u001b[39m(value):\n\u001b[1;32m    756\u001b[0m     \u001b[38;5;28;01mif\u001b[39;00m \u001b[38;5;129;01mnot\u001b[39;00m \u001b[38;5;28misinstance\u001b[39m(value, \u001b[38;5;28mstr\u001b[39m):\n\u001b[0;32m--> 757\u001b[0m         \u001b[38;5;28;01mraise\u001b[39;00m \u001b[38;5;167;01mTypeError\u001b[39;00m(\u001b[38;5;124m\"\u001b[39m\u001b[38;5;124mstr expected, not \u001b[39m\u001b[38;5;132;01m%s\u001b[39;00m\u001b[38;5;124m\"\u001b[39m \u001b[38;5;241m%\u001b[39m \u001b[38;5;28mtype\u001b[39m(value)\u001b[38;5;241m.\u001b[39m\u001b[38;5;18m__name__\u001b[39m)\n\u001b[1;32m    758\u001b[0m     \u001b[38;5;28;01mreturn\u001b[39;00m value\u001b[38;5;241m.\u001b[39mencode(encoding, \u001b[38;5;124m'\u001b[39m\u001b[38;5;124msurrogateescape\u001b[39m\u001b[38;5;124m'\u001b[39m)\n",
      "\u001b[0;31mTypeError\u001b[0m: str expected, not NoneType"
     ]
    }
   ],
   "source": [
    "import os\n",
    "# from google.colab import userdata\n",
    "from dotenv import load_dotenv\n",
    "load_dotenv()\n",
    "\n",
    "os.environ[\"OPENAI_API_KEY\"] = os.getenv(\"OPENAI_API_KEY\")\n",
    "os.environ[\"ANTHROPIC_API_KEY\"] = os.getenv(\"ANTHROPIC_API_KEY\")\n",
    "os.environ[\"TAVILY_API_KEY\"] = os.getenv(\"TAVILY_API_KEY\")\n",
    "os.environ[\"LANGCHAIN_TRACING_V2\"] = \"true\"\n",
    "os.environ[\"LANGCHAIN_ENDPOINT\"] = \"https://api.smith.langchain.com\"\n",
    "os.environ[\"LANGCHAIN_API_KEY\"] = os.getenv(\"LANGCHAIN_API_KEY\")\n",
    "os.environ[\"LANGCHAIN_PROJECT\"] = \"agent-book\""
   ]
  },
  {
   "cell_type": "markdown",
   "metadata": {},
   "source": [
    "## 1. パッシブゴールクリエイター"
   ]
  },
  {
   "cell_type": "code",
   "execution_count": null,
   "metadata": {},
   "outputs": [],
   "source": [
    "!python -m passive_goal_creator.main --task \"カレーライスの作り方\""
   ]
  },
  {
   "cell_type": "markdown",
   "metadata": {},
   "source": [
    "## 2. プロンプト/レスポンス最適化"
   ]
  },
  {
   "cell_type": "code",
   "execution_count": null,
   "metadata": {},
   "outputs": [],
   "source": [
    "!python -m prompt_optimizer.main --task \"カレーライスの作り方\""
   ]
  },
  {
   "cell_type": "code",
   "execution_count": null,
   "metadata": {},
   "outputs": [],
   "source": [
    "!python -m response_optimizer.main --task \"カレーライスの作り方\""
   ]
  },
  {
   "cell_type": "markdown",
   "metadata": {},
   "source": [
    "## 3. シングルパスプランジェネレーター"
   ]
  },
  {
   "cell_type": "code",
   "execution_count": null,
   "metadata": {},
   "outputs": [],
   "source": [
    "!python -m single_path_plan_generation.main --task \"カレーライスの作り方\""
   ]
  },
  {
   "cell_type": "markdown",
   "metadata": {},
   "source": [
    "## 4. マルチパスプランジェネレーター"
   ]
  },
  {
   "cell_type": "code",
   "execution_count": null,
   "metadata": {},
   "outputs": [],
   "source": [
    "!python -m multi_path_plan_generation.main --task \"カレーライスの作り方\""
   ]
  },
  {
   "cell_type": "markdown",
   "metadata": {},
   "source": [
    "## 5. セルフリフレクション"
   ]
  },
  {
   "cell_type": "code",
   "execution_count": null,
   "metadata": {},
   "outputs": [],
   "source": [
    "!python -m self_reflection.main --task \"カレーライスの作り方\""
   ]
  },
  {
   "cell_type": "markdown",
   "metadata": {},
   "source": [
    "## 6. クロスリフレクション"
   ]
  },
  {
   "cell_type": "code",
   "execution_count": null,
   "metadata": {},
   "outputs": [],
   "source": [
    "!python -m cross_reflection.main --task \"カレーライスの作り方\""
   ]
  },
  {
   "cell_type": "markdown",
   "metadata": {},
   "source": [
    "## 7. 役割ベースの協調"
   ]
  },
  {
   "cell_type": "code",
   "execution_count": null,
   "metadata": {},
   "outputs": [],
   "source": [
    "!python -m role_based_cooperation.main --task \"カレーライスの作り方\""
   ]
  }
 ],
 "metadata": {
  "kernelspec": {
   "display_name": "venv",
   "language": "python",
   "name": "python3"
  },
  "language_info": {
   "codemirror_mode": {
    "name": "ipython",
    "version": 3
   },
   "file_extension": ".py",
   "mimetype": "text/x-python",
   "name": "python",
   "nbconvert_exporter": "python",
   "pygments_lexer": "ipython3",
   "version": "3.10.12"
  }
 },
 "nbformat": 4,
 "nbformat_minor": 2
}
