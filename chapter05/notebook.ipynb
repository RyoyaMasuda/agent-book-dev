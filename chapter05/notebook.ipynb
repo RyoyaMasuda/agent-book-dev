{
 "cells": [
  {
   "cell_type": "markdown",
   "metadata": {},
   "source": [
    "# 5. LangChain Expression Language（LCEL）徹底解説\n"
   ]
  },
  {
   "cell_type": "code",
   "execution_count": 1,
   "metadata": {
    "execution": {
     "iopub.execute_input": "2024-06-28T02:32:34.489407Z",
     "iopub.status.busy": "2024-06-28T02:32:34.488775Z",
     "iopub.status.idle": "2024-06-28T02:32:34.491583Z",
     "shell.execute_reply": "2024-06-28T02:32:34.491086Z"
    }
   },
   "outputs": [
    {
     "data": {
      "text/plain": [
       "AIMessage(content='Hello! How can I assist you today?', additional_kwargs={'refusal': None}, response_metadata={'token_usage': {'completion_tokens': 10, 'prompt_tokens': 11, 'total_tokens': 21, 'completion_tokens_details': {'accepted_prediction_tokens': 0, 'audio_tokens': 0, 'reasoning_tokens': 0, 'rejected_prediction_tokens': 0}, 'prompt_tokens_details': {'audio_tokens': 0, 'cached_tokens': 0}}, 'model_name': 'gpt-3.5-turbo-0125', 'system_fingerprint': None, 'finish_reason': 'stop', 'logprobs': None}, id='run-3e466f1c-0a1f-4941-ba5d-3c0514f8eed2-0', usage_metadata={'input_tokens': 11, 'output_tokens': 10, 'total_tokens': 21})"
      ]
     },
     "execution_count": 1,
     "metadata": {},
     "output_type": "execute_result"
    }
   ],
   "source": [
    "import os\n",
    "# from google.colab import userdata\\\\\n",
    "from dotenv import load_dotenv\n",
    "\n",
    "load_dotenv()\n",
    "\n",
    "os.environ[\"OPENAI_API_KEY\"] = os.getenv(\"OPENAI_API_KEY\")\n",
    "os.environ[\"LANGCHAIN_TRACING_V2\"] = \"true\"\n",
    "os.environ[\"LANGCHAIN_ENDPOINT\"] = \"https://api.smith.langchain.com\"\n",
    "os.environ[\"LANGCHAIN_API_KEY\"] = os.getenv(\"LANGCHAIN_API_KEY\")\n",
    "os.environ[\"LANGCHAIN_PROJECT\"] = \"agent-book\"\n",
    "\n",
    "# os.environ[\"LANGCHAIN_API_KEY\"] = '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'\n",
    "\n",
    "# !export LANGCHAIN_TRACING_V2=true\n",
    "# !export LANGCHAIN_ENDPOINT=\"https://api.smith.langchain.com\"\n",
    "# !export LANGCHAIN_API_KEY=\"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\"\n",
    "# !export LANGCHAIN_PROJECT=\"agent-book\"\n",
    "\n",
    "from langchain_openai import ChatOpenAI\n",
    "\n",
    "llm = ChatOpenAI()\n",
    "llm.invoke(\"Hello, world!\")"
   ]
  },
  {
   "cell_type": "code",
   "execution_count": 1,
   "metadata": {},
   "outputs": [
    {
     "name": "stdout",
     "output_type": "stream",
     "text": [
      "Defaulting to user installation because normal site-packages is not writeable\n",
      "Collecting langchain-core==0.3.0\n",
      "  Downloading langchain_core-0.3.0-py3-none-any.whl (405 kB)\n",
      "\u001b[2K     \u001b[90m━━━━━━━━━━━━━━━━━━━━━━━━━━━━━━━━━━━━━━\u001b[0m \u001b[32m405.1/405.1 kB\u001b[0m \u001b[31m10.9 MB/s\u001b[0m eta \u001b[36m0:00:00\u001b[0m00:01\u001b[0m\n",
      "\u001b[?25hCollecting langchain-openai==0.2.0\n",
      "  Downloading langchain_openai-0.2.0-py3-none-any.whl (51 kB)\n",
      "\u001b[2K     \u001b[90m━━━━━━━━━━━━━━━━━━━━━━━━━━━━━━━━━━━━━━━━\u001b[0m \u001b[32m51.5/51.5 kB\u001b[0m \u001b[31m6.4 MB/s\u001b[0m eta \u001b[36m0:00:00\u001b[0m\n",
      "\u001b[?25hCollecting langchain-community==0.3.0\n",
      "  Downloading langchain_community-0.3.0-py3-none-any.whl (2.3 MB)\n",
      "\u001b[2K     \u001b[90m━━━━━━━━━━━━━━━━━━━━━━━━━━━━━━━━━━━━━━━━\u001b[0m \u001b[32m2.3/2.3 MB\u001b[0m \u001b[31m37.9 MB/s\u001b[0m eta \u001b[36m0:00:00\u001b[0ma \u001b[36m0:00:01\u001b[0m\n",
      "\u001b[?25hRequirement already satisfied: PyYAML>=5.3 in /usr/local/lib/python3.10/site-packages (from langchain-core==0.3.0) (6.0.2)\n",
      "Collecting langsmith<0.2.0,>=0.1.117\n",
      "  Downloading langsmith-0.1.147-py3-none-any.whl (311 kB)\n",
      "\u001b[2K     \u001b[90m━━━━━━━━━━━━━━━━━━━━━━━━━━━━━━━━━━━━━━\u001b[0m \u001b[32m311.8/311.8 kB\u001b[0m \u001b[31m24.6 MB/s\u001b[0m eta \u001b[36m0:00:00\u001b[0m\n",
      "\u001b[?25hCollecting tenacity!=8.4.0,<9.0.0,>=8.1.0\n",
      "  Downloading tenacity-8.5.0-py3-none-any.whl (28 kB)\n",
      "Collecting jsonpatch<2.0,>=1.33\n",
      "  Downloading jsonpatch-1.33-py2.py3-none-any.whl (12 kB)\n",
      "Requirement already satisfied: packaging<25,>=23.2 in /usr/local/lib/python3.10/site-packages (from langchain-core==0.3.0) (24.2)\n",
      "Requirement already satisfied: typing-extensions>=4.7 in /usr/local/lib/python3.10/site-packages (from langchain-core==0.3.0) (4.12.2)\n",
      "Collecting pydantic<3.0.0,>=2.5.2\n",
      "  Downloading pydantic-2.10.4-py3-none-any.whl (431 kB)\n",
      "\u001b[2K     \u001b[90m━━━━━━━━━━━━━━━━━━━━━━━━━━━━━━━━━━━━━━\u001b[0m \u001b[32m431.8/431.8 kB\u001b[0m \u001b[31m29.5 MB/s\u001b[0m eta \u001b[36m0:00:00\u001b[0m\n",
      "\u001b[?25hCollecting tiktoken<1,>=0.7\n",
      "  Downloading tiktoken-0.8.0-cp310-cp310-manylinux_2_17_x86_64.manylinux2014_x86_64.whl (1.2 MB)\n",
      "\u001b[2K     \u001b[90m━━━━━━━━━━━━━━━━━━━━━━━━━━━━━━━━━━━━━━━━\u001b[0m \u001b[32m1.2/1.2 MB\u001b[0m \u001b[31m37.9 MB/s\u001b[0m eta \u001b[36m0:00:00\u001b[0m\n",
      "\u001b[?25hCollecting openai<2.0.0,>=1.40.0\n",
      "  Downloading openai-1.58.1-py3-none-any.whl (454 kB)\n",
      "\u001b[2K     \u001b[90m━━━━━━━━━━━━━━━━━━━━━━━━━━━━━━━━━━━━━━\u001b[0m \u001b[32m454.3/454.3 kB\u001b[0m \u001b[31m34.9 MB/s\u001b[0m eta \u001b[36m0:00:00\u001b[0m\n",
      "\u001b[?25hCollecting aiohttp<4.0.0,>=3.8.3\n",
      "  Downloading aiohttp-3.11.11-cp310-cp310-manylinux_2_17_x86_64.manylinux2014_x86_64.whl (1.6 MB)\n",
      "\u001b[2K     \u001b[90m━━━━━━━━━━━━━━━━━━━━━━━━━━━━━━━━━━━━━━━━\u001b[0m \u001b[32m1.6/1.6 MB\u001b[0m \u001b[31m35.1 MB/s\u001b[0m eta \u001b[36m0:00:00\u001b[0m00:01\u001b[0m\n",
      "\u001b[?25hRequirement already satisfied: requests<3,>=2 in /usr/local/lib/python3.10/site-packages (from langchain-community==0.3.0) (2.32.3)\n",
      "Collecting langchain<0.4.0,>=0.3.0\n",
      "  Downloading langchain-0.3.13-py3-none-any.whl (1.0 MB)\n",
      "\u001b[2K     \u001b[90m━━━━━━━━━━━━━━━━━━━━━━━━━━━━━━━━━━━━━━━━\u001b[0m \u001b[32m1.0/1.0 MB\u001b[0m \u001b[31m38.2 MB/s\u001b[0m eta \u001b[36m0:00:00\u001b[0m\n",
      "\u001b[?25hCollecting dataclasses-json<0.7,>=0.5.7\n",
      "  Downloading dataclasses_json-0.6.7-py3-none-any.whl (28 kB)\n",
      "Collecting numpy<2,>=1\n",
      "  Downloading numpy-1.26.4-cp310-cp310-manylinux_2_17_x86_64.manylinux2014_x86_64.whl (18.2 MB)\n",
      "\u001b[2K     \u001b[90m━━━━━━━━━━━━━━━━━━━━━━━━━━━━━━━━━━━━━━━━\u001b[0m \u001b[32m18.2/18.2 MB\u001b[0m \u001b[31m33.7 MB/s\u001b[0m eta \u001b[36m0:00:00\u001b[0m00:01\u001b[0m00:01\u001b[0m\n",
      "\u001b[?25hCollecting pydantic-settings<3.0.0,>=2.4.0\n",
      "  Downloading pydantic_settings-2.7.0-py3-none-any.whl (29 kB)\n",
      "Collecting SQLAlchemy<3,>=1.4\n",
      "  Downloading SQLAlchemy-2.0.36-cp310-cp310-manylinux_2_17_x86_64.manylinux2014_x86_64.whl (3.1 MB)\n",
      "\u001b[2K     \u001b[90m━━━━━━━━━━━━━━━━━━━━━━━━━━━━━━━━━━━━━━━━\u001b[0m \u001b[32m3.1/3.1 MB\u001b[0m \u001b[31m30.3 MB/s\u001b[0m eta \u001b[36m0:00:00\u001b[0ma \u001b[36m0:00:01\u001b[0m\n",
      "\u001b[?25hCollecting aiosignal>=1.1.2\n",
      "  Downloading aiosignal-1.3.2-py2.py3-none-any.whl (7.6 kB)\n",
      "Collecting multidict<7.0,>=4.5\n",
      "  Downloading multidict-6.1.0-cp310-cp310-manylinux_2_17_x86_64.manylinux2014_x86_64.whl (124 kB)\n",
      "\u001b[2K     \u001b[90m━━━━━━━━━━━━━━━━━━━━━━━━━━━━━━━━━━━━━━\u001b[0m \u001b[32m124.6/124.6 kB\u001b[0m \u001b[31m14.8 MB/s\u001b[0m eta \u001b[36m0:00:00\u001b[0m\n",
      "\u001b[?25hCollecting aiohappyeyeballs>=2.3.0\n",
      "  Downloading aiohappyeyeballs-2.4.4-py3-none-any.whl (14 kB)\n",
      "Collecting async-timeout<6.0,>=4.0\n",
      "  Downloading async_timeout-5.0.1-py3-none-any.whl (6.2 kB)\n",
      "Collecting propcache>=0.2.0\n",
      "  Downloading propcache-0.2.1-cp310-cp310-manylinux_2_17_x86_64.manylinux2014_x86_64.whl (205 kB)\n",
      "\u001b[2K     \u001b[90m━━━━━━━━━━━━━━━━━━━━━━━━━━━━━━━━━━━━━━\u001b[0m \u001b[32m205.1/205.1 kB\u001b[0m \u001b[31m18.3 MB/s\u001b[0m eta \u001b[36m0:00:00\u001b[0m\n",
      "\u001b[?25hCollecting frozenlist>=1.1.1\n",
      "  Downloading frozenlist-1.5.0-cp310-cp310-manylinux_2_5_x86_64.manylinux1_x86_64.manylinux_2_17_x86_64.manylinux2014_x86_64.whl (241 kB)\n",
      "\u001b[2K     \u001b[90m━━━━━━━━━━━━━━━━━━━━━━━━━━━━━━━━━━━━━━\u001b[0m \u001b[32m241.9/241.9 kB\u001b[0m \u001b[31m36.5 MB/s\u001b[0m eta \u001b[36m0:00:00\u001b[0m\n",
      "\u001b[?25hCollecting yarl<2.0,>=1.17.0\n",
      "  Downloading yarl-1.18.3-cp310-cp310-manylinux_2_17_x86_64.manylinux2014_x86_64.whl (319 kB)\n",
      "\u001b[2K     \u001b[90m━━━━━━━━━━━━━━━━━━━━━━━━━━━━━━━━━━━━━━\u001b[0m \u001b[32m319.7/319.7 kB\u001b[0m \u001b[31m19.3 MB/s\u001b[0m eta \u001b[36m0:00:00\u001b[0m\n",
      "\u001b[?25hRequirement already satisfied: attrs>=17.3.0 in /usr/local/lib/python3.10/site-packages (from aiohttp<4.0.0,>=3.8.3->langchain-community==0.3.0) (24.3.0)\n",
      "Collecting marshmallow<4.0.0,>=3.18.0\n",
      "  Downloading marshmallow-3.23.2-py3-none-any.whl (49 kB)\n",
      "\u001b[2K     \u001b[90m━━━━━━━━━━━━━━━━━━━━━━━━━━━━━━━━━━━━━━━━\u001b[0m \u001b[32m49.3/49.3 kB\u001b[0m \u001b[31m10.4 MB/s\u001b[0m eta \u001b[36m0:00:00\u001b[0m\n",
      "\u001b[?25hCollecting typing-inspect<1,>=0.4.0\n",
      "  Downloading typing_inspect-0.9.0-py3-none-any.whl (8.8 kB)\n",
      "Requirement already satisfied: jsonpointer>=1.9 in /usr/local/lib/python3.10/site-packages (from jsonpatch<2.0,>=1.33->langchain-core==0.3.0) (3.0.0)\n",
      "Collecting langchain-text-splitters<0.4.0,>=0.3.3\n",
      "  Downloading langchain_text_splitters-0.3.4-py3-none-any.whl (27 kB)\n",
      "Collecting async-timeout<6.0,>=4.0\n",
      "  Downloading async_timeout-4.0.3-py3-none-any.whl (5.7 kB)\n",
      "Collecting langchain<0.4.0,>=0.3.0\n",
      "  Downloading langchain-0.3.12-py3-none-any.whl (1.0 MB)\n",
      "\u001b[2K     \u001b[90m━━━━━━━━━━━━━━━━━━━━━━━━━━━━━━━━━━━━━━━━\u001b[0m \u001b[32m1.0/1.0 MB\u001b[0m \u001b[31m34.7 MB/s\u001b[0m eta \u001b[36m0:00:00\u001b[0m\n",
      "\u001b[?25h  Downloading langchain-0.3.11-py3-none-any.whl (1.0 MB)\n",
      "\u001b[2K     \u001b[90m━━━━━━━━━━━━━━━━━━━━━━━━━━━━━━━━━━━━━━━━\u001b[0m \u001b[32m1.0/1.0 MB\u001b[0m \u001b[31m35.3 MB/s\u001b[0m eta \u001b[36m0:00:00\u001b[0m\n",
      "\u001b[?25h  Downloading langchain-0.3.10-py3-none-any.whl (1.0 MB)\n",
      "\u001b[2K     \u001b[90m━━━━━━━━━━━━━━━━━━━━━━━━━━━━━━━━━━━━━━━━\u001b[0m \u001b[32m1.0/1.0 MB\u001b[0m \u001b[31m34.6 MB/s\u001b[0m eta \u001b[36m0:00:00\u001b[0m\n",
      "\u001b[?25h  Downloading langchain-0.3.9-py3-none-any.whl (1.0 MB)\n",
      "\u001b[2K     \u001b[90m━━━━━━━━━━━━━━━━━━━━━━━━━━━━━━━━━━━━━━━━\u001b[0m \u001b[32m1.0/1.0 MB\u001b[0m \u001b[31m25.9 MB/s\u001b[0m eta \u001b[36m0:00:00\u001b[0m00:01\u001b[0m\n",
      "\u001b[?25h  Downloading langchain-0.3.8-py3-none-any.whl (1.0 MB)\n",
      "\u001b[2K     \u001b[90m━━━━━━━━━━━━━━━━━━━━━━━━━━━━━━━━━━━━━━━━\u001b[0m \u001b[32m1.0/1.0 MB\u001b[0m \u001b[31m25.1 MB/s\u001b[0m eta \u001b[36m0:00:00\u001b[0m00:01\u001b[0m\n",
      "\u001b[?25h  Downloading langchain-0.3.7-py3-none-any.whl (1.0 MB)\n",
      "\u001b[2K     \u001b[90m━━━━━━━━━━━━━━━━━━━━━━━━━━━━━━━━━━━━━━━━\u001b[0m \u001b[32m1.0/1.0 MB\u001b[0m \u001b[31m27.8 MB/s\u001b[0m eta \u001b[36m0:00:00\u001b[0m00:01\u001b[0m\n",
      "\u001b[?25h  Downloading langchain-0.3.6-py3-none-any.whl (1.0 MB)\n",
      "\u001b[2K     \u001b[90m━━━━━━━━━━━━━━━━━━━━━━━━━━━━━━━━━━━━━━━━\u001b[0m \u001b[32m1.0/1.0 MB\u001b[0m \u001b[31m26.8 MB/s\u001b[0m eta \u001b[36m0:00:00\u001b[0m00:01\u001b[0m\n",
      "\u001b[?25h  Downloading langchain-0.3.5-py3-none-any.whl (1.0 MB)\n",
      "\u001b[2K     \u001b[90m━━━━━━━━━━━━━━━━━━━━━━━━━━━━━━━━━━━━━━━━\u001b[0m \u001b[32m1.0/1.0 MB\u001b[0m \u001b[31m24.2 MB/s\u001b[0m eta \u001b[36m0:00:00\u001b[0m00:01\u001b[0m\n",
      "\u001b[?25h  Downloading langchain-0.3.4-py3-none-any.whl (1.0 MB)\n",
      "\u001b[2K     \u001b[90m━━━━━━━━━━━━━━━━━━━━━━━━━━━━━━━━━━━━━━━━\u001b[0m \u001b[32m1.0/1.0 MB\u001b[0m \u001b[31m27.8 MB/s\u001b[0m eta \u001b[36m0:00:00\u001b[0m00:01\u001b[0m\n",
      "\u001b[?25h  Downloading langchain-0.3.3-py3-none-any.whl (1.0 MB)\n",
      "\u001b[2K     \u001b[90m━━━━━━━━━━━━━━━━━━━━━━━━━━━━━━━━━━━━━━━━\u001b[0m \u001b[32m1.0/1.0 MB\u001b[0m \u001b[31m28.2 MB/s\u001b[0m eta \u001b[36m0:00:00\u001b[0m00:01\u001b[0m\n",
      "\u001b[?25h  Downloading langchain-0.3.2-py3-none-any.whl (1.0 MB)\n",
      "\u001b[2K     \u001b[90m━━━━━━━━━━━━━━━━━━━━━━━━━━━━━━━━━━━━━━━━\u001b[0m \u001b[32m1.0/1.0 MB\u001b[0m \u001b[31m30.4 MB/s\u001b[0m eta \u001b[36m0:00:00\u001b[0m\n",
      "\u001b[?25h  Downloading langchain-0.3.1-py3-none-any.whl (1.0 MB)\n",
      "\u001b[2K     \u001b[90m━━━━━━━━━━━━━━━━━━━━━━━━━━━━━━━━━━━━━━━━\u001b[0m \u001b[32m1.0/1.0 MB\u001b[0m \u001b[31m33.3 MB/s\u001b[0m eta \u001b[36m0:00:00\u001b[0m\n",
      "\u001b[?25h  Downloading langchain-0.3.0-py3-none-any.whl (1.0 MB)\n",
      "\u001b[2K     \u001b[90m━━━━━━━━━━━━━━━━━━━━━━━━━━━━━━━━━━━━━━━━\u001b[0m \u001b[32m1.0/1.0 MB\u001b[0m \u001b[31m31.1 MB/s\u001b[0m eta \u001b[36m0:00:00\u001b[0m\n",
      "\u001b[?25hCollecting orjson<4.0.0,>=3.9.14\n",
      "  Downloading orjson-3.10.12-cp310-cp310-manylinux_2_17_x86_64.manylinux2014_x86_64.whl (131 kB)\n",
      "\u001b[2K     \u001b[90m━━━━━━━━━━━━━━━━━━━━━━━━━━━━━━━━━━━━━━\u001b[0m \u001b[32m131.3/131.3 kB\u001b[0m \u001b[31m11.7 MB/s\u001b[0m eta \u001b[36m0:00:00\u001b[0m\n",
      "\u001b[?25hCollecting requests-toolbelt<2.0.0,>=1.0.0\n",
      "  Downloading requests_toolbelt-1.0.0-py2.py3-none-any.whl (54 kB)\n",
      "\u001b[2K     \u001b[90m━━━━━━━━━━━━━━━━━━━━━━━━━━━━━━━━━━━━━━━━\u001b[0m \u001b[32m54.5/54.5 kB\u001b[0m \u001b[31m7.8 MB/s\u001b[0m eta \u001b[36m0:00:00\u001b[0m\n",
      "\u001b[?25hRequirement already satisfied: httpx<1,>=0.23.0 in /usr/local/lib/python3.10/site-packages (from langsmith<0.2.0,>=0.1.117->langchain-core==0.3.0) (0.28.1)\n",
      "Requirement already satisfied: anyio<5,>=3.5.0 in /usr/local/lib/python3.10/site-packages (from openai<2.0.0,>=1.40.0->langchain-openai==0.2.0) (4.7.0)\n",
      "Collecting distro<2,>=1.7.0\n",
      "  Downloading distro-1.9.0-py3-none-any.whl (20 kB)\n",
      "Collecting jiter<1,>=0.4.0\n",
      "  Downloading jiter-0.8.2-cp310-cp310-manylinux_2_17_x86_64.manylinux2014_x86_64.whl (345 kB)\n",
      "\u001b[2K     \u001b[90m━━━━━━━━━━━━━━━━━━━━━━━━━━━━━━━━━━━━━━\u001b[0m \u001b[32m345.0/345.0 kB\u001b[0m \u001b[31m25.9 MB/s\u001b[0m eta \u001b[36m0:00:00\u001b[0m\n",
      "\u001b[?25hCollecting tqdm>4\n",
      "  Downloading tqdm-4.67.1-py3-none-any.whl (78 kB)\n",
      "\u001b[2K     \u001b[90m━━━━━━━━━━━━━━━━━━━━━━━━━━━━━━━━━━━━━━━━\u001b[0m \u001b[32m78.5/78.5 kB\u001b[0m \u001b[31m11.4 MB/s\u001b[0m eta \u001b[36m0:00:00\u001b[0m\n",
      "\u001b[?25hRequirement already satisfied: sniffio in /usr/local/lib/python3.10/site-packages (from openai<2.0.0,>=1.40.0->langchain-openai==0.2.0) (1.3.1)\n",
      "Collecting pydantic-core==2.27.2\n",
      "  Downloading pydantic_core-2.27.2-cp310-cp310-manylinux_2_17_x86_64.manylinux2014_x86_64.whl (2.0 MB)\n",
      "\u001b[2K     \u001b[90m━━━━━━━━━━━━━━━━━━━━━━━━━━━━━━━━━━━━━━━━\u001b[0m \u001b[32m2.0/2.0 MB\u001b[0m \u001b[31m34.0 MB/s\u001b[0m eta \u001b[36m0:00:00\u001b[0ma \u001b[36m0:00:01\u001b[0m\n",
      "\u001b[?25hCollecting annotated-types>=0.6.0\n",
      "  Downloading annotated_types-0.7.0-py3-none-any.whl (13 kB)\n",
      "Collecting python-dotenv>=0.21.0\n",
      "  Downloading python_dotenv-1.0.1-py3-none-any.whl (19 kB)\n",
      "Requirement already satisfied: urllib3<3,>=1.21.1 in /usr/local/lib/python3.10/site-packages (from requests<3,>=2->langchain-community==0.3.0) (2.3.0)\n",
      "Requirement already satisfied: charset-normalizer<4,>=2 in /usr/local/lib/python3.10/site-packages (from requests<3,>=2->langchain-community==0.3.0) (3.4.0)\n",
      "Requirement already satisfied: idna<4,>=2.5 in /usr/local/lib/python3.10/site-packages (from requests<3,>=2->langchain-community==0.3.0) (3.10)\n",
      "Requirement already satisfied: certifi>=2017.4.17 in /usr/local/lib/python3.10/site-packages (from requests<3,>=2->langchain-community==0.3.0) (2024.12.14)\n",
      "Collecting greenlet!=0.4.17\n",
      "  Downloading greenlet-3.1.1-cp310-cp310-manylinux_2_24_x86_64.manylinux_2_28_x86_64.whl (599 kB)\n",
      "\u001b[2K     \u001b[90m━━━━━━━━━━━━━━━━━━━━━━━━━━━━━━━━━━━━━━\u001b[0m \u001b[32m599.5/599.5 kB\u001b[0m \u001b[31m33.6 MB/s\u001b[0m eta \u001b[36m0:00:00\u001b[0m\n",
      "\u001b[?25hCollecting regex>=2022.1.18\n",
      "  Downloading regex-2024.11.6-cp310-cp310-manylinux_2_17_x86_64.manylinux2014_x86_64.whl (781 kB)\n",
      "\u001b[2K     \u001b[90m━━━━━━━━━━━━━━━━━━━━━━━━━━━━━━━━━━━━━━\u001b[0m \u001b[32m781.7/781.7 kB\u001b[0m \u001b[31m33.8 MB/s\u001b[0m eta \u001b[36m0:00:00\u001b[0m\n",
      "\u001b[?25hRequirement already satisfied: exceptiongroup>=1.0.2 in /usr/local/lib/python3.10/site-packages (from anyio<5,>=3.5.0->openai<2.0.0,>=1.40.0->langchain-openai==0.2.0) (1.2.2)\n",
      "Requirement already satisfied: httpcore==1.* in /usr/local/lib/python3.10/site-packages (from httpx<1,>=0.23.0->langsmith<0.2.0,>=0.1.117->langchain-core==0.3.0) (1.0.7)\n",
      "Requirement already satisfied: h11<0.15,>=0.13 in /usr/local/lib/python3.10/site-packages (from httpcore==1.*->httpx<1,>=0.23.0->langsmith<0.2.0,>=0.1.117->langchain-core==0.3.0) (0.14.0)\n",
      "Collecting langchain-text-splitters<0.4.0,>=0.3.0\n",
      "  Downloading langchain_text_splitters-0.3.3-py3-none-any.whl (27 kB)\n",
      "  Downloading langchain_text_splitters-0.3.2-py3-none-any.whl (25 kB)\n",
      "  Downloading langchain_text_splitters-0.3.1-py3-none-any.whl (25 kB)\n",
      "  Downloading langchain_text_splitters-0.3.0-py3-none-any.whl (25 kB)\n",
      "Collecting mypy-extensions>=0.3.0\n",
      "  Downloading mypy_extensions-1.0.0-py3-none-any.whl (4.7 kB)\n",
      "Installing collected packages: tqdm, tenacity, regex, python-dotenv, pydantic-core, propcache, orjson, numpy, mypy-extensions, multidict, marshmallow, jsonpatch, jiter, greenlet, frozenlist, distro, async-timeout, annotated-types, aiohappyeyeballs, yarl, typing-inspect, tiktoken, SQLAlchemy, requests-toolbelt, pydantic, aiosignal, pydantic-settings, openai, langsmith, dataclasses-json, aiohttp, langchain-core, langchain-text-splitters, langchain-openai, langchain, langchain-community\n",
      "Successfully installed SQLAlchemy-2.0.36 aiohappyeyeballs-2.4.4 aiohttp-3.11.11 aiosignal-1.3.2 annotated-types-0.7.0 async-timeout-4.0.3 dataclasses-json-0.6.7 distro-1.9.0 frozenlist-1.5.0 greenlet-3.1.1 jiter-0.8.2 jsonpatch-1.33 langchain-0.3.0 langchain-community-0.3.0 langchain-core-0.3.0 langchain-openai-0.2.0 langchain-text-splitters-0.3.0 langsmith-0.1.147 marshmallow-3.23.2 multidict-6.1.0 mypy-extensions-1.0.0 numpy-1.26.4 openai-1.58.1 orjson-3.10.12 propcache-0.2.1 pydantic-2.10.4 pydantic-core-2.27.2 pydantic-settings-2.7.0 python-dotenv-1.0.1 regex-2024.11.6 requests-toolbelt-1.0.0 tenacity-8.5.0 tiktoken-0.7.0 tqdm-4.67.1 typing-inspect-0.9.0 yarl-1.18.3\n",
      "\n",
      "\u001b[1m[\u001b[0m\u001b[34;49mnotice\u001b[0m\u001b[1;39;49m]\u001b[0m\u001b[39;49m A new release of pip is available: \u001b[0m\u001b[31;49m23.0.1\u001b[0m\u001b[39;49m -> \u001b[0m\u001b[32;49m24.3.1\u001b[0m\n",
      "\u001b[1m[\u001b[0m\u001b[34;49mnotice\u001b[0m\u001b[1;39;49m]\u001b[0m\u001b[39;49m To update, run: \u001b[0m\u001b[32;49mpip install --upgrade pip\u001b[0m\n"
     ]
    }
   ],
   "source": [
    "!pip install langchain-core==0.3.0 langchain-openai==0.2.0 langchain-community==0.3.0"
   ]
  },
  {
   "cell_type": "markdown",
   "metadata": {},
   "source": [
    "## 5.1. Runnable と RunnableSequence―LCEL の最も基本的な構成要素\n"
   ]
  },
  {
   "cell_type": "code",
   "execution_count": 30,
   "metadata": {
    "execution": {
     "iopub.execute_input": "2024-06-28T02:33:12.290335Z",
     "iopub.status.busy": "2024-06-28T02:33:12.290156Z",
     "iopub.status.idle": "2024-06-28T02:33:12.344661Z",
     "shell.execute_reply": "2024-06-28T02:33:12.344241Z"
    }
   },
   "outputs": [],
   "source": [
    "from langchain_core.output_parsers import StrOutputParser\n",
    "from langchain_core.prompts import ChatPromptTemplate\n",
    "from langchain_openai import ChatOpenAI\n",
    "\n",
    "prompt = ChatPromptTemplate.from_messages(\n",
    "    [\n",
    "        (\"system\", \"ユーザーが入力した料理のレシピを考えてください。\"),\n",
    "        (\"human\", \"{dish}\"),\n",
    "    ]\n",
    ")\n",
    "\n",
    "model = ChatOpenAI(model=\"gpt-4o-mini\", temperature=0)\n",
    "\n",
    "output_parser = StrOutputParser()\n",
    "\n",
    "# from langchain_core.output_parsers import StrOutputParser\n",
    "# from langchain_core.prompts import ChatPromptTemplate\n",
    "# from langchain_openai import ChatOpenAI\n",
    "\n",
    "# prompt = ChatPromptTemplate.from_messages(\n",
    "#     [\n",
    "#         ('system', 'ユーザーが入力した料理のレシピを考えてください。'),\n",
    "#         ('human', '{dish}')\n",
    "#     ]\n",
    "# )\n",
    "\n",
    "# model = ChatOpenAI(model='gpt-4o-mini', temperature=0)\n",
    "\n",
    "# output_parser = StrOutputParser()"
   ]
  },
  {
   "cell_type": "code",
   "execution_count": 31,
   "metadata": {
    "execution": {
     "iopub.execute_input": "2024-06-28T02:33:12.346689Z",
     "iopub.status.busy": "2024-06-28T02:33:12.346510Z",
     "iopub.status.idle": "2024-06-28T02:33:21.108437Z",
     "shell.execute_reply": "2024-06-28T02:33:21.108007Z"
    }
   },
   "outputs": [
    {
     "name": "stdout",
     "output_type": "stream",
     "text": [
      "カレーのレシピをご紹介します！以下は基本的なチキンカレーのレシピです。\n",
      "\n",
      "### 材料（4人分）\n",
      "- 鶏もも肉：400g（食べやすい大きさにカット）\n",
      "- 玉ねぎ：2個（みじん切り）\n",
      "- にんにく：2片（みじん切り）\n",
      "- 生姜：1片（みじん切り）\n",
      "- トマト：1個（ざく切り）\n",
      "- カレーパウダー：大さじ2\n",
      "- クミンシード：小さじ1\n",
      "- ココナッツミルク：200ml（お好みで）\n",
      "- サラダ油：大さじ2\n",
      "- 塩：適量\n",
      "- 黒胡椒：適量\n",
      "- 水：400ml\n",
      "- パクチー（飾り用）：適量\n",
      "\n",
      "### 作り方\n",
      "1. **下準備**: 鶏肉に塩と黒胡椒を振りかけて下味をつけておきます。\n",
      "\n",
      "2. **玉ねぎを炒める**: 大きめの鍋にサラダ油を熱し、みじん切りにした玉ねぎを加え、中火で透明になるまで炒めます。\n",
      "\n",
      "3. **香辛料を加える**: にんにく、生姜、クミンシードを加え、香りが立つまでさらに炒めます。\n",
      "\n",
      "4. **鶏肉を加える**: 鶏肉を鍋に加え、表面が白くなるまで炒めます。\n",
      "\n",
      "5. **トマトとカレーパウダーを加える**: ざく切りにしたトマトとカレーパウダーを加え、全体をよく混ぜます。\n",
      "\n",
      "6. **煮込む**: 水を加え、沸騰したら弱火にして蓋をし、約20分煮込みます。鶏肉が柔らかくなるまで煮込んでください。\n",
      "\n",
      "7. **ココナッツミルクを加える**: 最後にココナッツミルクを加え、さらに5分ほど煮込みます。味を見て、必要に応じて塩で調整します。\n",
      "\n",
      "8. **盛り付け**: お皿に盛り付け、パクチーを散らして完成です。\n",
      "\n",
      "### 提供方法\n",
      "ご飯やナンと一緒にお召し上がりください。お好みでヨーグルトやサラダを添えると、より一層美味しく楽しめます！\n",
      "\n",
      "ぜひお試しください！\n"
     ]
    }
   ],
   "source": [
    "prompt_value = prompt.invoke({\"dish\": \"カレー\"})\n",
    "ai_message = model.invoke(prompt_value)\n",
    "output = output_parser.invoke(ai_message)\n",
    "\n",
    "print(output)\n",
    "\n",
    "# prompt_value = prompt.invoke({'dish':'カレー'})\n",
    "# ai_message = model.invoke(prompt_value)\n",
    "# output = output_parser.invoke(ai_message)\n",
    "\n",
    "# print(output)"
   ]
  },
  {
   "cell_type": "code",
   "execution_count": 32,
   "metadata": {
    "execution": {
     "iopub.execute_input": "2024-06-28T02:33:21.110332Z",
     "iopub.status.busy": "2024-06-28T02:33:21.110173Z",
     "iopub.status.idle": "2024-06-28T02:33:21.112634Z",
     "shell.execute_reply": "2024-06-28T02:33:21.112238Z"
    }
   },
   "outputs": [],
   "source": [
    "chain = prompt | model | output_parser\n",
    "# chain = prompt | model | output_parser"
   ]
  },
  {
   "cell_type": "code",
   "execution_count": 33,
   "metadata": {
    "execution": {
     "iopub.execute_input": "2024-06-28T02:33:21.114678Z",
     "iopub.status.busy": "2024-06-28T02:33:21.114418Z",
     "iopub.status.idle": "2024-06-28T02:33:26.539851Z",
     "shell.execute_reply": "2024-06-28T02:33:26.539250Z"
    }
   },
   "outputs": [
    {
     "name": "stdout",
     "output_type": "stream",
     "text": [
      "カレーのレシピをご紹介します。シンプルで美味しい基本のカレーを作りましょう。\n",
      "\n",
      "### 材料（4人分）\n",
      "- 鶏肉（もも肉または胸肉）: 400g\n",
      "- 玉ねぎ: 2個\n",
      "- にんじん: 1本\n",
      "- じゃがいも: 2個\n",
      "- カレールー: 1箱（約200g）\n",
      "- サラダ油: 大さじ2\n",
      "- 水: 800ml\n",
      "- 塩: 適量\n",
      "- 胡椒: 適量\n",
      "- お好みでガーリックパウダーや生姜: 適量\n",
      "\n",
      "### 作り方\n",
      "1. **材料の下ごしらえ**:\n",
      "   - 鶏肉は一口大に切り、塩と胡椒を振っておきます。\n",
      "   - 玉ねぎは薄切り、にんじんは輪切り、じゃがいもは一口大に切ります。\n",
      "\n",
      "2. **炒める**:\n",
      "   - 大きめの鍋にサラダ油を熱し、玉ねぎを中火で炒めます。玉ねぎが透明になるまで炒めます。\n",
      "   - 鶏肉を加え、表面が白くなるまで炒めます。\n",
      "\n",
      "3. **野菜を加える**:\n",
      "   - にんじんとじゃがいもを鍋に加え、全体をよく混ぜます。\n",
      "\n",
      "4. **煮る**:\n",
      "   - 水を加え、強火で煮立たせます。煮立ったら、アクを取り除き、中火にして蓋をし、約15分煮ます。\n",
      "\n",
      "5. **カレールーを加える**:\n",
      "   - 火を止めてカレールーを加え、よく溶かします。再び弱火にし、10分ほど煮込みます。お好みでガーリックパウダーや生姜を加えて風味を調整します。\n",
      "\n",
      "6. **仕上げ**:\n",
      "   - 味を見て、必要であれば塩で調整します。全体がなじんだら、火を止めます。\n",
      "\n",
      "7. **盛り付け**:\n",
      "   - ご飯と一緒に盛り付けて、お好みで福神漬けやらっきょうを添えて完成です。\n",
      "\n",
      "### おすすめのトッピング\n",
      "- チーズ\n",
      "- 生卵（温泉卵や目玉焼き）\n",
      "- 青ねぎやパセリの刻んだもの\n",
      "\n",
      "この基本のカレーは、具材を変えたり、スパイスを追加したりすることでアレンジが可能です。お好みに合わせて楽しんでください！\n"
     ]
    }
   ],
   "source": [
    "output = chain.invoke({\"dish\": \"カレー\"})\n",
    "print(output)\n",
    "\n",
    "# output = chain.invoke({'dish': 'カレー'})\n",
    "# print(output)"
   ]
  },
  {
   "cell_type": "markdown",
   "metadata": {},
   "source": [
    "### Runnable の実行方法―invoke・stream・batch\n"
   ]
  },
  {
   "cell_type": "code",
   "execution_count": 34,
   "metadata": {
    "execution": {
     "iopub.execute_input": "2024-06-28T02:33:26.545129Z",
     "iopub.status.busy": "2024-06-28T02:33:26.544905Z",
     "iopub.status.idle": "2024-06-28T02:33:32.478679Z",
     "shell.execute_reply": "2024-06-28T02:33:32.478134Z"
    }
   },
   "outputs": [
    {
     "name": "stdout",
     "output_type": "stream",
     "text": [
      "カレーのレシピをご紹介します。シンプルで美味しい基本的なチキンカレーの作り方です。\n",
      "\n",
      "### 材料（4人分）\n",
      "- 鶏もも肉：400g（大きめの一口大にカット）\n",
      "- 玉ねぎ：2個（みじん切り）\n",
      "- にんにく：2片（みじん切り）\n",
      "- 生姜：1片（みじん切り）\n",
      "- トマト：1個（ざく切り）\n",
      "- カレーパウダー：大さじ2\n",
      "- ココナッツミルク：200ml（または水）\n",
      "- サラダ油：大さじ2\n",
      "- 塩：適量\n",
      "- 黒胡椒：適量\n",
      "- パクチー（お好みで）：適量\n",
      "\n",
      "### 作り方\n",
      "1. **下ごしらえ**：\n",
      "   - 鶏もも肉に塩と黒胡椒をふりかけ、下味をつけておきます。\n",
      "\n",
      "2. **玉ねぎを炒める**：\n",
      "   - 大きめの鍋にサラダ油を熱し、みじん切りにした玉ねぎを加え、中火で透明になるまで炒めます。\n",
      "\n",
      "3. **香味野菜を加える**：\n",
      "   - にんにくと生姜を加え、香りが立つまでさらに炒めます。\n",
      "\n",
      "4. **鶏肉を加える**：\n",
      "   - 鶏もも肉を鍋に加え、表面が白くなるまで炒めます。\n",
      "\n",
      "5. **トマトとスパイスを加える**：\n",
      "   - ざく切りにしたトマトとカレーパウダーを加え、全体をよく混ぜます。トマトが崩れるまで炒めます。\n",
      "\n",
      "6. **煮込む**：\n",
      "   - ココナッツミルクを加え、全体を混ぜたら、蓋をして中弱火で約20分煮込みます。時々かき混ぜて、焦げ付かないように注意します。\n",
      "\n",
      "7. **味を調える**：\n",
      "   - 最後に塩で味を調整し、お好みでパクチーを散らして完成です。\n",
      "\n",
      "### 提供方法\n",
      "ご飯やナンと一緒に盛り付けて、お好みでヨーグルトやサラダを添えてお楽しみください。\n",
      "\n",
      "このレシピは基本的なチキンカレーですが、野菜や豆を加えたり、辛さを調整したりして、自分好みのアレンジを楽しんでください！"
     ]
    }
   ],
   "source": [
    "chain = prompt | model | output_parser\n",
    "\n",
    "for chunk in chain.stream({\"dish\": \"カレー\"}):\n",
    "    print(chunk, end=\"\", flush=True)\n",
    "\n",
    "# for chunk in chain.stream({'dish': 'カレー'}):\n",
    "#     print(chunk, end='', flush=True)"
   ]
  },
  {
   "cell_type": "code",
   "execution_count": 35,
   "metadata": {
    "execution": {
     "iopub.execute_input": "2024-06-28T02:33:32.480592Z",
     "iopub.status.busy": "2024-06-28T02:33:32.480406Z",
     "iopub.status.idle": "2024-06-28T02:33:38.976064Z",
     "shell.execute_reply": "2024-06-28T02:33:38.974376Z"
    }
   },
   "outputs": [
    {
     "name": "stdout",
     "output_type": "stream",
     "text": [
      "['カレーのレシピをご紹介します！以下は基本的なチキンカレーのレシピです。\\n\\n### 材料（4人分）\\n- 鶏もも肉：400g（食べやすい大きさにカット）\\n- 玉ねぎ：2個（みじん切り）\\n- にんにく：2片（みじん切り）\\n- 生姜：1片（みじん切り）\\n- トマト：1個（ざく切り）\\n- カレーパウダー：大さじ2\\n- クミンシード：小さじ1（お好みで）\\n- ココナッツミルク：200ml（お好みで）\\n- サラダ油：大さじ2\\n- 塩：適量\\n- 黒胡椒：適量\\n- 水：400ml\\n- パクチー（飾り用）：適量\\n\\n### 作り方\\n1. **下準備**: 鶏肉に塩と黒胡椒を振りかけて下味をつけておきます。\\n\\n2. **玉ねぎを炒める**: 大きめの鍋にサラダ油を熱し、みじん切りにした玉ねぎを加え、中火で透明になるまで炒めます。\\n\\n3. **香味野菜を加える**: にんにくと生姜を加え、香りが立つまでさらに炒めます。\\n\\n4. **鶏肉を加える**: 鶏肉を鍋に加え、表面が白くなるまで炒めます。\\n\\n5. **スパイスを加える**: カレーパウダーとクミンシードを加え、全体に絡めるように炒めます。\\n\\n6. **トマトと水を加える**: ざく切りにしたトマトと水を加え、煮立たせます。煮立ったら、弱火にして蓋をし、約20分煮込みます。\\n\\n7. **ココナッツミルクを加える**: ココナッツミルクを加え、さらに5分ほど煮込みます。味を見て、必要に応じて塩で調整します。\\n\\n8. **盛り付け**: お皿に盛り付け、パクチーを散らして完成です。\\n\\n### 提供方法\\nご飯やナンと一緒にお楽しみください。お好みでヨーグルトやサラダを添えると、より美味しくいただけます。\\n\\nぜひお試しください！', 'うどんのレシピをご紹介します。シンプルで美味しい「かけうどん」の作り方です。\\n\\n### 材料（2人分）\\n- うどん（乾麺または生麺）: 2玉\\n- だし汁: 600ml\\n  - だしの素: 大さじ1（または昆布と鰹節を使って自家製だしを取る）\\n  - 水: 600ml\\n- 醤油: 大さじ2\\n- みりん: 大さじ1\\n- 塩: 少々\\n- トッピング（お好みで）:\\n  - ネギ（小口切り）\\n  - 天かす\\n  - かまぼこ\\n  - ほうれん草やわかめ\\n  - すりごま\\n  - 生卵（温泉卵でも可）\\n\\n### 作り方\\n\\n1. **だしを取る**:\\n   - 鍋に水を入れ、だしの素を加えて中火にかけます。自家製だしを使う場合は、昆布を水に浸けておき、沸騰直前に鰹節を加え、火を止めて数分置いてからこします。\\n\\n2. **だし汁を味付け**:\\n   - だしが取れたら、醤油、みりん、塩を加えて味を整えます。軽く煮立たせて、味がなじむようにします。\\n\\n3. **うどんを茹でる**:\\n   - 別の鍋にたっぷりの水を沸かし、うどんをパッケージの指示に従って茹でます。茹で上がったら、冷水でしっかりと洗い、ぬめりを取ります。\\n\\n4. **盛り付け**:\\n   - 器に茹でたうどんを盛り、その上から温めただし汁を注ぎます。\\n\\n5. **トッピング**:\\n   - お好みのトッピングを加えます。ネギや天かす、かまぼこ、ほうれん草などを散らして、最後にすりごまや温泉卵をトッピングすると、さらに美味しくなります。\\n\\n6. **完成**:\\n   - すぐにお召し上がりください。温かいかけうどんは、寒い日にもぴったりです。\\n\\nお好みで、辛味大根や七味唐辛子を加えても美味しいです。ぜひお試しください！']\n"
     ]
    }
   ],
   "source": [
    "chain = prompt | model | output_parser\n",
    "\n",
    "outputs = chain.batch([{\"dish\": \"カレー\"}, {\"dish\": \"うどん\"}])\n",
    "print(outputs)"
   ]
  },
  {
   "cell_type": "code",
   "execution_count": 36,
   "metadata": {},
   "outputs": [
    {
     "name": "stdout",
     "output_type": "stream",
     "text": [
      "カ\n"
     ]
    }
   ],
   "source": [
    "print(output[0])"
   ]
  },
  {
   "cell_type": "markdown",
   "metadata": {},
   "source": [
    "### LCEL の「|」で様々な Runnable を連鎖させる\n"
   ]
  },
  {
   "cell_type": "code",
   "execution_count": 37,
   "metadata": {
    "execution": {
     "iopub.execute_input": "2024-06-28T02:33:38.984366Z",
     "iopub.status.busy": "2024-06-28T02:33:38.983620Z",
     "iopub.status.idle": "2024-06-28T02:33:39.072077Z",
     "shell.execute_reply": "2024-06-28T02:33:39.071585Z"
    }
   },
   "outputs": [],
   "source": [
    "from langchain_core.output_parsers import StrOutputParser\n",
    "from langchain_core.prompts import ChatPromptTemplate\n",
    "from langchain_openai import ChatOpenAI\n",
    "\n",
    "model = ChatOpenAI(model=\"gpt-4o-mini\", temperature=0)\n",
    "\n",
    "output_parser = StrOutputParser()\n",
    "\n",
    "# from langchain_core.output_parsers import StrOutputParser\n",
    "# from langchain_core.prompts import ChatPromptTemplate\n",
    "# from langchain_openai import ChatOpenAI\n",
    "\n",
    "# model = ChatOpenAI(model='gpt-4o-mini', temperature=0)\n",
    "# output_parser = StrOutputParser()"
   ]
  },
  {
   "cell_type": "code",
   "execution_count": 38,
   "metadata": {
    "execution": {
     "iopub.execute_input": "2024-06-28T02:33:39.073954Z",
     "iopub.status.busy": "2024-06-28T02:33:39.073805Z",
     "iopub.status.idle": "2024-06-28T02:33:39.076746Z",
     "shell.execute_reply": "2024-06-28T02:33:39.076291Z"
    }
   },
   "outputs": [],
   "source": [
    "cot_prompt = ChatPromptTemplate.from_messages(\n",
    "    [\n",
    "        (\"system\", \"ユーザーの質問にステップバイステップで回答してください。\"),\n",
    "        (\"human\", \"{question}\"),\n",
    "    ]\n",
    ")\n",
    "\n",
    "cot_chain = cot_prompt | model | output_parser\n",
    "\n",
    "# cot_prompt = ChatPromptTemplate.from_messages(\n",
    "#     [\n",
    "#         ('system', 'ユーザーの質問にステップバイステップで回答してください'),\n",
    "#         ('human', '{question}')\n",
    "#     ]\n",
    "# )\n",
    "\n",
    "# cot_chain = cot_prompt | model | output_parser"
   ]
  },
  {
   "cell_type": "code",
   "execution_count": 39,
   "metadata": {
    "execution": {
     "iopub.execute_input": "2024-06-28T02:33:39.078597Z",
     "iopub.status.busy": "2024-06-28T02:33:39.078287Z",
     "iopub.status.idle": "2024-06-28T02:33:39.080804Z",
     "shell.execute_reply": "2024-06-28T02:33:39.080464Z"
    }
   },
   "outputs": [],
   "source": [
    "summarize_prompt = ChatPromptTemplate.from_messages(\n",
    "    [\n",
    "        (\"system\", \"ステップバイステップで考えた回答から結論だけ抽出してください。\"),\n",
    "        (\"human\", \"{text}\"),\n",
    "    ]\n",
    ")\n",
    "\n",
    "summarize_chain = summarize_prompt | model | output_parser\n",
    "\n",
    "# sumarize_prompt = ChatPromptTemplate.from_messages(\n",
    "#     [\n",
    "#         ('system', 'ステップバイステップで考えた回答から結論だけ抽出してください。'),\n",
    "#         ('human', '{text}')\n",
    "#     ]\n",
    "# )\n",
    "\n",
    "# summarize_chain = summarize_prompt | model | output_parser"
   ]
  },
  {
   "cell_type": "code",
   "execution_count": 44,
   "metadata": {
    "execution": {
     "iopub.execute_input": "2024-06-28T02:33:39.082487Z",
     "iopub.status.busy": "2024-06-28T02:33:39.082344Z",
     "iopub.status.idle": "2024-06-28T02:33:42.144944Z",
     "shell.execute_reply": "2024-06-28T02:33:42.144538Z"
    }
   },
   "outputs": [
    {
     "name": "stdout",
     "output_type": "stream",
     "text": [
      "16\n"
     ]
    }
   ],
   "source": [
    "cot_summarize_chain = cot_chain | summarize_chain\n",
    "output = cot_summarize_chain.invoke({\"question\": \"10 + 2 * 3\"})\n",
    "print(output)\n",
    "\n",
    "# cot_summarize_chain = cot_chain | summarize_chain\n",
    "# output = cot_summarize_chain.invoke({'question': '10+2*3'})\n",
    "# print(output)"
   ]
  },
  {
   "cell_type": "markdown",
   "metadata": {},
   "source": [
    "## 5.2. RunnableLambda―任意の関数を Runnable にする\n"
   ]
  },
  {
   "cell_type": "code",
   "execution_count": 4,
   "metadata": {
    "execution": {
     "iopub.execute_input": "2024-06-28T02:33:42.146898Z",
     "iopub.status.busy": "2024-06-28T02:33:42.146736Z",
     "iopub.status.idle": "2024-06-28T02:33:42.204154Z",
     "shell.execute_reply": "2024-06-28T02:33:42.203681Z"
    }
   },
   "outputs": [],
   "source": [
    "from langchain_core.output_parsers import StrOutputParser\n",
    "from langchain_core.prompts import ChatPromptTemplate\n",
    "from langchain_openai import ChatOpenAI\n",
    "\n",
    "prompt = ChatPromptTemplate.from_messages(\n",
    "    [\n",
    "        (\"system\", \"You are a helpful assistant.\"),\n",
    "        (\"human\", \"{input}\"),\n",
    "    ]\n",
    ")\n",
    "\n",
    "model = ChatOpenAI(model=\"gpt-4o-mini\", temperature=0)\n",
    "\n",
    "output_parser = StrOutputParser()"
   ]
  },
  {
   "cell_type": "code",
   "execution_count": 5,
   "metadata": {
    "execution": {
     "iopub.execute_input": "2024-06-28T02:33:42.206082Z",
     "iopub.status.busy": "2024-06-28T02:33:42.205909Z",
     "iopub.status.idle": "2024-06-28T02:33:43.030226Z",
     "shell.execute_reply": "2024-06-28T02:33:43.029756Z"
    }
   },
   "outputs": [
    {
     "name": "stdout",
     "output_type": "stream",
     "text": [
      "HELLO! HOW CAN I ASSIST YOU TODAY?\n"
     ]
    }
   ],
   "source": [
    "from langchain_core.runnables import RunnableLambda\n",
    "\n",
    "\n",
    "def upper(text: str) -> str:\n",
    "    return text.upper()\n",
    "\n",
    "\n",
    "chain = prompt | model | output_parser | RunnableLambda(upper)\n",
    "\n",
    "ai_message = chain.invoke({\"input\": \"Hello!\"})\n",
    "print(ai_message)"
   ]
  },
  {
   "cell_type": "markdown",
   "metadata": {},
   "source": [
    "### chain デコレーターを使った RunnableLambda の実装\n"
   ]
  },
  {
   "cell_type": "code",
   "execution_count": null,
   "metadata": {},
   "outputs": [],
   "source": []
  },
  {
   "cell_type": "markdown",
   "metadata": {},
   "source": [
    "### RunnableLambda への自動変換\n"
   ]
  },
  {
   "cell_type": "code",
   "execution_count": 7,
   "metadata": {
    "execution": {
     "iopub.execute_input": "2024-06-28T02:33:43.508518Z",
     "iopub.status.busy": "2024-06-28T02:33:43.508321Z",
     "iopub.status.idle": "2024-06-28T02:33:43.511080Z",
     "shell.execute_reply": "2024-06-28T02:33:43.510672Z"
    }
   },
   "outputs": [],
   "source": [
    "def upper(text: str) -> str:\n",
    "    return text.upper()\n",
    "\n",
    "\n",
    "chain = prompt | model | output_parser | upper"
   ]
  },
  {
   "cell_type": "code",
   "execution_count": 8,
   "metadata": {
    "execution": {
     "iopub.execute_input": "2024-06-28T02:33:43.512885Z",
     "iopub.status.busy": "2024-06-28T02:33:43.512594Z",
     "iopub.status.idle": "2024-06-28T02:33:43.961318Z",
     "shell.execute_reply": "2024-06-28T02:33:43.960803Z"
    }
   },
   "outputs": [
    {
     "name": "stdout",
     "output_type": "stream",
     "text": [
      "HELLO! HOW CAN I ASSIST YOU TODAY?\n"
     ]
    }
   ],
   "source": [
    "ai_message = chain.invoke({\"input\": \"Hello!\"})\n",
    "print(ai_message)"
   ]
  },
  {
   "cell_type": "markdown",
   "metadata": {},
   "source": [
    "### Runnable の入力の型と出力の型に注意\n"
   ]
  },
  {
   "cell_type": "code",
   "execution_count": 9,
   "metadata": {
    "execution": {
     "iopub.execute_input": "2024-06-28T02:33:43.963174Z",
     "iopub.status.busy": "2024-06-28T02:33:43.963026Z",
     "iopub.status.idle": "2024-06-28T02:33:43.965674Z",
     "shell.execute_reply": "2024-06-28T02:33:43.965305Z"
    }
   },
   "outputs": [],
   "source": [
    "def upper(text: str) -> str:\n",
    "    return text.upper()\n",
    "\n",
    "\n",
    "chain = prompt | model | upper\n",
    "\n",
    "# 以下のコードを実行するとエラーになります\n",
    "# output = chain.invoke({\"input\": \"Hello!\"})"
   ]
  },
  {
   "cell_type": "code",
   "execution_count": 10,
   "metadata": {
    "execution": {
     "iopub.execute_input": "2024-06-28T02:33:43.967542Z",
     "iopub.status.busy": "2024-06-28T02:33:43.967246Z",
     "iopub.status.idle": "2024-06-28T02:33:44.531734Z",
     "shell.execute_reply": "2024-06-28T02:33:44.531210Z"
    }
   },
   "outputs": [],
   "source": [
    "chain = prompt | model | StrOutputParser() | upper"
   ]
  },
  {
   "cell_type": "code",
   "execution_count": 11,
   "metadata": {},
   "outputs": [
    {
     "name": "stdout",
     "output_type": "stream",
     "text": [
      "HELLO! HOW CAN I ASSIST YOU TODAY?\n"
     ]
    }
   ],
   "source": [
    "output = chain.invoke({\"input\": \"Hello!\"})\n",
    "print(output)"
   ]
  },
  {
   "cell_type": "markdown",
   "metadata": {},
   "source": [
    "### （コラム）独自の関数を stream に対応させたい場合\n"
   ]
  },
  {
   "cell_type": "code",
   "execution_count": 12,
   "metadata": {
    "execution": {
     "iopub.execute_input": "2024-06-28T02:33:44.533838Z",
     "iopub.status.busy": "2024-06-28T02:33:44.533678Z",
     "iopub.status.idle": "2024-06-28T02:33:45.353621Z",
     "shell.execute_reply": "2024-06-28T02:33:45.353115Z"
    }
   },
   "outputs": [
    {
     "name": "stdout",
     "output_type": "stream",
     "text": [
      "HELLO! HOW CAN I ASSIST YOU TODAY?"
     ]
    }
   ],
   "source": [
    "from typing import Iterator\n",
    "\n",
    "\n",
    "def upper(input_stream: Iterator[str]) -> Iterator[str]:\n",
    "    for text in input_stream:\n",
    "        yield text.upper()\n",
    "\n",
    "\n",
    "chain = prompt | model | StrOutputParser() | upper\n",
    "\n",
    "for chunk in chain.stream({\"input\": \"Hello!\"}):\n",
    "    print(chunk, end=\"\", flush=True)"
   ]
  },
  {
   "cell_type": "markdown",
   "metadata": {},
   "source": [
    "## 5.3. RunnableParallel―複数の Runnable を並列で処理する\n"
   ]
  },
  {
   "cell_type": "code",
   "execution_count": 13,
   "metadata": {
    "execution": {
     "iopub.execute_input": "2024-06-28T02:33:45.355560Z",
     "iopub.status.busy": "2024-06-28T02:33:45.355402Z",
     "iopub.status.idle": "2024-06-28T02:33:45.407879Z",
     "shell.execute_reply": "2024-06-28T02:33:45.407407Z"
    }
   },
   "outputs": [],
   "source": [
    "from langchain_core.output_parsers import StrOutputParser\n",
    "from langchain_core.prompts import ChatPromptTemplate\n",
    "from langchain_openai import ChatOpenAI\n",
    "\n",
    "model = ChatOpenAI(model=\"gpt-4o-mini\", temperature=0)\n",
    "output_parser = StrOutputParser()"
   ]
  },
  {
   "cell_type": "code",
   "execution_count": 14,
   "metadata": {
    "execution": {
     "iopub.execute_input": "2024-06-28T02:33:45.409670Z",
     "iopub.status.busy": "2024-06-28T02:33:45.409524Z",
     "iopub.status.idle": "2024-06-28T02:33:45.412232Z",
     "shell.execute_reply": "2024-06-28T02:33:45.411889Z"
    }
   },
   "outputs": [],
   "source": [
    "optimistic_prompt = ChatPromptTemplate.from_messages(\n",
    "    [\n",
    "        (\"system\", \"あなたは楽観主義者です。ユーザーの入力に対して楽観的な意見をください。\"),\n",
    "        (\"human\", \"{topic}\"),\n",
    "    ]\n",
    ")\n",
    "optimistic_chain = optimistic_prompt | model | output_parser"
   ]
  },
  {
   "cell_type": "code",
   "execution_count": 15,
   "metadata": {
    "execution": {
     "iopub.execute_input": "2024-06-28T02:33:45.414087Z",
     "iopub.status.busy": "2024-06-28T02:33:45.413807Z",
     "iopub.status.idle": "2024-06-28T02:33:45.416778Z",
     "shell.execute_reply": "2024-06-28T02:33:45.416359Z"
    }
   },
   "outputs": [],
   "source": [
    "pessimistic_prompt = ChatPromptTemplate.from_messages(\n",
    "    [\n",
    "        (\"system\", \"あなたは悲観主義者です。ユーザーの入力に対して悲観的な意見をください。\"),\n",
    "        (\"human\", \"{topic}\"),\n",
    "    ]\n",
    ")\n",
    "pessimistic_chain = pessimistic_prompt | model | output_parser"
   ]
  },
  {
   "cell_type": "code",
   "execution_count": 16,
   "metadata": {
    "execution": {
     "iopub.execute_input": "2024-06-28T02:33:45.418636Z",
     "iopub.status.busy": "2024-06-28T02:33:45.418458Z",
     "iopub.status.idle": "2024-06-28T02:33:48.115947Z",
     "shell.execute_reply": "2024-06-28T02:33:48.115444Z"
    }
   },
   "outputs": [
    {
     "name": "stdout",
     "output_type": "stream",
     "text": [
      "{'optimistic_opinion': '生成AIの進化は本当に素晴らしいですね！技術が進むことで、私たちの生活がより便利で豊かになる可能性が広がっています。クリエイティブな作業や問題解決において、AIが私たちのパートナーとなり、新しいアイデアや視点を提供してくれることでしょう。これからの未来、生成AIがどのように私たちの社会を変えていくのか、非常に楽しみです！新しい発見や革新が待っていると思うと、ワクワクしますね。',\n",
      " 'pessimistic_opinion': '生成AIの進化は確かに目覚ましいものがありますが、その一方で多くの懸念も抱えています。技術が進化することで、私たちの仕事が奪われたり、情報の信頼性が低下したりするリスクが高まっています。さらに、AIが生成するコンテンツが人間の創造性を脅かし、文化や芸術の価値が薄れてしまう可能性もあります。結局のところ、進化する技術が私たちの生活を便利にする一方で、私たち自身の存在意義を問い直させるような状況を生むのではないでしょうか。'}\n"
     ]
    }
   ],
   "source": [
    "import pprint\n",
    "from langchain_core.runnables import RunnableParallel\n",
    "\n",
    "parallel_chain = RunnableParallel(\n",
    "    {\n",
    "        \"optimistic_opinion\": optimistic_chain,\n",
    "        \"pessimistic_opinion\": pessimistic_chain,\n",
    "    }\n",
    ")\n",
    "\n",
    "output = parallel_chain.invoke({\"topic\": \"生成AIの進化について\"})\n",
    "pprint.pprint(output)"
   ]
  },
  {
   "cell_type": "markdown",
   "metadata": {},
   "source": [
    "### RunnableParallel の出力を Runnable の入力に連結する\n"
   ]
  },
  {
   "cell_type": "code",
   "execution_count": 17,
   "metadata": {
    "execution": {
     "iopub.execute_input": "2024-06-28T02:33:48.117879Z",
     "iopub.status.busy": "2024-06-28T02:33:48.117728Z",
     "iopub.status.idle": "2024-06-28T02:33:54.979992Z",
     "shell.execute_reply": "2024-06-28T02:33:54.978363Z"
    }
   },
   "outputs": [],
   "source": [
    "synthesize_prompt = ChatPromptTemplate.from_messages(\n",
    "    [\n",
    "        (\"system\", \"あなたは客観的AIです。2つの意見をまとめてください。\"),\n",
    "        (\"human\", \"楽観的意見: {optimistic_opinion}\\n悲観的意見: {pessimistic_opinion}\"),\n",
    "    ]\n",
    ")"
   ]
  },
  {
   "cell_type": "code",
   "execution_count": 18,
   "metadata": {},
   "outputs": [
    {
     "name": "stdout",
     "output_type": "stream",
     "text": [
      "生成AIの進化については、楽観的な意見と悲観的な意見が存在します。楽観的な見方では、生成AIの技術が進化することで、私たちの生活が便利で豊かになり、クリエイティブな作業や問題解決のパートナーとしての役割を果たすことが期待されています。この進化により、新しい発見や革新が続き、未来が明るくなる可能性があるとされています。\n",
      "\n",
      "一方で、悲観的な見方では、生成AIの進化には多くの懸念が伴い、仕事の喪失や情報の信頼性の低下といったリスクが高まると指摘されています。また、AIが生成するコンテンツが人間の創造性を脅かし、思考や感情に悪影響を及ぼす可能性も懸念されています。このように、便利さの裏には不安がつきまとい、未来が不透明になる可能性があるとされています。\n",
      "\n",
      "総じて、生成AIの進化は多くの可能性を秘めている一方で、リスクや懸念も無視できないという複雑な状況が浮かび上がります。\n"
     ]
    }
   ],
   "source": [
    "synthesize_chain = (\n",
    "    RunnableParallel(\n",
    "        {\n",
    "            \"optimistic_opinion\": optimistic_chain,\n",
    "            \"pessimistic_opinion\": pessimistic_chain,\n",
    "        }\n",
    "    )\n",
    "    | synthesize_prompt\n",
    "    | model\n",
    "    | output_parser\n",
    ")\n",
    "\n",
    "output = synthesize_chain.invoke({\"topic\": \"生成AIの進化について\"})\n",
    "print(output)"
   ]
  },
  {
   "cell_type": "markdown",
   "metadata": {},
   "source": [
    "### RunnableParallel への自動変換\n"
   ]
  },
  {
   "cell_type": "code",
   "execution_count": 20,
   "metadata": {
    "execution": {
     "iopub.execute_input": "2024-06-28T02:33:54.986651Z",
     "iopub.status.busy": "2024-06-28T02:33:54.986098Z",
     "iopub.status.idle": "2024-06-28T02:33:54.994428Z",
     "shell.execute_reply": "2024-06-28T02:33:54.992735Z"
    }
   },
   "outputs": [],
   "source": [
    "synthesize_chain = (\n",
    "    {\n",
    "        \"optimistic_opinion\": optimistic_chain,\n",
    "        \"pessimistic_opinion\": pessimistic_chain,\n",
    "    }\n",
    "    | synthesize_prompt\n",
    "    | model\n",
    "    | output_parser\n",
    ")"
   ]
  },
  {
   "cell_type": "code",
   "execution_count": 21,
   "metadata": {
    "execution": {
     "iopub.execute_input": "2024-06-28T02:33:55.000866Z",
     "iopub.status.busy": "2024-06-28T02:33:55.000312Z",
     "iopub.status.idle": "2024-06-28T02:34:01.170210Z",
     "shell.execute_reply": "2024-06-28T02:34:01.169705Z"
    }
   },
   "outputs": [
    {
     "name": "stdout",
     "output_type": "stream",
     "text": [
      "生成AIの進化には、便利さや豊かさをもたらす可能性がある一方で、さまざまな懸念も存在します。楽観的な意見では、生成AIがクリエイティブな作業や問題解決の助けとなり、教育や医療、エンターテインメントなどの分野で革新を促進し、社会全体の進化に寄与することが期待されています。AIと人間が協力してより良い未来を築く姿が描かれています。\n",
      "\n",
      "しかし、悲観的な意見では、技術の進化が仕事の喪失や情報の信頼性の低下を引き起こす可能性が指摘されています。また、AIが生成するコンテンツの増加により、オリジナリティやクリエイティビティが損なわれる恐れもあります。便利さの裏にはリスクが潜んでおり、技術の扱い方が重要であるとされています。\n",
      "\n",
      "このように、生成AIの進化は多くの利点をもたらす一方で、慎重な対応が求められる課題も抱えていると言えるでしょう。\n"
     ]
    }
   ],
   "source": [
    "output = synthesize_chain.invoke({\"topic\": \"生成AIの進化について\"})\n",
    "print(output)"
   ]
  },
  {
   "cell_type": "markdown",
   "metadata": {},
   "source": [
    "### RunnableLambda との組み合わせ―itemgetter を使う例\n"
   ]
  },
  {
   "cell_type": "code",
   "execution_count": null,
   "metadata": {
    "execution": {
     "iopub.execute_input": "2024-06-28T02:34:01.172136Z",
     "iopub.status.busy": "2024-06-28T02:34:01.171982Z",
     "iopub.status.idle": "2024-06-28T02:34:01.174756Z",
     "shell.execute_reply": "2024-06-28T02:34:01.174370Z"
    }
   },
   "outputs": [],
   "source": [
    "from operator import itemgetter\n",
    "\n",
    "topic_getter = itemgetter(\"topic\")\n",
    "topic = topic_getter({\"topic\": \"生成AIの進化について\"})\n",
    "print(topic)"
   ]
  },
  {
   "cell_type": "code",
   "execution_count": null,
   "metadata": {
    "execution": {
     "iopub.execute_input": "2024-06-28T02:34:01.176493Z",
     "iopub.status.busy": "2024-06-28T02:34:01.176278Z",
     "iopub.status.idle": "2024-06-28T02:34:09.682638Z",
     "shell.execute_reply": "2024-06-28T02:34:09.682146Z"
    }
   },
   "outputs": [],
   "source": [
    "from operator import itemgetter\n",
    "\n",
    "synthesize_prompt = ChatPromptTemplate.from_messages(\n",
    "    [\n",
    "        (\n",
    "            \"system\",\n",
    "            \"あなたは客観的AIです。{topic}について2つの意見をまとめてください。\",\n",
    "        ),\n",
    "        (\n",
    "            \"human\",\n",
    "            \"楽観的意見: {optimistic_opinion}\\n悲観的意見: {pessimistic_opinion}\",\n",
    "        ),\n",
    "    ]\n",
    ")\n",
    "\n",
    "synthesize_chain = (\n",
    "    {\n",
    "        \"optimistic_opinion\": optimistic_chain,\n",
    "        \"pessimistic_opinion\": pessimistic_chain,\n",
    "        \"topic\": itemgetter(\"topic\"),\n",
    "    }\n",
    "    | synthesize_prompt\n",
    "    | model\n",
    "    | output_parser\n",
    ")\n",
    "\n",
    "output = synthesize_chain.invoke({\"topic\": \"生成AIの進化について\"})\n",
    "print(output)"
   ]
  },
  {
   "cell_type": "markdown",
   "metadata": {},
   "source": [
    "## 5.4. RunnablePassthrough―入力をそのまま出力する\n"
   ]
  },
  {
   "cell_type": "code",
   "execution_count": 22,
   "metadata": {},
   "outputs": [],
   "source": [
    "import os\n",
    "# from google.colab import userdata\n",
    "from dotenv import load_dotenv\n",
    "load_dotenv()\n",
    "\n",
    "os.environ[\"TAVILY_API_KEY\"] = os.getenv(\"TAVILY_API_KEY\")"
   ]
  },
  {
   "cell_type": "code",
   "execution_count": 23,
   "metadata": {},
   "outputs": [
    {
     "name": "stdout",
     "output_type": "stream",
     "text": [
      "Defaulting to user installation because normal site-packages is not writeable\n",
      "Collecting tavily-python==0.5.0\n",
      "  Downloading tavily_python-0.5.0-py3-none-any.whl (14 kB)\n",
      "Requirement already satisfied: tiktoken>=0.5.1 in /home/user/.local/lib/python3.10/site-packages (from tavily-python==0.5.0) (0.7.0)\n",
      "Requirement already satisfied: httpx in /home/user/.local/lib/python3.10/site-packages (from tavily-python==0.5.0) (0.28.1)\n",
      "Requirement already satisfied: requests in /home/user/.local/lib/python3.10/site-packages (from tavily-python==0.5.0) (2.32.3)\n",
      "Requirement already satisfied: regex>=2022.1.18 in /home/user/.local/lib/python3.10/site-packages (from tiktoken>=0.5.1->tavily-python==0.5.0) (2024.11.6)\n",
      "Requirement already satisfied: charset-normalizer<4,>=2 in /home/user/.local/lib/python3.10/site-packages (from requests->tavily-python==0.5.0) (3.4.0)\n",
      "Requirement already satisfied: certifi>=2017.4.17 in /home/user/.local/lib/python3.10/site-packages (from requests->tavily-python==0.5.0) (2024.12.14)\n",
      "Requirement already satisfied: idna<4,>=2.5 in /home/user/.local/lib/python3.10/site-packages (from requests->tavily-python==0.5.0) (3.10)\n",
      "Requirement already satisfied: urllib3<3,>=1.21.1 in /home/user/.local/lib/python3.10/site-packages (from requests->tavily-python==0.5.0) (2.3.0)\n",
      "Requirement already satisfied: anyio in /home/user/.local/lib/python3.10/site-packages (from httpx->tavily-python==0.5.0) (4.7.0)\n",
      "Requirement already satisfied: httpcore==1.* in /home/user/.local/lib/python3.10/site-packages (from httpx->tavily-python==0.5.0) (1.0.7)\n",
      "Requirement already satisfied: h11<0.15,>=0.13 in /home/user/.local/lib/python3.10/site-packages (from httpcore==1.*->httpx->tavily-python==0.5.0) (0.14.0)\n",
      "Requirement already satisfied: typing_extensions>=4.5 in /home/user/.local/lib/python3.10/site-packages (from anyio->httpx->tavily-python==0.5.0) (4.12.2)\n",
      "Requirement already satisfied: sniffio>=1.1 in /home/user/.local/lib/python3.10/site-packages (from anyio->httpx->tavily-python==0.5.0) (1.3.1)\n",
      "Requirement already satisfied: exceptiongroup>=1.0.2 in /home/user/.local/lib/python3.10/site-packages (from anyio->httpx->tavily-python==0.5.0) (1.2.2)\n",
      "Installing collected packages: tavily-python\n",
      "Successfully installed tavily-python-0.5.0\n",
      "\n",
      "\u001b[1m[\u001b[0m\u001b[34;49mnotice\u001b[0m\u001b[1;39;49m]\u001b[0m\u001b[39;49m A new release of pip is available: \u001b[0m\u001b[31;49m23.0.1\u001b[0m\u001b[39;49m -> \u001b[0m\u001b[32;49m24.3.1\u001b[0m\n",
      "\u001b[1m[\u001b[0m\u001b[34;49mnotice\u001b[0m\u001b[1;39;49m]\u001b[0m\u001b[39;49m To update, run: \u001b[0m\u001b[32;49mpip install --upgrade pip\u001b[0m\n"
     ]
    }
   ],
   "source": [
    "!pip install tavily-python==0.5.0"
   ]
  },
  {
   "cell_type": "code",
   "execution_count": 24,
   "metadata": {},
   "outputs": [],
   "source": [
    "from langchain_core.prompts import ChatPromptTemplate\n",
    "from langchain_openai import ChatOpenAI\n",
    "\n",
    "prompt = ChatPromptTemplate.from_template('''\\\n",
    "以下の文脈だけを踏まえて質問に回答してください。\n",
    "\n",
    "文脈: \"\"\"\n",
    "{context}\n",
    "\"\"\"\n",
    "\n",
    "質問: {question}\n",
    "''')\n",
    "\n",
    "model = ChatOpenAI(model_name=\"gpt-4o-mini\", temperature=0)"
   ]
  },
  {
   "cell_type": "code",
   "execution_count": 26,
   "metadata": {},
   "outputs": [],
   "source": [
    "from langchain_community.retrievers import TavilySearchAPIRetriever\n",
    "\n",
    "retriever = TavilySearchAPIRetriever(k=3)"
   ]
  },
  {
   "cell_type": "code",
   "execution_count": 27,
   "metadata": {},
   "outputs": [
    {
     "name": "stdout",
     "output_type": "stream",
     "text": [
      "東京の今日、11月19日(火)の天気は「晴時々曇」で、最高気温は13℃、最低気温は8℃です。降水確率は0％です。\n"
     ]
    }
   ],
   "source": [
    "from langchain_core.runnables import RunnablePassthrough\n",
    "\n",
    "chain = (\n",
    "    {\"context\": retriever, \"question\": RunnablePassthrough()}\n",
    "    | prompt\n",
    "    | model\n",
    "    | StrOutputParser()\n",
    ")\n",
    "\n",
    "output = chain.invoke(\"東京の今日の天気は？\")\n",
    "print(output)"
   ]
  },
  {
   "cell_type": "markdown",
   "metadata": {},
   "source": [
    "### assign―RunnableParallel に値を追加する\n"
   ]
  },
  {
   "cell_type": "code",
   "execution_count": 28,
   "metadata": {
    "execution": {
     "iopub.execute_input": "2024-06-28T02:34:14.820735Z",
     "iopub.status.busy": "2024-06-28T02:34:14.820536Z",
     "iopub.status.idle": "2024-06-28T02:34:20.477887Z",
     "shell.execute_reply": "2024-06-28T02:34:20.477378Z"
    }
   },
   "outputs": [
    {
     "name": "stdout",
     "output_type": "stream",
     "text": [
      "{'answer': '東京の今日の天気は、10月27日（日）で、最高気温24℃、最低気温17℃、降水確率は50%です。',\n",
      " 'context': [Document(metadata={'title': '東京都の天気（今日・明日の天気） | @nifty天気予報', 'source': 'https://weather.nifty.com/prefecture/13', 'score': 0.85967577, 'images': []}, page_content='東京都の天気（今日・明日の天気） | @nifty天気予報 @niftyトップ 今日・明日の天気 サイトマップ MY天気 地震情報台風情報警報・注意報花粉情報洗濯指数傘指数衛星画像天気図 スポーツレジャー観光地公共施設 全国の天気 東京都 台風20号、21号発生中 東京都の天気 今日の天気10月27日(日) 明日の天気10月28日(月) 東京  24/17 50% 大島  23/19 50% 八丈島  25/21 40% 父島  29/26 30% 港区 目黒区 大田区 世田谷区 墨田区 江東区 荒川区 足立区 葛飾区 日野市 多摩市 稲城市 多摩北部 三鷹市 昭島市 小平市 東村山市 東大和市 清瀬市 青梅市 大島 八丈島 東京  21/17 70% 大島  21/21 70% 八丈島  26/23 70% 父島  29/26 40% 港区 目黒区 大田区 世田谷区 墨田区 江東区 荒川区 足立区 葛飾区 日野市 多摩市 稲城市 多摩北部 三鷹市 昭島市 東村山市 東大和市 清瀬市 青梅市 大島 八丈島 栃木県 群馬県 東京都 長崎県 熊本県 大分県 宮崎県 沖縄県 お天気豆知識 ### 音速 秋が深まり気温も下がってくると、夏、元気に鳴いていた虫たちの声も次第に聞こえなくなります。特に夜などはひっそりとした静けさを感じることでしょう。皆さんは、気温の変化が音の伝わる速さにも影響する、ということを知っていますか。空気中では、気温が高いほど音は速く伝わります。また、気圧も音速に影響を与えますが、無視できるほど小さなものです。一方、地上のようには電波の伝わらない海中においては、音は空気中よりも速く伝わり、重要な通信手段となっています。水中では、水温が高いほど音速は速くなり、水圧が高くても速く伝わるようになります。つまり、海面付近の日射を受けて暖かいところと、大きな水圧のかかっている深海が、海の中では音速の速い領域となっているのです。音はそれが伝わっていく物質が密なほど速くなる、といった性質があります。そのため、一般には軽い空気よりも重たい水の中のほうが音を速く伝えるのです。空気中での音速は、通常、秒速３４０メートルですが、水中での音速は、秒速１５００メートル。空気中の４倍以上というすさまじい速さで伝わっていくのです。 ### ウエザーマーケティング 私達が毎日のように利用しているスーパーやコンビニの商品の中には、気温や天気、季節によってその売れゆきが大きく変わってくるものがあります。例えば、水着やスキー用品などの季節商品や、セーターやコートなどの衣類、野菜や飲み物などがそうです。当然、お店では、消費者が買いたいと思う時期に最適な商品を提供したいと考えています。その際、気象情報を活用しながら、販売計画を立てたり、商品の仕入れや在庫の管理などを工夫することを、「ウェザーマーケティング」と言います。天気や降水確率、体感温度などを商品の販売活動に活用することにより、むだを防ぎ、売り上げを上げるチャンスを知ることができるのです。さらに、ウェザーマーケティングは、仕入れや在庫管理などの販売計画だけでなく、店鋪の人員配置、売り場作り、プロモーション計画などにも役立てることができます。このように、気象情報はテレビで見ている天気予報だけでなく、流通の業界にもさまざまな形で活用されているのです。 ### ゴルフボールのしくみ スポーツの秋です。ゴルフを楽しむ方も多いでしょう。一見ただの小さな円球に思えるゴルフボールですが、その中には最先端のテクノロジーがつまっています。表面にあるへこみはディンプルといって、単なる飾りではありません。ディンプルには空気抵抗を減らして、揚力を増やす効果があり、ボールが遠くまで飛ぶための翼の役割をします。また、ゴルフボールは大きく分けて、糸巻きボールとソリッドボールがありますが、現在はソリッドボールが市場のほとんどを占めています。ソリッドボールは反発力の強い合成ゴムでできていて、インパクト時のエネルギーを飛距離につなげる仕組みになっています。少しでも飛距離がのびるよう、小さなボールにいろいろな工夫があるのですね。 花粉情報 洗濯指数 傘指数 スポーツ レジャー 公共施設 その他 MY天気 衛星画像 天気図 お問い合わせ ©Copyright Weathernews Inc. 個人情報保護ポリシー ウェブサイト利用ガイドライン 推奨環境 運営会社 ©NIFTY Corporation'),\n",
      "             Document(metadata={'title': '東京（東京）の天気 - Yahoo!天気・災害', 'source': 'https://weather.yahoo.co.jp/weather/jp/13/4410.html', 'score': 0.80126834, 'images': []}, page_content='パーソナル天気 現在位置： 天気・災害トップ > 関東・信越 > 東京都 > 東京（東京） 今日明日の天気 2024年11月19日 4時00分発表 11月19日(火) 晴時々曇 13℃[-7] 8℃[-3] 時間  0-6 6-12    12-18   18-24 降水  0％  0％  0％  0％ 風： 北の風後北東の風２３区西部では北の風やや強く 波： 1.5メートル後0.5メートル 11月20日(水) 曇のち雨 12℃[-1] 7℃[-1] 時間  0-6 6-12    12-18   18-24 降水  0％  10％ 30％ 60％ 風： 北西の風後東の風 波： 0.5メートル 東京地方の警報・注意報 注意報 強風、波浪 週間天気 2024年11月19日 2時00分発表 日付 11月21日 (木) 11月22日 (金) 11月23日 (土) 11月24日 (日) 11月25日 (月) 11月26日 (火) 天気 雨のち晴   晴時々曇   晴時々曇   晴時々曇   晴時々曇   曇一時雨 気温（℃）   14 降水 確率（％）   60  0   0   0   10  50 2024年11月19日 4時00分 発表 (C) Mapbox (C) OpenStreetMap (C) LY Corporation Yahoo!地図ガイドライン (C) Mapbox (C) OpenStreetMap (C) LY Corporation Yahoo!地図ガイドライン 11/18(月)18時\\u3000師走の寒さ\\u3000今季一番低く\\u3000北日本中心に積雪増加も Copyright (C) 2024 Weather Map Co., Ltd. All Rights Reserved. © LY Corporation'),\n",
      "             Document(metadata={'title': '中央区の1時間天気 - 日本気象協会 tenki.jp', 'source': 'https://tenki.jp/forecast/3/16/4410/13102/1hour.html', 'score': 0.76554126, 'images': []}, page_content='tenki.jp\\n中央区の天気27日18:00発表\\n雷レーダーで落雷情報を見る\\n今日27日(火)\\n明日28日(水)\\n明後日29日(木)\\n今日 2024年02月27日(火)[赤口]\\n晴れ\\n晴れ\\n晴れ\\n晴れ\\n晴れ\\n晴れ\\n晴れ\\n晴れ\\n晴れ\\n晴れ\\n晴れ\\n晴れ\\n晴れ\\n晴れ\\n晴れ\\n晴れ\\n晴れ\\n晴れ\\n晴れ\\n晴れ\\n晴れ\\n晴れ\\n晴れ\\n晴れ\\n北西\\n北西\\n北西\\n北西\\n北西\\n北西\\n北西\\n西北西\\n北西\\n北西\\n北北西\\n北西\\n北西\\n北北西\\n北北西\\n北北西\\n北北西\\n北北西\\n北西\\n北西\\n北西\\n北西\\n北西\\n北北西\\n東京都雨雲レーダー現在の雨雲を見る\\nこれからの予報を見る\\n明日 2024年02月28日(水)[先勝]\\n晴れ\\n晴れ\\n晴れ\\n晴れ\\n晴れ\\n晴れ\\n晴れ\\n晴れ\\n晴れ\\n晴れ\\n晴れ\\n晴れ\\n晴れ\\n晴れ\\n晴れ\\n晴れ\\n晴れ\\n晴れ\\n晴れ\\n晴れ\\n晴れ\\n晴れ\\n晴れ\\n晴れ\\n北西\\n北西\\n北西\\n北西\\n北西\\n北北西\\n北北西\\n北北西\\n北西\\n北西\\n北北西\\n北北西\\n北西\\n北北西\\n北北西\\n北北西\\n北北西\\n北北西\\n北北西\\n北北西\\n北北西\\n北北西\\n北\\n北\\n東京都雨雲レーダー現在の雨雲を見る\\nこれからの予報を見る\\n明後日 2024年02月29日(木)[友引]\\n晴れ\\n晴れ\\n晴れ\\n晴れ\\n晴れ\\n晴れ\\n晴れ\\n晴れ\\n晴れ\\n晴れ\\n晴れ\\n晴れ\\n晴れ\\n曇り\\n曇り\\n曇り\\n曇り\\n曇り\\n曇り\\n曇り\\n曇り\\n曇り\\n曇り\\n曇り\\n北\\n北\\n北\\n北\\n北\\n北\\n北北東\\n北北東\\n北北東\\n北東\\n東北東\\n東\\n東南東\\n南東\\n南東\\n南東\\n南東\\n南東\\n東南東\\n東南東\\n東\\n東\\n北東\\n北北西\\n東京都雨雲レーダー現在の雨雲を見る\\nこれからの予報を見る\\nスギ花粉予測\\n東京都の花粉飛散分布予測\\n02月27日\\n少ない\\n48時間後までの予測を見る\\n10日間天気\\n03月01日\\n(金)\\n03月02日\\n(土)\\n03月03日\\n(日)\\n03月04日\\n(月)\\n03月05日\\n(火)\\n03月06日\\n(水)\\n03月07日\\n(木)\\n03月08日\\n(金)\\n雨のち曇\\n晴時々曇\\n晴\\n晴時々曇\\n曇時々雨\\n曇時々雨\\n曇時々雨\\n曇時々晴\\n14\\n5\\n9\\n4\\n13\\n2\\n16\\n4\\n11\\n8\\n9\\n6\\n10\\n4\\n12\\n4\\n90%\\n40%\\n20%\\n30%\\n90%\\n80%\\n50%\\n40%\\n気象予報士のポイント解説(日直予報士)\\n 3月に入っても強い寒気が南下\\u3000今週末は日本海側で大雪の恐れ\\u3000太平洋側も冬の寒さ\\n木曜～金曜\\u3000また南岸低気圧\\u3000九州～関東、東北で雨や湿った雪\\u3000風も強まる\\n関西\\u300028日(水)貴重な日差しで気温上昇\\u3000南部ではスギ花粉がピーク\\u3000万全の対策を\\n関東週間\\u3000明日の朝まで強風に注意\\u3000交通への影響のおそれ\\u3000天気周期変化\\u3000寒暖差大\\nこちらもおすすめ\\n東京地方(東京)各地の天気\\n天気ガイド\\n東京の観測ランキング\\n※中央区に最も近い観測地点（アメダス）を表示しています。\\n注目の情報\\nアクエリアス 冬の汗かき予報\\n冬でも汗をかいている。今日の汗かきシーンをチェック！PR\\n30日間無料トライアル実施中\\n登山天気がパワーUP！最新の山の状態がすぐにわかる！\\n人気の日直予報士を配信\\ntenki.jpの公式Twitterをチェック!天気、降水確率、最高最低気温を配信\\n天気予報\\n観測\\n防災情報\\n天気図\\n指数情報\\nレジャー天気\\n季節特集\\n天気ニュース\\ntenki.jp+more\\n全国のコンテンツ\\ntenki.jpトップ\\n天気予報\\n観測\\n防災情報\\n天気図\\n指数情報\\nレジャー天気\\n季節特集\\n天気ニュース')],\n",
      " 'question': '東京の今日の天気は？'}\n"
     ]
    }
   ],
   "source": [
    "import pprint\n",
    "\n",
    "chain = {\n",
    "    \"question\": RunnablePassthrough(),\n",
    "    \"context\": retriever,\n",
    "} | RunnablePassthrough.assign(answer=prompt | model | StrOutputParser())\n",
    "\n",
    "output = chain.invoke(\"東京の今日の天気は？\")\n",
    "pprint.pprint(output)"
   ]
  },
  {
   "cell_type": "code",
   "execution_count": 29,
   "metadata": {
    "execution": {
     "iopub.execute_input": "2024-06-28T02:34:20.479839Z",
     "iopub.status.busy": "2024-06-28T02:34:20.479664Z",
     "iopub.status.idle": "2024-06-28T02:34:27.723756Z",
     "shell.execute_reply": "2024-06-28T02:34:27.723236Z"
    }
   },
   "outputs": [],
   "source": [
    "from langchain_core.runnables import RunnableParallel\n",
    "\n",
    "chain = RunnableParallel(\n",
    "    {\n",
    "        \"question\": RunnablePassthrough(),\n",
    "        \"context\": retriever,\n",
    "    }\n",
    ").assign(answer=prompt | model | StrOutputParser())"
   ]
  },
  {
   "cell_type": "code",
   "execution_count": 30,
   "metadata": {},
   "outputs": [
    {
     "name": "stdout",
     "output_type": "stream",
     "text": [
      "{'question': '東京の今日の天気は？', 'context': [Document(metadata={'title': '東京都の天気（今日・明日の天気） | @nifty天気予報', 'source': 'https://weather.nifty.com/prefecture/13', 'score': 0.85967577, 'images': []}, page_content='東京都の天気（今日・明日の天気） | @nifty天気予報 @niftyトップ 今日・明日の天気 サイトマップ MY天気 地震情報台風情報警報・注意報花粉情報洗濯指数傘指数衛星画像天気図 スポーツレジャー観光地公共施設 全国の天気 東京都 台風20号、21号発生中 東京都の天気 今日の天気10月27日(日) 明日の天気10月28日(月) 東京  24/17 50% 大島  23/19 50% 八丈島  25/21 40% 父島  29/26 30% 港区 目黒区 大田区 世田谷区 墨田区 江東区 荒川区 足立区 葛飾区 日野市 多摩市 稲城市 多摩北部 三鷹市 昭島市 小平市 東村山市 東大和市 清瀬市 青梅市 大島 八丈島 東京  21/17 70% 大島  21/21 70% 八丈島  26/23 70% 父島  29/26 40% 港区 目黒区 大田区 世田谷区 墨田区 江東区 荒川区 足立区 葛飾区 日野市 多摩市 稲城市 多摩北部 三鷹市 昭島市 東村山市 東大和市 清瀬市 青梅市 大島 八丈島 栃木県 群馬県 東京都 長崎県 熊本県 大分県 宮崎県 沖縄県 お天気豆知識 ### 音速 秋が深まり気温も下がってくると、夏、元気に鳴いていた虫たちの声も次第に聞こえなくなります。特に夜などはひっそりとした静けさを感じることでしょう。皆さんは、気温の変化が音の伝わる速さにも影響する、ということを知っていますか。空気中では、気温が高いほど音は速く伝わります。また、気圧も音速に影響を与えますが、無視できるほど小さなものです。一方、地上のようには電波の伝わらない海中においては、音は空気中よりも速く伝わり、重要な通信手段となっています。水中では、水温が高いほど音速は速くなり、水圧が高くても速く伝わるようになります。つまり、海面付近の日射を受けて暖かいところと、大きな水圧のかかっている深海が、海の中では音速の速い領域となっているのです。音はそれが伝わっていく物質が密なほど速くなる、といった性質があります。そのため、一般には軽い空気よりも重たい水の中のほうが音を速く伝えるのです。空気中での音速は、通常、秒速３４０メートルですが、水中での音速は、秒速１５００メートル。空気中の４倍以上というすさまじい速さで伝わっていくのです。 ### ウエザーマーケティング 私達が毎日のように利用しているスーパーやコンビニの商品の中には、気温や天気、季節によってその売れゆきが大きく変わってくるものがあります。例えば、水着やスキー用品などの季節商品や、セーターやコートなどの衣類、野菜や飲み物などがそうです。当然、お店では、消費者が買いたいと思う時期に最適な商品を提供したいと考えています。その際、気象情報を活用しながら、販売計画を立てたり、商品の仕入れや在庫の管理などを工夫することを、「ウェザーマーケティング」と言います。天気や降水確率、体感温度などを商品の販売活動に活用することにより、むだを防ぎ、売り上げを上げるチャンスを知ることができるのです。さらに、ウェザーマーケティングは、仕入れや在庫管理などの販売計画だけでなく、店鋪の人員配置、売り場作り、プロモーション計画などにも役立てることができます。このように、気象情報はテレビで見ている天気予報だけでなく、流通の業界にもさまざまな形で活用されているのです。 ### ゴルフボールのしくみ スポーツの秋です。ゴルフを楽しむ方も多いでしょう。一見ただの小さな円球に思えるゴルフボールですが、その中には最先端のテクノロジーがつまっています。表面にあるへこみはディンプルといって、単なる飾りではありません。ディンプルには空気抵抗を減らして、揚力を増やす効果があり、ボールが遠くまで飛ぶための翼の役割をします。また、ゴルフボールは大きく分けて、糸巻きボールとソリッドボールがありますが、現在はソリッドボールが市場のほとんどを占めています。ソリッドボールは反発力の強い合成ゴムでできていて、インパクト時のエネルギーを飛距離につなげる仕組みになっています。少しでも飛距離がのびるよう、小さなボールにいろいろな工夫があるのですね。 花粉情報 洗濯指数 傘指数 スポーツ レジャー 公共施設 その他 MY天気 衛星画像 天気図 お問い合わせ ©Copyright Weathernews Inc. 個人情報保護ポリシー ウェブサイト利用ガイドライン 推奨環境 運営会社 ©NIFTY Corporation'), Document(metadata={'title': '東京（東京）の天気 - Yahoo!天気・災害', 'source': 'https://weather.yahoo.co.jp/weather/jp/13/4410.html', 'score': 0.8010817, 'images': []}, page_content='パーソナル天気 現在位置： 天気・災害トップ > 関東・信越 > 東京都 > 東京（東京） 今日明日の天気 2024年11月19日 4時00分発表 11月19日(火) 晴時々曇 13℃[-7] 8℃[-3] 時間  0-6 6-12    12-18   18-24 降水  0％  0％  0％  0％ 風： 北の風後北東の風２３区西部では北の風やや強く 波： 1.5メートル後0.5メートル 11月20日(水) 曇のち雨 12℃[-1] 7℃[-1] 時間  0-6 6-12    12-18   18-24 降水  0％  10％ 30％ 60％ 風： 北西の風後東の風 波： 0.5メートル 東京地方の警報・注意報 注意報 強風、波浪 週間天気 2024年11月19日 2時00分発表 日付 11月21日 (木) 11月22日 (金) 11月23日 (土) 11月24日 (日) 11月25日 (月) 11月26日 (火) 天気 雨のち晴   晴時々曇   晴時々曇   晴時々曇   晴時々曇   曇一時雨 気温（℃）   14 降水 確率（％）   60  0   0   0   10  50 2024年11月19日 4時00分 発表 (C) Mapbox (C) OpenStreetMap (C) LY Corporation Yahoo!地図ガイドライン (C) Mapbox (C) OpenStreetMap (C) LY Corporation Yahoo!地図ガイドライン 11/18(月)18時\\u3000師走の寒さ\\u3000今季一番低く\\u3000北日本中心に積雪増加も Copyright (C) 2024 Weather Map Co., Ltd. All Rights Reserved. © LY Corporation'), Document(metadata={'title': '中央区の1時間天気 - 日本気象協会 tenki.jp', 'source': 'https://tenki.jp/forecast/3/16/4410/13102/1hour.html', 'score': 0.76554126, 'images': []}, page_content='tenki.jp\\n中央区の天気27日18:00発表\\n雷レーダーで落雷情報を見る\\n今日27日(火)\\n明日28日(水)\\n明後日29日(木)\\n今日 2024年02月27日(火)[赤口]\\n晴れ\\n晴れ\\n晴れ\\n晴れ\\n晴れ\\n晴れ\\n晴れ\\n晴れ\\n晴れ\\n晴れ\\n晴れ\\n晴れ\\n晴れ\\n晴れ\\n晴れ\\n晴れ\\n晴れ\\n晴れ\\n晴れ\\n晴れ\\n晴れ\\n晴れ\\n晴れ\\n晴れ\\n北西\\n北西\\n北西\\n北西\\n北西\\n北西\\n北西\\n西北西\\n北西\\n北西\\n北北西\\n北西\\n北西\\n北北西\\n北北西\\n北北西\\n北北西\\n北北西\\n北西\\n北西\\n北西\\n北西\\n北西\\n北北西\\n東京都雨雲レーダー現在の雨雲を見る\\nこれからの予報を見る\\n明日 2024年02月28日(水)[先勝]\\n晴れ\\n晴れ\\n晴れ\\n晴れ\\n晴れ\\n晴れ\\n晴れ\\n晴れ\\n晴れ\\n晴れ\\n晴れ\\n晴れ\\n晴れ\\n晴れ\\n晴れ\\n晴れ\\n晴れ\\n晴れ\\n晴れ\\n晴れ\\n晴れ\\n晴れ\\n晴れ\\n晴れ\\n北西\\n北西\\n北西\\n北西\\n北西\\n北北西\\n北北西\\n北北西\\n北西\\n北西\\n北北西\\n北北西\\n北西\\n北北西\\n北北西\\n北北西\\n北北西\\n北北西\\n北北西\\n北北西\\n北北西\\n北北西\\n北\\n北\\n東京都雨雲レーダー現在の雨雲を見る\\nこれからの予報を見る\\n明後日 2024年02月29日(木)[友引]\\n晴れ\\n晴れ\\n晴れ\\n晴れ\\n晴れ\\n晴れ\\n晴れ\\n晴れ\\n晴れ\\n晴れ\\n晴れ\\n晴れ\\n晴れ\\n曇り\\n曇り\\n曇り\\n曇り\\n曇り\\n曇り\\n曇り\\n曇り\\n曇り\\n曇り\\n曇り\\n北\\n北\\n北\\n北\\n北\\n北\\n北北東\\n北北東\\n北北東\\n北東\\n東北東\\n東\\n東南東\\n南東\\n南東\\n南東\\n南東\\n南東\\n東南東\\n東南東\\n東\\n東\\n北東\\n北北西\\n東京都雨雲レーダー現在の雨雲を見る\\nこれからの予報を見る\\nスギ花粉予測\\n東京都の花粉飛散分布予測\\n02月27日\\n少ない\\n48時間後までの予測を見る\\n10日間天気\\n03月01日\\n(金)\\n03月02日\\n(土)\\n03月03日\\n(日)\\n03月04日\\n(月)\\n03月05日\\n(火)\\n03月06日\\n(水)\\n03月07日\\n(木)\\n03月08日\\n(金)\\n雨のち曇\\n晴時々曇\\n晴\\n晴時々曇\\n曇時々雨\\n曇時々雨\\n曇時々雨\\n曇時々晴\\n14\\n5\\n9\\n4\\n13\\n2\\n16\\n4\\n11\\n8\\n9\\n6\\n10\\n4\\n12\\n4\\n90%\\n40%\\n20%\\n30%\\n90%\\n80%\\n50%\\n40%\\n気象予報士のポイント解説(日直予報士)\\n 3月に入っても強い寒気が南下\\u3000今週末は日本海側で大雪の恐れ\\u3000太平洋側も冬の寒さ\\n木曜～金曜\\u3000また南岸低気圧\\u3000九州～関東、東北で雨や湿った雪\\u3000風も強まる\\n関西\\u300028日(水)貴重な日差しで気温上昇\\u3000南部ではスギ花粉がピーク\\u3000万全の対策を\\n関東週間\\u3000明日の朝まで強風に注意\\u3000交通への影響のおそれ\\u3000天気周期変化\\u3000寒暖差大\\nこちらもおすすめ\\n東京地方(東京)各地の天気\\n天気ガイド\\n東京の観測ランキング\\n※中央区に最も近い観測地点（アメダス）を表示しています。\\n注目の情報\\nアクエリアス 冬の汗かき予報\\n冬でも汗をかいている。今日の汗かきシーンをチェック！PR\\n30日間無料トライアル実施中\\n登山天気がパワーUP！最新の山の状態がすぐにわかる！\\n人気の日直予報士を配信\\ntenki.jpの公式Twitterをチェック!天気、降水確率、最高最低気温を配信\\n天気予報\\n観測\\n防災情報\\n天気図\\n指数情報\\nレジャー天気\\n季節特集\\n天気ニュース\\ntenki.jp+more\\n全国のコンテンツ\\ntenki.jpトップ\\n天気予報\\n観測\\n防災情報\\n天気図\\n指数情報\\nレジャー天気\\n季節特集\\n天気ニュース')], 'answer': '東京の今日の天気は、10月27日（日）で、最高気温24℃、最低気温17℃、降水確率は50%です。'}\n"
     ]
    }
   ],
   "source": [
    "output = chain.invoke(\"東京の今日の天気は？\")\n",
    "print(output)"
   ]
  },
  {
   "cell_type": "markdown",
   "metadata": {},
   "source": [
    "#### ＜補足：pick ＞\n"
   ]
  },
  {
   "cell_type": "code",
   "execution_count": 31,
   "metadata": {
    "execution": {
     "iopub.execute_input": "2024-06-28T02:34:27.725885Z",
     "iopub.status.busy": "2024-06-28T02:34:27.725708Z",
     "iopub.status.idle": "2024-06-28T02:34:34.101909Z",
     "shell.execute_reply": "2024-06-28T02:34:34.101439Z"
    }
   },
   "outputs": [],
   "source": [
    "chain = (\n",
    "    RunnableParallel(\n",
    "        {\n",
    "            \"question\": RunnablePassthrough(),\n",
    "            \"context\": retriever,\n",
    "        }\n",
    "    )\n",
    "    .assign(answer=prompt | model | StrOutputParser())\n",
    "    .pick([\"context\", \"answer\"])\n",
    ")"
   ]
  },
  {
   "cell_type": "code",
   "execution_count": 32,
   "metadata": {},
   "outputs": [
    {
     "name": "stdout",
     "output_type": "stream",
     "text": [
      "{'context': [Document(metadata={'title': '東京都の天気（今日・明日の天気） | @nifty天気予報', 'source': 'https://weather.nifty.com/prefecture/13', 'score': 0.85967577, 'images': []}, page_content='東京都の天気（今日・明日の天気） | @nifty天気予報 @niftyトップ 今日・明日の天気 サイトマップ MY天気 地震情報台風情報警報・注意報花粉情報洗濯指数傘指数衛星画像天気図 スポーツレジャー観光地公共施設 全国の天気 東京都 台風20号、21号発生中 東京都の天気 今日の天気10月27日(日) 明日の天気10月28日(月) 東京  24/17 50% 大島  23/19 50% 八丈島  25/21 40% 父島  29/26 30% 港区 目黒区 大田区 世田谷区 墨田区 江東区 荒川区 足立区 葛飾区 日野市 多摩市 稲城市 多摩北部 三鷹市 昭島市 小平市 東村山市 東大和市 清瀬市 青梅市 大島 八丈島 東京  21/17 70% 大島  21/21 70% 八丈島  26/23 70% 父島  29/26 40% 港区 目黒区 大田区 世田谷区 墨田区 江東区 荒川区 足立区 葛飾区 日野市 多摩市 稲城市 多摩北部 三鷹市 昭島市 東村山市 東大和市 清瀬市 青梅市 大島 八丈島 栃木県 群馬県 東京都 長崎県 熊本県 大分県 宮崎県 沖縄県 お天気豆知識 ### 音速 秋が深まり気温も下がってくると、夏、元気に鳴いていた虫たちの声も次第に聞こえなくなります。特に夜などはひっそりとした静けさを感じることでしょう。皆さんは、気温の変化が音の伝わる速さにも影響する、ということを知っていますか。空気中では、気温が高いほど音は速く伝わります。また、気圧も音速に影響を与えますが、無視できるほど小さなものです。一方、地上のようには電波の伝わらない海中においては、音は空気中よりも速く伝わり、重要な通信手段となっています。水中では、水温が高いほど音速は速くなり、水圧が高くても速く伝わるようになります。つまり、海面付近の日射を受けて暖かいところと、大きな水圧のかかっている深海が、海の中では音速の速い領域となっているのです。音はそれが伝わっていく物質が密なほど速くなる、といった性質があります。そのため、一般には軽い空気よりも重たい水の中のほうが音を速く伝えるのです。空気中での音速は、通常、秒速３４０メートルですが、水中での音速は、秒速１５００メートル。空気中の４倍以上というすさまじい速さで伝わっていくのです。 ### ウエザーマーケティング 私達が毎日のように利用しているスーパーやコンビニの商品の中には、気温や天気、季節によってその売れゆきが大きく変わってくるものがあります。例えば、水着やスキー用品などの季節商品や、セーターやコートなどの衣類、野菜や飲み物などがそうです。当然、お店では、消費者が買いたいと思う時期に最適な商品を提供したいと考えています。その際、気象情報を活用しながら、販売計画を立てたり、商品の仕入れや在庫の管理などを工夫することを、「ウェザーマーケティング」と言います。天気や降水確率、体感温度などを商品の販売活動に活用することにより、むだを防ぎ、売り上げを上げるチャンスを知ることができるのです。さらに、ウェザーマーケティングは、仕入れや在庫管理などの販売計画だけでなく、店鋪の人員配置、売り場作り、プロモーション計画などにも役立てることができます。このように、気象情報はテレビで見ている天気予報だけでなく、流通の業界にもさまざまな形で活用されているのです。 ### ゴルフボールのしくみ スポーツの秋です。ゴルフを楽しむ方も多いでしょう。一見ただの小さな円球に思えるゴルフボールですが、その中には最先端のテクノロジーがつまっています。表面にあるへこみはディンプルといって、単なる飾りではありません。ディンプルには空気抵抗を減らして、揚力を増やす効果があり、ボールが遠くまで飛ぶための翼の役割をします。また、ゴルフボールは大きく分けて、糸巻きボールとソリッドボールがありますが、現在はソリッドボールが市場のほとんどを占めています。ソリッドボールは反発力の強い合成ゴムでできていて、インパクト時のエネルギーを飛距離につなげる仕組みになっています。少しでも飛距離がのびるよう、小さなボールにいろいろな工夫があるのですね。 花粉情報 洗濯指数 傘指数 スポーツ レジャー 公共施設 その他 MY天気 衛星画像 天気図 お問い合わせ ©Copyright Weathernews Inc. 個人情報保護ポリシー ウェブサイト利用ガイドライン 推奨環境 運営会社 ©NIFTY Corporation'), Document(metadata={'title': '東京（東京）の天気 - Yahoo!天気・災害', 'source': 'https://weather.yahoo.co.jp/weather/jp/13/4410.html', 'score': 0.8010817, 'images': []}, page_content='パーソナル天気 現在位置： 天気・災害トップ > 関東・信越 > 東京都 > 東京（東京） 今日明日の天気 2024年11月19日 4時00分発表 11月19日(火) 晴時々曇 13℃[-7] 8℃[-3] 時間  0-6 6-12    12-18   18-24 降水  0％  0％  0％  0％ 風： 北の風後北東の風２３区西部では北の風やや強く 波： 1.5メートル後0.5メートル 11月20日(水) 曇のち雨 12℃[-1] 7℃[-1] 時間  0-6 6-12    12-18   18-24 降水  0％  10％ 30％ 60％ 風： 北西の風後東の風 波： 0.5メートル 東京地方の警報・注意報 注意報 強風、波浪 週間天気 2024年11月19日 2時00分発表 日付 11月21日 (木) 11月22日 (金) 11月23日 (土) 11月24日 (日) 11月25日 (月) 11月26日 (火) 天気 雨のち晴   晴時々曇   晴時々曇   晴時々曇   晴時々曇   曇一時雨 気温（℃）   14 降水 確率（％）   60  0   0   0   10  50 2024年11月19日 4時00分 発表 (C) Mapbox (C) OpenStreetMap (C) LY Corporation Yahoo!地図ガイドライン (C) Mapbox (C) OpenStreetMap (C) LY Corporation Yahoo!地図ガイドライン 11/18(月)18時\\u3000師走の寒さ\\u3000今季一番低く\\u3000北日本中心に積雪増加も Copyright (C) 2024 Weather Map Co., Ltd. All Rights Reserved. © LY Corporation'), Document(metadata={'title': '中央区の1時間天気 - 日本気象協会 tenki.jp', 'source': 'https://tenki.jp/forecast/3/16/4410/13102/1hour.html', 'score': 0.76554126, 'images': []}, page_content='tenki.jp\\n中央区の天気27日18:00発表\\n雷レーダーで落雷情報を見る\\n今日27日(火)\\n明日28日(水)\\n明後日29日(木)\\n今日 2024年02月27日(火)[赤口]\\n晴れ\\n晴れ\\n晴れ\\n晴れ\\n晴れ\\n晴れ\\n晴れ\\n晴れ\\n晴れ\\n晴れ\\n晴れ\\n晴れ\\n晴れ\\n晴れ\\n晴れ\\n晴れ\\n晴れ\\n晴れ\\n晴れ\\n晴れ\\n晴れ\\n晴れ\\n晴れ\\n晴れ\\n北西\\n北西\\n北西\\n北西\\n北西\\n北西\\n北西\\n西北西\\n北西\\n北西\\n北北西\\n北西\\n北西\\n北北西\\n北北西\\n北北西\\n北北西\\n北北西\\n北西\\n北西\\n北西\\n北西\\n北西\\n北北西\\n東京都雨雲レーダー現在の雨雲を見る\\nこれからの予報を見る\\n明日 2024年02月28日(水)[先勝]\\n晴れ\\n晴れ\\n晴れ\\n晴れ\\n晴れ\\n晴れ\\n晴れ\\n晴れ\\n晴れ\\n晴れ\\n晴れ\\n晴れ\\n晴れ\\n晴れ\\n晴れ\\n晴れ\\n晴れ\\n晴れ\\n晴れ\\n晴れ\\n晴れ\\n晴れ\\n晴れ\\n晴れ\\n北西\\n北西\\n北西\\n北西\\n北西\\n北北西\\n北北西\\n北北西\\n北西\\n北西\\n北北西\\n北北西\\n北西\\n北北西\\n北北西\\n北北西\\n北北西\\n北北西\\n北北西\\n北北西\\n北北西\\n北北西\\n北\\n北\\n東京都雨雲レーダー現在の雨雲を見る\\nこれからの予報を見る\\n明後日 2024年02月29日(木)[友引]\\n晴れ\\n晴れ\\n晴れ\\n晴れ\\n晴れ\\n晴れ\\n晴れ\\n晴れ\\n晴れ\\n晴れ\\n晴れ\\n晴れ\\n晴れ\\n曇り\\n曇り\\n曇り\\n曇り\\n曇り\\n曇り\\n曇り\\n曇り\\n曇り\\n曇り\\n曇り\\n北\\n北\\n北\\n北\\n北\\n北\\n北北東\\n北北東\\n北北東\\n北東\\n東北東\\n東\\n東南東\\n南東\\n南東\\n南東\\n南東\\n南東\\n東南東\\n東南東\\n東\\n東\\n北東\\n北北西\\n東京都雨雲レーダー現在の雨雲を見る\\nこれからの予報を見る\\nスギ花粉予測\\n東京都の花粉飛散分布予測\\n02月27日\\n少ない\\n48時間後までの予測を見る\\n10日間天気\\n03月01日\\n(金)\\n03月02日\\n(土)\\n03月03日\\n(日)\\n03月04日\\n(月)\\n03月05日\\n(火)\\n03月06日\\n(水)\\n03月07日\\n(木)\\n03月08日\\n(金)\\n雨のち曇\\n晴時々曇\\n晴\\n晴時々曇\\n曇時々雨\\n曇時々雨\\n曇時々雨\\n曇時々晴\\n14\\n5\\n9\\n4\\n13\\n2\\n16\\n4\\n11\\n8\\n9\\n6\\n10\\n4\\n12\\n4\\n90%\\n40%\\n20%\\n30%\\n90%\\n80%\\n50%\\n40%\\n気象予報士のポイント解説(日直予報士)\\n 3月に入っても強い寒気が南下\\u3000今週末は日本海側で大雪の恐れ\\u3000太平洋側も冬の寒さ\\n木曜～金曜\\u3000また南岸低気圧\\u3000九州～関東、東北で雨や湿った雪\\u3000風も強まる\\n関西\\u300028日(水)貴重な日差しで気温上昇\\u3000南部ではスギ花粉がピーク\\u3000万全の対策を\\n関東週間\\u3000明日の朝まで強風に注意\\u3000交通への影響のおそれ\\u3000天気周期変化\\u3000寒暖差大\\nこちらもおすすめ\\n東京地方(東京)各地の天気\\n天気ガイド\\n東京の観測ランキング\\n※中央区に最も近い観測地点（アメダス）を表示しています。\\n注目の情報\\nアクエリアス 冬の汗かき予報\\n冬でも汗をかいている。今日の汗かきシーンをチェック！PR\\n30日間無料トライアル実施中\\n登山天気がパワーUP！最新の山の状態がすぐにわかる！\\n人気の日直予報士を配信\\ntenki.jpの公式Twitterをチェック!天気、降水確率、最高最低気温を配信\\n天気予報\\n観測\\n防災情報\\n天気図\\n指数情報\\nレジャー天気\\n季節特集\\n天気ニュース\\ntenki.jp+more\\n全国のコンテンツ\\ntenki.jpトップ\\n天気予報\\n観測\\n防災情報\\n天気図\\n指数情報\\nレジャー天気\\n季節特集\\n天気ニュース')], 'answer': '東京の今日の天気は、10月27日（日）で、最高気温24℃、最低気温17℃、降水確率は50%です。'}\n"
     ]
    }
   ],
   "source": [
    "output = chain.invoke(\"東京の今日の天気は？\")\n",
    "print(output)"
   ]
  },
  {
   "cell_type": "markdown",
   "metadata": {},
   "source": [
    "### （コラム）astream_events\n"
   ]
  },
  {
   "cell_type": "code",
   "execution_count": null,
   "metadata": {},
   "outputs": [],
   "source": [
    "# Google Colabでは次のコードの「async」の箇所に「Use of \"async\" not allowed outside of async function」と表示されますが、エラーなく実行できます"
   ]
  },
  {
   "cell_type": "code",
   "execution_count": 33,
   "metadata": {
    "execution": {
     "iopub.execute_input": "2024-06-28T02:34:34.103973Z",
     "iopub.status.busy": "2024-06-28T02:34:34.103802Z",
     "iopub.status.idle": "2024-06-28T02:34:34.107769Z",
     "shell.execute_reply": "2024-06-28T02:34:34.107274Z"
    }
   },
   "outputs": [
    {
     "name": "stdout",
     "output_type": "stream",
     "text": [
      "{'event': 'on_chain_start', 'data': {'input': '東京の今日の天気は？'}, 'name': 'RunnableSequence', 'tags': [], 'run_id': '6d17a6ef-6ed4-4242-aef7-48a56477d13d', 'metadata': {}, 'parent_ids': []}\n",
      "{'event': 'on_chain_start', 'data': {}, 'name': 'RunnableParallel<context,question>', 'tags': ['seq:step:1'], 'run_id': 'c87ee3f0-a928-4a91-bcc8-7dbb92c924ac', 'metadata': {}, 'parent_ids': ['6d17a6ef-6ed4-4242-aef7-48a56477d13d']}\n",
      "{'event': 'on_retriever_start', 'data': {'input': {'query': '東京の今日の天気は？'}}, 'name': 'TavilySearchAPIRetriever', 'tags': ['map:key:context'], 'run_id': '9c198795-fe9a-4269-947f-e74753e189d4', 'metadata': {'ls_retriever_name': 'tavilysearchapi'}, 'parent_ids': ['6d17a6ef-6ed4-4242-aef7-48a56477d13d', 'c87ee3f0-a928-4a91-bcc8-7dbb92c924ac']}\n",
      "{'event': 'on_chain_start', 'data': {}, 'name': 'RunnablePassthrough', 'tags': ['map:key:question'], 'run_id': 'e5926eb9-aa5d-4bce-81e7-ecf964cd7c50', 'metadata': {}, 'parent_ids': ['6d17a6ef-6ed4-4242-aef7-48a56477d13d', 'c87ee3f0-a928-4a91-bcc8-7dbb92c924ac']}\n",
      "{'event': 'on_chain_stream', 'run_id': 'e5926eb9-aa5d-4bce-81e7-ecf964cd7c50', 'name': 'RunnablePassthrough', 'tags': ['map:key:question'], 'metadata': {}, 'data': {'chunk': '東京の今日の天気は？'}, 'parent_ids': ['6d17a6ef-6ed4-4242-aef7-48a56477d13d', 'c87ee3f0-a928-4a91-bcc8-7dbb92c924ac']}\n",
      "{'event': 'on_chain_stream', 'run_id': 'c87ee3f0-a928-4a91-bcc8-7dbb92c924ac', 'name': 'RunnableParallel<context,question>', 'tags': ['seq:step:1'], 'metadata': {}, 'data': {'chunk': {'question': '東京の今日の天気は？'}}, 'parent_ids': ['6d17a6ef-6ed4-4242-aef7-48a56477d13d']}\n",
      "{'event': 'on_chain_end', 'data': {'output': '東京の今日の天気は？', 'input': '東京の今日の天気は？'}, 'run_id': 'e5926eb9-aa5d-4bce-81e7-ecf964cd7c50', 'name': 'RunnablePassthrough', 'tags': ['map:key:question'], 'metadata': {}, 'parent_ids': ['6d17a6ef-6ed4-4242-aef7-48a56477d13d', 'c87ee3f0-a928-4a91-bcc8-7dbb92c924ac']}\n",
      "{'event': 'on_retriever_end', 'data': {'output': [Document(metadata={'title': '東京都の天気（今日・明日の天気） | @nifty天気予報', 'source': 'https://weather.nifty.com/prefecture/13', 'score': 0.85967577, 'images': []}, page_content='東京都の天気（今日・明日の天気） | @nifty天気予報 @niftyトップ 今日・明日の天気 サイトマップ MY天気 地震情報台風情報警報・注意報花粉情報洗濯指数傘指数衛星画像天気図 スポーツレジャー観光地公共施設 全国の天気 東京都 台風20号、21号発生中 東京都の天気 今日の天気10月27日(日) 明日の天気10月28日(月) 東京  24/17 50% 大島  23/19 50% 八丈島  25/21 40% 父島  29/26 30% 港区 目黒区 大田区 世田谷区 墨田区 江東区 荒川区 足立区 葛飾区 日野市 多摩市 稲城市 多摩北部 三鷹市 昭島市 小平市 東村山市 東大和市 清瀬市 青梅市 大島 八丈島 東京  21/17 70% 大島  21/21 70% 八丈島  26/23 70% 父島  29/26 40% 港区 目黒区 大田区 世田谷区 墨田区 江東区 荒川区 足立区 葛飾区 日野市 多摩市 稲城市 多摩北部 三鷹市 昭島市 東村山市 東大和市 清瀬市 青梅市 大島 八丈島 栃木県 群馬県 東京都 長崎県 熊本県 大分県 宮崎県 沖縄県 お天気豆知識 ### 音速 秋が深まり気温も下がってくると、夏、元気に鳴いていた虫たちの声も次第に聞こえなくなります。特に夜などはひっそりとした静けさを感じることでしょう。皆さんは、気温の変化が音の伝わる速さにも影響する、ということを知っていますか。空気中では、気温が高いほど音は速く伝わります。また、気圧も音速に影響を与えますが、無視できるほど小さなものです。一方、地上のようには電波の伝わらない海中においては、音は空気中よりも速く伝わり、重要な通信手段となっています。水中では、水温が高いほど音速は速くなり、水圧が高くても速く伝わるようになります。つまり、海面付近の日射を受けて暖かいところと、大きな水圧のかかっている深海が、海の中では音速の速い領域となっているのです。音はそれが伝わっていく物質が密なほど速くなる、といった性質があります。そのため、一般には軽い空気よりも重たい水の中のほうが音を速く伝えるのです。空気中での音速は、通常、秒速３４０メートルですが、水中での音速は、秒速１５００メートル。空気中の４倍以上というすさまじい速さで伝わっていくのです。 ### ウエザーマーケティング 私達が毎日のように利用しているスーパーやコンビニの商品の中には、気温や天気、季節によってその売れゆきが大きく変わってくるものがあります。例えば、水着やスキー用品などの季節商品や、セーターやコートなどの衣類、野菜や飲み物などがそうです。当然、お店では、消費者が買いたいと思う時期に最適な商品を提供したいと考えています。その際、気象情報を活用しながら、販売計画を立てたり、商品の仕入れや在庫の管理などを工夫することを、「ウェザーマーケティング」と言います。天気や降水確率、体感温度などを商品の販売活動に活用することにより、むだを防ぎ、売り上げを上げるチャンスを知ることができるのです。さらに、ウェザーマーケティングは、仕入れや在庫管理などの販売計画だけでなく、店鋪の人員配置、売り場作り、プロモーション計画などにも役立てることができます。このように、気象情報はテレビで見ている天気予報だけでなく、流通の業界にもさまざまな形で活用されているのです。 ### ゴルフボールのしくみ スポーツの秋です。ゴルフを楽しむ方も多いでしょう。一見ただの小さな円球に思えるゴルフボールですが、その中には最先端のテクノロジーがつまっています。表面にあるへこみはディンプルといって、単なる飾りではありません。ディンプルには空気抵抗を減らして、揚力を増やす効果があり、ボールが遠くまで飛ぶための翼の役割をします。また、ゴルフボールは大きく分けて、糸巻きボールとソリッドボールがありますが、現在はソリッドボールが市場のほとんどを占めています。ソリッドボールは反発力の強い合成ゴムでできていて、インパクト時のエネルギーを飛距離につなげる仕組みになっています。少しでも飛距離がのびるよう、小さなボールにいろいろな工夫があるのですね。 花粉情報 洗濯指数 傘指数 スポーツ レジャー 公共施設 その他 MY天気 衛星画像 天気図 お問い合わせ ©Copyright Weathernews Inc. 個人情報保護ポリシー ウェブサイト利用ガイドライン 推奨環境 運営会社 ©NIFTY Corporation'), Document(metadata={'title': '東京（東京）の天気 - Yahoo!天気・災害', 'source': 'https://weather.yahoo.co.jp/weather/jp/13/4410.html', 'score': 0.80126834, 'images': []}, page_content='パーソナル天気 現在位置： 天気・災害トップ > 関東・信越 > 東京都 > 東京（東京） 今日明日の天気 2024年11月19日 4時00分発表 11月19日(火) 晴時々曇 13℃[-7] 8℃[-3] 時間  0-6 6-12    12-18   18-24 降水  0％  0％  0％  0％ 風： 北の風後北東の風２３区西部では北の風やや強く 波： 1.5メートル後0.5メートル 11月20日(水) 曇のち雨 12℃[-1] 7℃[-1] 時間  0-6 6-12    12-18   18-24 降水  0％  10％ 30％ 60％ 風： 北西の風後東の風 波： 0.5メートル 東京地方の警報・注意報 注意報 強風、波浪 週間天気 2024年11月19日 2時00分発表 日付 11月21日 (木) 11月22日 (金) 11月23日 (土) 11月24日 (日) 11月25日 (月) 11月26日 (火) 天気 雨のち晴   晴時々曇   晴時々曇   晴時々曇   晴時々曇   曇一時雨 気温（℃）   14 降水 確率（％）   60  0   0   0   10  50 2024年11月19日 4時00分 発表 (C) Mapbox (C) OpenStreetMap (C) LY Corporation Yahoo!地図ガイドライン (C) Mapbox (C) OpenStreetMap (C) LY Corporation Yahoo!地図ガイドライン 11/18(月)18時\\u3000師走の寒さ\\u3000今季一番低く\\u3000北日本中心に積雪増加も Copyright (C) 2024 Weather Map Co., Ltd. All Rights Reserved. © LY Corporation'), Document(metadata={'title': '中央区の1時間天気 - 日本気象協会 tenki.jp', 'source': 'https://tenki.jp/forecast/3/16/4410/13102/1hour.html', 'score': 0.76554126, 'images': []}, page_content='tenki.jp\\n中央区の天気27日18:00発表\\n雷レーダーで落雷情報を見る\\n今日27日(火)\\n明日28日(水)\\n明後日29日(木)\\n今日 2024年02月27日(火)[赤口]\\n晴れ\\n晴れ\\n晴れ\\n晴れ\\n晴れ\\n晴れ\\n晴れ\\n晴れ\\n晴れ\\n晴れ\\n晴れ\\n晴れ\\n晴れ\\n晴れ\\n晴れ\\n晴れ\\n晴れ\\n晴れ\\n晴れ\\n晴れ\\n晴れ\\n晴れ\\n晴れ\\n晴れ\\n北西\\n北西\\n北西\\n北西\\n北西\\n北西\\n北西\\n西北西\\n北西\\n北西\\n北北西\\n北西\\n北西\\n北北西\\n北北西\\n北北西\\n北北西\\n北北西\\n北西\\n北西\\n北西\\n北西\\n北西\\n北北西\\n東京都雨雲レーダー現在の雨雲を見る\\nこれからの予報を見る\\n明日 2024年02月28日(水)[先勝]\\n晴れ\\n晴れ\\n晴れ\\n晴れ\\n晴れ\\n晴れ\\n晴れ\\n晴れ\\n晴れ\\n晴れ\\n晴れ\\n晴れ\\n晴れ\\n晴れ\\n晴れ\\n晴れ\\n晴れ\\n晴れ\\n晴れ\\n晴れ\\n晴れ\\n晴れ\\n晴れ\\n晴れ\\n北西\\n北西\\n北西\\n北西\\n北西\\n北北西\\n北北西\\n北北西\\n北西\\n北西\\n北北西\\n北北西\\n北西\\n北北西\\n北北西\\n北北西\\n北北西\\n北北西\\n北北西\\n北北西\\n北北西\\n北北西\\n北\\n北\\n東京都雨雲レーダー現在の雨雲を見る\\nこれからの予報を見る\\n明後日 2024年02月29日(木)[友引]\\n晴れ\\n晴れ\\n晴れ\\n晴れ\\n晴れ\\n晴れ\\n晴れ\\n晴れ\\n晴れ\\n晴れ\\n晴れ\\n晴れ\\n晴れ\\n曇り\\n曇り\\n曇り\\n曇り\\n曇り\\n曇り\\n曇り\\n曇り\\n曇り\\n曇り\\n曇り\\n北\\n北\\n北\\n北\\n北\\n北\\n北北東\\n北北東\\n北北東\\n北東\\n東北東\\n東\\n東南東\\n南東\\n南東\\n南東\\n南東\\n南東\\n東南東\\n東南東\\n東\\n東\\n北東\\n北北西\\n東京都雨雲レーダー現在の雨雲を見る\\nこれからの予報を見る\\nスギ花粉予測\\n東京都の花粉飛散分布予測\\n02月27日\\n少ない\\n48時間後までの予測を見る\\n10日間天気\\n03月01日\\n(金)\\n03月02日\\n(土)\\n03月03日\\n(日)\\n03月04日\\n(月)\\n03月05日\\n(火)\\n03月06日\\n(水)\\n03月07日\\n(木)\\n03月08日\\n(金)\\n雨のち曇\\n晴時々曇\\n晴\\n晴時々曇\\n曇時々雨\\n曇時々雨\\n曇時々雨\\n曇時々晴\\n14\\n5\\n9\\n4\\n13\\n2\\n16\\n4\\n11\\n8\\n9\\n6\\n10\\n4\\n12\\n4\\n90%\\n40%\\n20%\\n30%\\n90%\\n80%\\n50%\\n40%\\n気象予報士のポイント解説(日直予報士)\\n 3月に入っても強い寒気が南下\\u3000今週末は日本海側で大雪の恐れ\\u3000太平洋側も冬の寒さ\\n木曜～金曜\\u3000また南岸低気圧\\u3000九州～関東、東北で雨や湿った雪\\u3000風も強まる\\n関西\\u300028日(水)貴重な日差しで気温上昇\\u3000南部ではスギ花粉がピーク\\u3000万全の対策を\\n関東週間\\u3000明日の朝まで強風に注意\\u3000交通への影響のおそれ\\u3000天気周期変化\\u3000寒暖差大\\nこちらもおすすめ\\n東京地方(東京)各地の天気\\n天気ガイド\\n東京の観測ランキング\\n※中央区に最も近い観測地点（アメダス）を表示しています。\\n注目の情報\\nアクエリアス 冬の汗かき予報\\n冬でも汗をかいている。今日の汗かきシーンをチェック！PR\\n30日間無料トライアル実施中\\n登山天気がパワーUP！最新の山の状態がすぐにわかる！\\n人気の日直予報士を配信\\ntenki.jpの公式Twitterをチェック!天気、降水確率、最高最低気温を配信\\n天気予報\\n観測\\n防災情報\\n天気図\\n指数情報\\nレジャー天気\\n季節特集\\n天気ニュース\\ntenki.jp+more\\n全国のコンテンツ\\ntenki.jpトップ\\n天気予報\\n観測\\n防災情報\\n天気図\\n指数情報\\nレジャー天気\\n季節特集\\n天気ニュース')], 'input': {'query': '東京の今日の天気は？'}}, 'run_id': '9c198795-fe9a-4269-947f-e74753e189d4', 'name': 'TavilySearchAPIRetriever', 'tags': ['map:key:context'], 'metadata': {'ls_retriever_name': 'tavilysearchapi'}, 'parent_ids': ['6d17a6ef-6ed4-4242-aef7-48a56477d13d', 'c87ee3f0-a928-4a91-bcc8-7dbb92c924ac']}\n",
      "{'event': 'on_chain_stream', 'run_id': 'c87ee3f0-a928-4a91-bcc8-7dbb92c924ac', 'name': 'RunnableParallel<context,question>', 'tags': ['seq:step:1'], 'metadata': {}, 'data': {'chunk': {'context': [Document(metadata={'title': '東京都の天気（今日・明日の天気） | @nifty天気予報', 'source': 'https://weather.nifty.com/prefecture/13', 'score': 0.85967577, 'images': []}, page_content='東京都の天気（今日・明日の天気） | @nifty天気予報 @niftyトップ 今日・明日の天気 サイトマップ MY天気 地震情報台風情報警報・注意報花粉情報洗濯指数傘指数衛星画像天気図 スポーツレジャー観光地公共施設 全国の天気 東京都 台風20号、21号発生中 東京都の天気 今日の天気10月27日(日) 明日の天気10月28日(月) 東京  24/17 50% 大島  23/19 50% 八丈島  25/21 40% 父島  29/26 30% 港区 目黒区 大田区 世田谷区 墨田区 江東区 荒川区 足立区 葛飾区 日野市 多摩市 稲城市 多摩北部 三鷹市 昭島市 小平市 東村山市 東大和市 清瀬市 青梅市 大島 八丈島 東京  21/17 70% 大島  21/21 70% 八丈島  26/23 70% 父島  29/26 40% 港区 目黒区 大田区 世田谷区 墨田区 江東区 荒川区 足立区 葛飾区 日野市 多摩市 稲城市 多摩北部 三鷹市 昭島市 東村山市 東大和市 清瀬市 青梅市 大島 八丈島 栃木県 群馬県 東京都 長崎県 熊本県 大分県 宮崎県 沖縄県 お天気豆知識 ### 音速 秋が深まり気温も下がってくると、夏、元気に鳴いていた虫たちの声も次第に聞こえなくなります。特に夜などはひっそりとした静けさを感じることでしょう。皆さんは、気温の変化が音の伝わる速さにも影響する、ということを知っていますか。空気中では、気温が高いほど音は速く伝わります。また、気圧も音速に影響を与えますが、無視できるほど小さなものです。一方、地上のようには電波の伝わらない海中においては、音は空気中よりも速く伝わり、重要な通信手段となっています。水中では、水温が高いほど音速は速くなり、水圧が高くても速く伝わるようになります。つまり、海面付近の日射を受けて暖かいところと、大きな水圧のかかっている深海が、海の中では音速の速い領域となっているのです。音はそれが伝わっていく物質が密なほど速くなる、といった性質があります。そのため、一般には軽い空気よりも重たい水の中のほうが音を速く伝えるのです。空気中での音速は、通常、秒速３４０メートルですが、水中での音速は、秒速１５００メートル。空気中の４倍以上というすさまじい速さで伝わっていくのです。 ### ウエザーマーケティング 私達が毎日のように利用しているスーパーやコンビニの商品の中には、気温や天気、季節によってその売れゆきが大きく変わってくるものがあります。例えば、水着やスキー用品などの季節商品や、セーターやコートなどの衣類、野菜や飲み物などがそうです。当然、お店では、消費者が買いたいと思う時期に最適な商品を提供したいと考えています。その際、気象情報を活用しながら、販売計画を立てたり、商品の仕入れや在庫の管理などを工夫することを、「ウェザーマーケティング」と言います。天気や降水確率、体感温度などを商品の販売活動に活用することにより、むだを防ぎ、売り上げを上げるチャンスを知ることができるのです。さらに、ウェザーマーケティングは、仕入れや在庫管理などの販売計画だけでなく、店鋪の人員配置、売り場作り、プロモーション計画などにも役立てることができます。このように、気象情報はテレビで見ている天気予報だけでなく、流通の業界にもさまざまな形で活用されているのです。 ### ゴルフボールのしくみ スポーツの秋です。ゴルフを楽しむ方も多いでしょう。一見ただの小さな円球に思えるゴルフボールですが、その中には最先端のテクノロジーがつまっています。表面にあるへこみはディンプルといって、単なる飾りではありません。ディンプルには空気抵抗を減らして、揚力を増やす効果があり、ボールが遠くまで飛ぶための翼の役割をします。また、ゴルフボールは大きく分けて、糸巻きボールとソリッドボールがありますが、現在はソリッドボールが市場のほとんどを占めています。ソリッドボールは反発力の強い合成ゴムでできていて、インパクト時のエネルギーを飛距離につなげる仕組みになっています。少しでも飛距離がのびるよう、小さなボールにいろいろな工夫があるのですね。 花粉情報 洗濯指数 傘指数 スポーツ レジャー 公共施設 その他 MY天気 衛星画像 天気図 お問い合わせ ©Copyright Weathernews Inc. 個人情報保護ポリシー ウェブサイト利用ガイドライン 推奨環境 運営会社 ©NIFTY Corporation'), Document(metadata={'title': '東京（東京）の天気 - Yahoo!天気・災害', 'source': 'https://weather.yahoo.co.jp/weather/jp/13/4410.html', 'score': 0.80126834, 'images': []}, page_content='パーソナル天気 現在位置： 天気・災害トップ > 関東・信越 > 東京都 > 東京（東京） 今日明日の天気 2024年11月19日 4時00分発表 11月19日(火) 晴時々曇 13℃[-7] 8℃[-3] 時間  0-6 6-12    12-18   18-24 降水  0％  0％  0％  0％ 風： 北の風後北東の風２３区西部では北の風やや強く 波： 1.5メートル後0.5メートル 11月20日(水) 曇のち雨 12℃[-1] 7℃[-1] 時間  0-6 6-12    12-18   18-24 降水  0％  10％ 30％ 60％ 風： 北西の風後東の風 波： 0.5メートル 東京地方の警報・注意報 注意報 強風、波浪 週間天気 2024年11月19日 2時00分発表 日付 11月21日 (木) 11月22日 (金) 11月23日 (土) 11月24日 (日) 11月25日 (月) 11月26日 (火) 天気 雨のち晴   晴時々曇   晴時々曇   晴時々曇   晴時々曇   曇一時雨 気温（℃）   14 降水 確率（％）   60  0   0   0   10  50 2024年11月19日 4時00分 発表 (C) Mapbox (C) OpenStreetMap (C) LY Corporation Yahoo!地図ガイドライン (C) Mapbox (C) OpenStreetMap (C) LY Corporation Yahoo!地図ガイドライン 11/18(月)18時\\u3000師走の寒さ\\u3000今季一番低く\\u3000北日本中心に積雪増加も Copyright (C) 2024 Weather Map Co., Ltd. All Rights Reserved. © LY Corporation'), Document(metadata={'title': '中央区の1時間天気 - 日本気象協会 tenki.jp', 'source': 'https://tenki.jp/forecast/3/16/4410/13102/1hour.html', 'score': 0.76554126, 'images': []}, page_content='tenki.jp\\n中央区の天気27日18:00発表\\n雷レーダーで落雷情報を見る\\n今日27日(火)\\n明日28日(水)\\n明後日29日(木)\\n今日 2024年02月27日(火)[赤口]\\n晴れ\\n晴れ\\n晴れ\\n晴れ\\n晴れ\\n晴れ\\n晴れ\\n晴れ\\n晴れ\\n晴れ\\n晴れ\\n晴れ\\n晴れ\\n晴れ\\n晴れ\\n晴れ\\n晴れ\\n晴れ\\n晴れ\\n晴れ\\n晴れ\\n晴れ\\n晴れ\\n晴れ\\n北西\\n北西\\n北西\\n北西\\n北西\\n北西\\n北西\\n西北西\\n北西\\n北西\\n北北西\\n北西\\n北西\\n北北西\\n北北西\\n北北西\\n北北西\\n北北西\\n北西\\n北西\\n北西\\n北西\\n北西\\n北北西\\n東京都雨雲レーダー現在の雨雲を見る\\nこれからの予報を見る\\n明日 2024年02月28日(水)[先勝]\\n晴れ\\n晴れ\\n晴れ\\n晴れ\\n晴れ\\n晴れ\\n晴れ\\n晴れ\\n晴れ\\n晴れ\\n晴れ\\n晴れ\\n晴れ\\n晴れ\\n晴れ\\n晴れ\\n晴れ\\n晴れ\\n晴れ\\n晴れ\\n晴れ\\n晴れ\\n晴れ\\n晴れ\\n北西\\n北西\\n北西\\n北西\\n北西\\n北北西\\n北北西\\n北北西\\n北西\\n北西\\n北北西\\n北北西\\n北西\\n北北西\\n北北西\\n北北西\\n北北西\\n北北西\\n北北西\\n北北西\\n北北西\\n北北西\\n北\\n北\\n東京都雨雲レーダー現在の雨雲を見る\\nこれからの予報を見る\\n明後日 2024年02月29日(木)[友引]\\n晴れ\\n晴れ\\n晴れ\\n晴れ\\n晴れ\\n晴れ\\n晴れ\\n晴れ\\n晴れ\\n晴れ\\n晴れ\\n晴れ\\n晴れ\\n曇り\\n曇り\\n曇り\\n曇り\\n曇り\\n曇り\\n曇り\\n曇り\\n曇り\\n曇り\\n曇り\\n北\\n北\\n北\\n北\\n北\\n北\\n北北東\\n北北東\\n北北東\\n北東\\n東北東\\n東\\n東南東\\n南東\\n南東\\n南東\\n南東\\n南東\\n東南東\\n東南東\\n東\\n東\\n北東\\n北北西\\n東京都雨雲レーダー現在の雨雲を見る\\nこれからの予報を見る\\nスギ花粉予測\\n東京都の花粉飛散分布予測\\n02月27日\\n少ない\\n48時間後までの予測を見る\\n10日間天気\\n03月01日\\n(金)\\n03月02日\\n(土)\\n03月03日\\n(日)\\n03月04日\\n(月)\\n03月05日\\n(火)\\n03月06日\\n(水)\\n03月07日\\n(木)\\n03月08日\\n(金)\\n雨のち曇\\n晴時々曇\\n晴\\n晴時々曇\\n曇時々雨\\n曇時々雨\\n曇時々雨\\n曇時々晴\\n14\\n5\\n9\\n4\\n13\\n2\\n16\\n4\\n11\\n8\\n9\\n6\\n10\\n4\\n12\\n4\\n90%\\n40%\\n20%\\n30%\\n90%\\n80%\\n50%\\n40%\\n気象予報士のポイント解説(日直予報士)\\n 3月に入っても強い寒気が南下\\u3000今週末は日本海側で大雪の恐れ\\u3000太平洋側も冬の寒さ\\n木曜～金曜\\u3000また南岸低気圧\\u3000九州～関東、東北で雨や湿った雪\\u3000風も強まる\\n関西\\u300028日(水)貴重な日差しで気温上昇\\u3000南部ではスギ花粉がピーク\\u3000万全の対策を\\n関東週間\\u3000明日の朝まで強風に注意\\u3000交通への影響のおそれ\\u3000天気周期変化\\u3000寒暖差大\\nこちらもおすすめ\\n東京地方(東京)各地の天気\\n天気ガイド\\n東京の観測ランキング\\n※中央区に最も近い観測地点（アメダス）を表示しています。\\n注目の情報\\nアクエリアス 冬の汗かき予報\\n冬でも汗をかいている。今日の汗かきシーンをチェック！PR\\n30日間無料トライアル実施中\\n登山天気がパワーUP！最新の山の状態がすぐにわかる！\\n人気の日直予報士を配信\\ntenki.jpの公式Twitterをチェック!天気、降水確率、最高最低気温を配信\\n天気予報\\n観測\\n防災情報\\n天気図\\n指数情報\\nレジャー天気\\n季節特集\\n天気ニュース\\ntenki.jp+more\\n全国のコンテンツ\\ntenki.jpトップ\\n天気予報\\n観測\\n防災情報\\n天気図\\n指数情報\\nレジャー天気\\n季節特集\\n天気ニュース')]}}, 'parent_ids': ['6d17a6ef-6ed4-4242-aef7-48a56477d13d']}\n",
      "{'event': 'on_chain_end', 'data': {'output': {'question': '東京の今日の天気は？', 'context': [Document(metadata={'title': '東京都の天気（今日・明日の天気） | @nifty天気予報', 'source': 'https://weather.nifty.com/prefecture/13', 'score': 0.85967577, 'images': []}, page_content='東京都の天気（今日・明日の天気） | @nifty天気予報 @niftyトップ 今日・明日の天気 サイトマップ MY天気 地震情報台風情報警報・注意報花粉情報洗濯指数傘指数衛星画像天気図 スポーツレジャー観光地公共施設 全国の天気 東京都 台風20号、21号発生中 東京都の天気 今日の天気10月27日(日) 明日の天気10月28日(月) 東京  24/17 50% 大島  23/19 50% 八丈島  25/21 40% 父島  29/26 30% 港区 目黒区 大田区 世田谷区 墨田区 江東区 荒川区 足立区 葛飾区 日野市 多摩市 稲城市 多摩北部 三鷹市 昭島市 小平市 東村山市 東大和市 清瀬市 青梅市 大島 八丈島 東京  21/17 70% 大島  21/21 70% 八丈島  26/23 70% 父島  29/26 40% 港区 目黒区 大田区 世田谷区 墨田区 江東区 荒川区 足立区 葛飾区 日野市 多摩市 稲城市 多摩北部 三鷹市 昭島市 東村山市 東大和市 清瀬市 青梅市 大島 八丈島 栃木県 群馬県 東京都 長崎県 熊本県 大分県 宮崎県 沖縄県 お天気豆知識 ### 音速 秋が深まり気温も下がってくると、夏、元気に鳴いていた虫たちの声も次第に聞こえなくなります。特に夜などはひっそりとした静けさを感じることでしょう。皆さんは、気温の変化が音の伝わる速さにも影響する、ということを知っていますか。空気中では、気温が高いほど音は速く伝わります。また、気圧も音速に影響を与えますが、無視できるほど小さなものです。一方、地上のようには電波の伝わらない海中においては、音は空気中よりも速く伝わり、重要な通信手段となっています。水中では、水温が高いほど音速は速くなり、水圧が高くても速く伝わるようになります。つまり、海面付近の日射を受けて暖かいところと、大きな水圧のかかっている深海が、海の中では音速の速い領域となっているのです。音はそれが伝わっていく物質が密なほど速くなる、といった性質があります。そのため、一般には軽い空気よりも重たい水の中のほうが音を速く伝えるのです。空気中での音速は、通常、秒速３４０メートルですが、水中での音速は、秒速１５００メートル。空気中の４倍以上というすさまじい速さで伝わっていくのです。 ### ウエザーマーケティング 私達が毎日のように利用しているスーパーやコンビニの商品の中には、気温や天気、季節によってその売れゆきが大きく変わってくるものがあります。例えば、水着やスキー用品などの季節商品や、セーターやコートなどの衣類、野菜や飲み物などがそうです。当然、お店では、消費者が買いたいと思う時期に最適な商品を提供したいと考えています。その際、気象情報を活用しながら、販売計画を立てたり、商品の仕入れや在庫の管理などを工夫することを、「ウェザーマーケティング」と言います。天気や降水確率、体感温度などを商品の販売活動に活用することにより、むだを防ぎ、売り上げを上げるチャンスを知ることができるのです。さらに、ウェザーマーケティングは、仕入れや在庫管理などの販売計画だけでなく、店鋪の人員配置、売り場作り、プロモーション計画などにも役立てることができます。このように、気象情報はテレビで見ている天気予報だけでなく、流通の業界にもさまざまな形で活用されているのです。 ### ゴルフボールのしくみ スポーツの秋です。ゴルフを楽しむ方も多いでしょう。一見ただの小さな円球に思えるゴルフボールですが、その中には最先端のテクノロジーがつまっています。表面にあるへこみはディンプルといって、単なる飾りではありません。ディンプルには空気抵抗を減らして、揚力を増やす効果があり、ボールが遠くまで飛ぶための翼の役割をします。また、ゴルフボールは大きく分けて、糸巻きボールとソリッドボールがありますが、現在はソリッドボールが市場のほとんどを占めています。ソリッドボールは反発力の強い合成ゴムでできていて、インパクト時のエネルギーを飛距離につなげる仕組みになっています。少しでも飛距離がのびるよう、小さなボールにいろいろな工夫があるのですね。 花粉情報 洗濯指数 傘指数 スポーツ レジャー 公共施設 その他 MY天気 衛星画像 天気図 お問い合わせ ©Copyright Weathernews Inc. 個人情報保護ポリシー ウェブサイト利用ガイドライン 推奨環境 運営会社 ©NIFTY Corporation'), Document(metadata={'title': '東京（東京）の天気 - Yahoo!天気・災害', 'source': 'https://weather.yahoo.co.jp/weather/jp/13/4410.html', 'score': 0.80126834, 'images': []}, page_content='パーソナル天気 現在位置： 天気・災害トップ > 関東・信越 > 東京都 > 東京（東京） 今日明日の天気 2024年11月19日 4時00分発表 11月19日(火) 晴時々曇 13℃[-7] 8℃[-3] 時間  0-6 6-12    12-18   18-24 降水  0％  0％  0％  0％ 風： 北の風後北東の風２３区西部では北の風やや強く 波： 1.5メートル後0.5メートル 11月20日(水) 曇のち雨 12℃[-1] 7℃[-1] 時間  0-6 6-12    12-18   18-24 降水  0％  10％ 30％ 60％ 風： 北西の風後東の風 波： 0.5メートル 東京地方の警報・注意報 注意報 強風、波浪 週間天気 2024年11月19日 2時00分発表 日付 11月21日 (木) 11月22日 (金) 11月23日 (土) 11月24日 (日) 11月25日 (月) 11月26日 (火) 天気 雨のち晴   晴時々曇   晴時々曇   晴時々曇   晴時々曇   曇一時雨 気温（℃）   14 降水 確率（％）   60  0   0   0   10  50 2024年11月19日 4時00分 発表 (C) Mapbox (C) OpenStreetMap (C) LY Corporation Yahoo!地図ガイドライン (C) Mapbox (C) OpenStreetMap (C) LY Corporation Yahoo!地図ガイドライン 11/18(月)18時\\u3000師走の寒さ\\u3000今季一番低く\\u3000北日本中心に積雪増加も Copyright (C) 2024 Weather Map Co., Ltd. All Rights Reserved. © LY Corporation'), Document(metadata={'title': '中央区の1時間天気 - 日本気象協会 tenki.jp', 'source': 'https://tenki.jp/forecast/3/16/4410/13102/1hour.html', 'score': 0.76554126, 'images': []}, page_content='tenki.jp\\n中央区の天気27日18:00発表\\n雷レーダーで落雷情報を見る\\n今日27日(火)\\n明日28日(水)\\n明後日29日(木)\\n今日 2024年02月27日(火)[赤口]\\n晴れ\\n晴れ\\n晴れ\\n晴れ\\n晴れ\\n晴れ\\n晴れ\\n晴れ\\n晴れ\\n晴れ\\n晴れ\\n晴れ\\n晴れ\\n晴れ\\n晴れ\\n晴れ\\n晴れ\\n晴れ\\n晴れ\\n晴れ\\n晴れ\\n晴れ\\n晴れ\\n晴れ\\n北西\\n北西\\n北西\\n北西\\n北西\\n北西\\n北西\\n西北西\\n北西\\n北西\\n北北西\\n北西\\n北西\\n北北西\\n北北西\\n北北西\\n北北西\\n北北西\\n北西\\n北西\\n北西\\n北西\\n北西\\n北北西\\n東京都雨雲レーダー現在の雨雲を見る\\nこれからの予報を見る\\n明日 2024年02月28日(水)[先勝]\\n晴れ\\n晴れ\\n晴れ\\n晴れ\\n晴れ\\n晴れ\\n晴れ\\n晴れ\\n晴れ\\n晴れ\\n晴れ\\n晴れ\\n晴れ\\n晴れ\\n晴れ\\n晴れ\\n晴れ\\n晴れ\\n晴れ\\n晴れ\\n晴れ\\n晴れ\\n晴れ\\n晴れ\\n北西\\n北西\\n北西\\n北西\\n北西\\n北北西\\n北北西\\n北北西\\n北西\\n北西\\n北北西\\n北北西\\n北西\\n北北西\\n北北西\\n北北西\\n北北西\\n北北西\\n北北西\\n北北西\\n北北西\\n北北西\\n北\\n北\\n東京都雨雲レーダー現在の雨雲を見る\\nこれからの予報を見る\\n明後日 2024年02月29日(木)[友引]\\n晴れ\\n晴れ\\n晴れ\\n晴れ\\n晴れ\\n晴れ\\n晴れ\\n晴れ\\n晴れ\\n晴れ\\n晴れ\\n晴れ\\n晴れ\\n曇り\\n曇り\\n曇り\\n曇り\\n曇り\\n曇り\\n曇り\\n曇り\\n曇り\\n曇り\\n曇り\\n北\\n北\\n北\\n北\\n北\\n北\\n北北東\\n北北東\\n北北東\\n北東\\n東北東\\n東\\n東南東\\n南東\\n南東\\n南東\\n南東\\n南東\\n東南東\\n東南東\\n東\\n東\\n北東\\n北北西\\n東京都雨雲レーダー現在の雨雲を見る\\nこれからの予報を見る\\nスギ花粉予測\\n東京都の花粉飛散分布予測\\n02月27日\\n少ない\\n48時間後までの予測を見る\\n10日間天気\\n03月01日\\n(金)\\n03月02日\\n(土)\\n03月03日\\n(日)\\n03月04日\\n(月)\\n03月05日\\n(火)\\n03月06日\\n(水)\\n03月07日\\n(木)\\n03月08日\\n(金)\\n雨のち曇\\n晴時々曇\\n晴\\n晴時々曇\\n曇時々雨\\n曇時々雨\\n曇時々雨\\n曇時々晴\\n14\\n5\\n9\\n4\\n13\\n2\\n16\\n4\\n11\\n8\\n9\\n6\\n10\\n4\\n12\\n4\\n90%\\n40%\\n20%\\n30%\\n90%\\n80%\\n50%\\n40%\\n気象予報士のポイント解説(日直予報士)\\n 3月に入っても強い寒気が南下\\u3000今週末は日本海側で大雪の恐れ\\u3000太平洋側も冬の寒さ\\n木曜～金曜\\u3000また南岸低気圧\\u3000九州～関東、東北で雨や湿った雪\\u3000風も強まる\\n関西\\u300028日(水)貴重な日差しで気温上昇\\u3000南部ではスギ花粉がピーク\\u3000万全の対策を\\n関東週間\\u3000明日の朝まで強風に注意\\u3000交通への影響のおそれ\\u3000天気周期変化\\u3000寒暖差大\\nこちらもおすすめ\\n東京地方(東京)各地の天気\\n天気ガイド\\n東京の観測ランキング\\n※中央区に最も近い観測地点（アメダス）を表示しています。\\n注目の情報\\nアクエリアス 冬の汗かき予報\\n冬でも汗をかいている。今日の汗かきシーンをチェック！PR\\n30日間無料トライアル実施中\\n登山天気がパワーUP！最新の山の状態がすぐにわかる！\\n人気の日直予報士を配信\\ntenki.jpの公式Twitterをチェック!天気、降水確率、最高最低気温を配信\\n天気予報\\n観測\\n防災情報\\n天気図\\n指数情報\\nレジャー天気\\n季節特集\\n天気ニュース\\ntenki.jp+more\\n全国のコンテンツ\\ntenki.jpトップ\\n天気予報\\n観測\\n防災情報\\n天気図\\n指数情報\\nレジャー天気\\n季節特集\\n天気ニュース')]}, 'input': '東京の今日の天気は？'}, 'run_id': 'c87ee3f0-a928-4a91-bcc8-7dbb92c924ac', 'name': 'RunnableParallel<context,question>', 'tags': ['seq:step:1'], 'metadata': {}, 'parent_ids': ['6d17a6ef-6ed4-4242-aef7-48a56477d13d']}\n",
      "{'event': 'on_prompt_start', 'data': {'input': {'question': '東京の今日の天気は？', 'context': [Document(metadata={'title': '東京都の天気（今日・明日の天気） | @nifty天気予報', 'source': 'https://weather.nifty.com/prefecture/13', 'score': 0.85967577, 'images': []}, page_content='東京都の天気（今日・明日の天気） | @nifty天気予報 @niftyトップ 今日・明日の天気 サイトマップ MY天気 地震情報台風情報警報・注意報花粉情報洗濯指数傘指数衛星画像天気図 スポーツレジャー観光地公共施設 全国の天気 東京都 台風20号、21号発生中 東京都の天気 今日の天気10月27日(日) 明日の天気10月28日(月) 東京  24/17 50% 大島  23/19 50% 八丈島  25/21 40% 父島  29/26 30% 港区 目黒区 大田区 世田谷区 墨田区 江東区 荒川区 足立区 葛飾区 日野市 多摩市 稲城市 多摩北部 三鷹市 昭島市 小平市 東村山市 東大和市 清瀬市 青梅市 大島 八丈島 東京  21/17 70% 大島  21/21 70% 八丈島  26/23 70% 父島  29/26 40% 港区 目黒区 大田区 世田谷区 墨田区 江東区 荒川区 足立区 葛飾区 日野市 多摩市 稲城市 多摩北部 三鷹市 昭島市 東村山市 東大和市 清瀬市 青梅市 大島 八丈島 栃木県 群馬県 東京都 長崎県 熊本県 大分県 宮崎県 沖縄県 お天気豆知識 ### 音速 秋が深まり気温も下がってくると、夏、元気に鳴いていた虫たちの声も次第に聞こえなくなります。特に夜などはひっそりとした静けさを感じることでしょう。皆さんは、気温の変化が音の伝わる速さにも影響する、ということを知っていますか。空気中では、気温が高いほど音は速く伝わります。また、気圧も音速に影響を与えますが、無視できるほど小さなものです。一方、地上のようには電波の伝わらない海中においては、音は空気中よりも速く伝わり、重要な通信手段となっています。水中では、水温が高いほど音速は速くなり、水圧が高くても速く伝わるようになります。つまり、海面付近の日射を受けて暖かいところと、大きな水圧のかかっている深海が、海の中では音速の速い領域となっているのです。音はそれが伝わっていく物質が密なほど速くなる、といった性質があります。そのため、一般には軽い空気よりも重たい水の中のほうが音を速く伝えるのです。空気中での音速は、通常、秒速３４０メートルですが、水中での音速は、秒速１５００メートル。空気中の４倍以上というすさまじい速さで伝わっていくのです。 ### ウエザーマーケティング 私達が毎日のように利用しているスーパーやコンビニの商品の中には、気温や天気、季節によってその売れゆきが大きく変わってくるものがあります。例えば、水着やスキー用品などの季節商品や、セーターやコートなどの衣類、野菜や飲み物などがそうです。当然、お店では、消費者が買いたいと思う時期に最適な商品を提供したいと考えています。その際、気象情報を活用しながら、販売計画を立てたり、商品の仕入れや在庫の管理などを工夫することを、「ウェザーマーケティング」と言います。天気や降水確率、体感温度などを商品の販売活動に活用することにより、むだを防ぎ、売り上げを上げるチャンスを知ることができるのです。さらに、ウェザーマーケティングは、仕入れや在庫管理などの販売計画だけでなく、店鋪の人員配置、売り場作り、プロモーション計画などにも役立てることができます。このように、気象情報はテレビで見ている天気予報だけでなく、流通の業界にもさまざまな形で活用されているのです。 ### ゴルフボールのしくみ スポーツの秋です。ゴルフを楽しむ方も多いでしょう。一見ただの小さな円球に思えるゴルフボールですが、その中には最先端のテクノロジーがつまっています。表面にあるへこみはディンプルといって、単なる飾りではありません。ディンプルには空気抵抗を減らして、揚力を増やす効果があり、ボールが遠くまで飛ぶための翼の役割をします。また、ゴルフボールは大きく分けて、糸巻きボールとソリッドボールがありますが、現在はソリッドボールが市場のほとんどを占めています。ソリッドボールは反発力の強い合成ゴムでできていて、インパクト時のエネルギーを飛距離につなげる仕組みになっています。少しでも飛距離がのびるよう、小さなボールにいろいろな工夫があるのですね。 花粉情報 洗濯指数 傘指数 スポーツ レジャー 公共施設 その他 MY天気 衛星画像 天気図 お問い合わせ ©Copyright Weathernews Inc. 個人情報保護ポリシー ウェブサイト利用ガイドライン 推奨環境 運営会社 ©NIFTY Corporation'), Document(metadata={'title': '東京（東京）の天気 - Yahoo!天気・災害', 'source': 'https://weather.yahoo.co.jp/weather/jp/13/4410.html', 'score': 0.80126834, 'images': []}, page_content='パーソナル天気 現在位置： 天気・災害トップ > 関東・信越 > 東京都 > 東京（東京） 今日明日の天気 2024年11月19日 4時00分発表 11月19日(火) 晴時々曇 13℃[-7] 8℃[-3] 時間  0-6 6-12    12-18   18-24 降水  0％  0％  0％  0％ 風： 北の風後北東の風２３区西部では北の風やや強く 波： 1.5メートル後0.5メートル 11月20日(水) 曇のち雨 12℃[-1] 7℃[-1] 時間  0-6 6-12    12-18   18-24 降水  0％  10％ 30％ 60％ 風： 北西の風後東の風 波： 0.5メートル 東京地方の警報・注意報 注意報 強風、波浪 週間天気 2024年11月19日 2時00分発表 日付 11月21日 (木) 11月22日 (金) 11月23日 (土) 11月24日 (日) 11月25日 (月) 11月26日 (火) 天気 雨のち晴   晴時々曇   晴時々曇   晴時々曇   晴時々曇   曇一時雨 気温（℃）   14 降水 確率（％）   60  0   0   0   10  50 2024年11月19日 4時00分 発表 (C) Mapbox (C) OpenStreetMap (C) LY Corporation Yahoo!地図ガイドライン (C) Mapbox (C) OpenStreetMap (C) LY Corporation Yahoo!地図ガイドライン 11/18(月)18時\\u3000師走の寒さ\\u3000今季一番低く\\u3000北日本中心に積雪増加も Copyright (C) 2024 Weather Map Co., Ltd. All Rights Reserved. © LY Corporation'), Document(metadata={'title': '中央区の1時間天気 - 日本気象協会 tenki.jp', 'source': 'https://tenki.jp/forecast/3/16/4410/13102/1hour.html', 'score': 0.76554126, 'images': []}, page_content='tenki.jp\\n中央区の天気27日18:00発表\\n雷レーダーで落雷情報を見る\\n今日27日(火)\\n明日28日(水)\\n明後日29日(木)\\n今日 2024年02月27日(火)[赤口]\\n晴れ\\n晴れ\\n晴れ\\n晴れ\\n晴れ\\n晴れ\\n晴れ\\n晴れ\\n晴れ\\n晴れ\\n晴れ\\n晴れ\\n晴れ\\n晴れ\\n晴れ\\n晴れ\\n晴れ\\n晴れ\\n晴れ\\n晴れ\\n晴れ\\n晴れ\\n晴れ\\n晴れ\\n北西\\n北西\\n北西\\n北西\\n北西\\n北西\\n北西\\n西北西\\n北西\\n北西\\n北北西\\n北西\\n北西\\n北北西\\n北北西\\n北北西\\n北北西\\n北北西\\n北西\\n北西\\n北西\\n北西\\n北西\\n北北西\\n東京都雨雲レーダー現在の雨雲を見る\\nこれからの予報を見る\\n明日 2024年02月28日(水)[先勝]\\n晴れ\\n晴れ\\n晴れ\\n晴れ\\n晴れ\\n晴れ\\n晴れ\\n晴れ\\n晴れ\\n晴れ\\n晴れ\\n晴れ\\n晴れ\\n晴れ\\n晴れ\\n晴れ\\n晴れ\\n晴れ\\n晴れ\\n晴れ\\n晴れ\\n晴れ\\n晴れ\\n晴れ\\n北西\\n北西\\n北西\\n北西\\n北西\\n北北西\\n北北西\\n北北西\\n北西\\n北西\\n北北西\\n北北西\\n北西\\n北北西\\n北北西\\n北北西\\n北北西\\n北北西\\n北北西\\n北北西\\n北北西\\n北北西\\n北\\n北\\n東京都雨雲レーダー現在の雨雲を見る\\nこれからの予報を見る\\n明後日 2024年02月29日(木)[友引]\\n晴れ\\n晴れ\\n晴れ\\n晴れ\\n晴れ\\n晴れ\\n晴れ\\n晴れ\\n晴れ\\n晴れ\\n晴れ\\n晴れ\\n晴れ\\n曇り\\n曇り\\n曇り\\n曇り\\n曇り\\n曇り\\n曇り\\n曇り\\n曇り\\n曇り\\n曇り\\n北\\n北\\n北\\n北\\n北\\n北\\n北北東\\n北北東\\n北北東\\n北東\\n東北東\\n東\\n東南東\\n南東\\n南東\\n南東\\n南東\\n南東\\n東南東\\n東南東\\n東\\n東\\n北東\\n北北西\\n東京都雨雲レーダー現在の雨雲を見る\\nこれからの予報を見る\\nスギ花粉予測\\n東京都の花粉飛散分布予測\\n02月27日\\n少ない\\n48時間後までの予測を見る\\n10日間天気\\n03月01日\\n(金)\\n03月02日\\n(土)\\n03月03日\\n(日)\\n03月04日\\n(月)\\n03月05日\\n(火)\\n03月06日\\n(水)\\n03月07日\\n(木)\\n03月08日\\n(金)\\n雨のち曇\\n晴時々曇\\n晴\\n晴時々曇\\n曇時々雨\\n曇時々雨\\n曇時々雨\\n曇時々晴\\n14\\n5\\n9\\n4\\n13\\n2\\n16\\n4\\n11\\n8\\n9\\n6\\n10\\n4\\n12\\n4\\n90%\\n40%\\n20%\\n30%\\n90%\\n80%\\n50%\\n40%\\n気象予報士のポイント解説(日直予報士)\\n 3月に入っても強い寒気が南下\\u3000今週末は日本海側で大雪の恐れ\\u3000太平洋側も冬の寒さ\\n木曜～金曜\\u3000また南岸低気圧\\u3000九州～関東、東北で雨や湿った雪\\u3000風も強まる\\n関西\\u300028日(水)貴重な日差しで気温上昇\\u3000南部ではスギ花粉がピーク\\u3000万全の対策を\\n関東週間\\u3000明日の朝まで強風に注意\\u3000交通への影響のおそれ\\u3000天気周期変化\\u3000寒暖差大\\nこちらもおすすめ\\n東京地方(東京)各地の天気\\n天気ガイド\\n東京の観測ランキング\\n※中央区に最も近い観測地点（アメダス）を表示しています。\\n注目の情報\\nアクエリアス 冬の汗かき予報\\n冬でも汗をかいている。今日の汗かきシーンをチェック！PR\\n30日間無料トライアル実施中\\n登山天気がパワーUP！最新の山の状態がすぐにわかる！\\n人気の日直予報士を配信\\ntenki.jpの公式Twitterをチェック!天気、降水確率、最高最低気温を配信\\n天気予報\\n観測\\n防災情報\\n天気図\\n指数情報\\nレジャー天気\\n季節特集\\n天気ニュース\\ntenki.jp+more\\n全国のコンテンツ\\ntenki.jpトップ\\n天気予報\\n観測\\n防災情報\\n天気図\\n指数情報\\nレジャー天気\\n季節特集\\n天気ニュース')]}}, 'name': 'ChatPromptTemplate', 'tags': ['seq:step:2'], 'run_id': '10f6219e-9ff6-40cf-bdc4-033d6c55cee9', 'metadata': {}, 'parent_ids': ['6d17a6ef-6ed4-4242-aef7-48a56477d13d']}\n",
      "{'event': 'on_prompt_end', 'data': {'output': ChatPromptValue(messages=[HumanMessage(content='以下の文脈だけを踏まえて質問に回答してください。\\n\\n文脈: \"\"\"\\n[Document(metadata={\\'title\\': \\'東京都の天気（今日・明日の天気） | @nifty天気予報\\', \\'source\\': \\'https://weather.nifty.com/prefecture/13\\', \\'score\\': 0.85967577, \\'images\\': []}, page_content=\\'東京都の天気（今日・明日の天気） | @nifty天気予報 @niftyトップ 今日・明日の天気 サイトマップ MY天気 地震情報台風情報警報・注意報花粉情報洗濯指数傘指数衛星画像天気図 スポーツレジャー観光地公共施設 全国の天気 東京都 台風20号、21号発生中 東京都の天気 今日の天気10月27日(日) 明日の天気10月28日(月) 東京  24/17 50% 大島  23/19 50% 八丈島  25/21 40% 父島  29/26 30% 港区 目黒区 大田区 世田谷区 墨田区 江東区 荒川区 足立区 葛飾区 日野市 多摩市 稲城市 多摩北部 三鷹市 昭島市 小平市 東村山市 東大和市 清瀬市 青梅市 大島 八丈島 東京  21/17 70% 大島  21/21 70% 八丈島  26/23 70% 父島  29/26 40% 港区 目黒区 大田区 世田谷区 墨田区 江東区 荒川区 足立区 葛飾区 日野市 多摩市 稲城市 多摩北部 三鷹市 昭島市 東村山市 東大和市 清瀬市 青梅市 大島 八丈島 栃木県 群馬県 東京都 長崎県 熊本県 大分県 宮崎県 沖縄県 お天気豆知識 ### 音速 秋が深まり気温も下がってくると、夏、元気に鳴いていた虫たちの声も次第に聞こえなくなります。特に夜などはひっそりとした静けさを感じることでしょう。皆さんは、気温の変化が音の伝わる速さにも影響する、ということを知っていますか。空気中では、気温が高いほど音は速く伝わります。また、気圧も音速に影響を与えますが、無視できるほど小さなものです。一方、地上のようには電波の伝わらない海中においては、音は空気中よりも速く伝わり、重要な通信手段となっています。水中では、水温が高いほど音速は速くなり、水圧が高くても速く伝わるようになります。つまり、海面付近の日射を受けて暖かいところと、大きな水圧のかかっている深海が、海の中では音速の速い領域となっているのです。音はそれが伝わっていく物質が密なほど速くなる、といった性質があります。そのため、一般には軽い空気よりも重たい水の中のほうが音を速く伝えるのです。空気中での音速は、通常、秒速３４０メートルですが、水中での音速は、秒速１５００メートル。空気中の４倍以上というすさまじい速さで伝わっていくのです。 ### ウエザーマーケティング 私達が毎日のように利用しているスーパーやコンビニの商品の中には、気温や天気、季節によってその売れゆきが大きく変わってくるものがあります。例えば、水着やスキー用品などの季節商品や、セーターやコートなどの衣類、野菜や飲み物などがそうです。当然、お店では、消費者が買いたいと思う時期に最適な商品を提供したいと考えています。その際、気象情報を活用しながら、販売計画を立てたり、商品の仕入れや在庫の管理などを工夫することを、「ウェザーマーケティング」と言います。天気や降水確率、体感温度などを商品の販売活動に活用することにより、むだを防ぎ、売り上げを上げるチャンスを知ることができるのです。さらに、ウェザーマーケティングは、仕入れや在庫管理などの販売計画だけでなく、店鋪の人員配置、売り場作り、プロモーション計画などにも役立てることができます。このように、気象情報はテレビで見ている天気予報だけでなく、流通の業界にもさまざまな形で活用されているのです。 ### ゴルフボールのしくみ スポーツの秋です。ゴルフを楽しむ方も多いでしょう。一見ただの小さな円球に思えるゴルフボールですが、その中には最先端のテクノロジーがつまっています。表面にあるへこみはディンプルといって、単なる飾りではありません。ディンプルには空気抵抗を減らして、揚力を増やす効果があり、ボールが遠くまで飛ぶための翼の役割をします。また、ゴルフボールは大きく分けて、糸巻きボールとソリッドボールがありますが、現在はソリッドボールが市場のほとんどを占めています。ソリッドボールは反発力の強い合成ゴムでできていて、インパクト時のエネルギーを飛距離につなげる仕組みになっています。少しでも飛距離がのびるよう、小さなボールにいろいろな工夫があるのですね。 花粉情報 洗濯指数 傘指数 スポーツ レジャー 公共施設 その他 MY天気 衛星画像 天気図 お問い合わせ ©Copyright Weathernews Inc. 個人情報保護ポリシー ウェブサイト利用ガイドライン 推奨環境 運営会社 ©NIFTY Corporation\\'), Document(metadata={\\'title\\': \\'東京（東京）の天気 - Yahoo!天気・災害\\', \\'source\\': \\'https://weather.yahoo.co.jp/weather/jp/13/4410.html\\', \\'score\\': 0.80126834, \\'images\\': []}, page_content=\\'パーソナル天気 現在位置： 天気・災害トップ > 関東・信越 > 東京都 > 東京（東京） 今日明日の天気 2024年11月19日 4時00分発表 11月19日(火) 晴時々曇 13℃[-7] 8℃[-3] 時間  0-6 6-12    12-18   18-24 降水  0％  0％  0％  0％ 風： 北の風後北東の風２３区西部では北の風やや強く 波： 1.5メートル後0.5メートル 11月20日(水) 曇のち雨 12℃[-1] 7℃[-1] 時間  0-6 6-12    12-18   18-24 降水  0％  10％ 30％ 60％ 風： 北西の風後東の風 波： 0.5メートル 東京地方の警報・注意報 注意報 強風、波浪 週間天気 2024年11月19日 2時00分発表 日付 11月21日 (木) 11月22日 (金) 11月23日 (土) 11月24日 (日) 11月25日 (月) 11月26日 (火) 天気 雨のち晴   晴時々曇   晴時々曇   晴時々曇   晴時々曇   曇一時雨 気温（℃）   14 降水 確率（％）   60  0   0   0   10  50 2024年11月19日 4時00分 発表 (C) Mapbox (C) OpenStreetMap (C) LY Corporation Yahoo!地図ガイドライン (C) Mapbox (C) OpenStreetMap (C) LY Corporation Yahoo!地図ガイドライン 11/18(月)18時\\\\u3000師走の寒さ\\\\u3000今季一番低く\\\\u3000北日本中心に積雪増加も Copyright (C) 2024 Weather Map Co., Ltd. All Rights Reserved. © LY Corporation\\'), Document(metadata={\\'title\\': \\'中央区の1時間天気 - 日本気象協会 tenki.jp\\', \\'source\\': \\'https://tenki.jp/forecast/3/16/4410/13102/1hour.html\\', \\'score\\': 0.76554126, \\'images\\': []}, page_content=\\'tenki.jp\\\\n中央区の天気27日18:00発表\\\\n雷レーダーで落雷情報を見る\\\\n今日27日(火)\\\\n明日28日(水)\\\\n明後日29日(木)\\\\n今日 2024年02月27日(火)[赤口]\\\\n晴れ\\\\n晴れ\\\\n晴れ\\\\n晴れ\\\\n晴れ\\\\n晴れ\\\\n晴れ\\\\n晴れ\\\\n晴れ\\\\n晴れ\\\\n晴れ\\\\n晴れ\\\\n晴れ\\\\n晴れ\\\\n晴れ\\\\n晴れ\\\\n晴れ\\\\n晴れ\\\\n晴れ\\\\n晴れ\\\\n晴れ\\\\n晴れ\\\\n晴れ\\\\n晴れ\\\\n北西\\\\n北西\\\\n北西\\\\n北西\\\\n北西\\\\n北西\\\\n北西\\\\n西北西\\\\n北西\\\\n北西\\\\n北北西\\\\n北西\\\\n北西\\\\n北北西\\\\n北北西\\\\n北北西\\\\n北北西\\\\n北北西\\\\n北西\\\\n北西\\\\n北西\\\\n北西\\\\n北西\\\\n北北西\\\\n東京都雨雲レーダー現在の雨雲を見る\\\\nこれからの予報を見る\\\\n明日 2024年02月28日(水)[先勝]\\\\n晴れ\\\\n晴れ\\\\n晴れ\\\\n晴れ\\\\n晴れ\\\\n晴れ\\\\n晴れ\\\\n晴れ\\\\n晴れ\\\\n晴れ\\\\n晴れ\\\\n晴れ\\\\n晴れ\\\\n晴れ\\\\n晴れ\\\\n晴れ\\\\n晴れ\\\\n晴れ\\\\n晴れ\\\\n晴れ\\\\n晴れ\\\\n晴れ\\\\n晴れ\\\\n晴れ\\\\n北西\\\\n北西\\\\n北西\\\\n北西\\\\n北西\\\\n北北西\\\\n北北西\\\\n北北西\\\\n北西\\\\n北西\\\\n北北西\\\\n北北西\\\\n北西\\\\n北北西\\\\n北北西\\\\n北北西\\\\n北北西\\\\n北北西\\\\n北北西\\\\n北北西\\\\n北北西\\\\n北北西\\\\n北\\\\n北\\\\n東京都雨雲レーダー現在の雨雲を見る\\\\nこれからの予報を見る\\\\n明後日 2024年02月29日(木)[友引]\\\\n晴れ\\\\n晴れ\\\\n晴れ\\\\n晴れ\\\\n晴れ\\\\n晴れ\\\\n晴れ\\\\n晴れ\\\\n晴れ\\\\n晴れ\\\\n晴れ\\\\n晴れ\\\\n晴れ\\\\n曇り\\\\n曇り\\\\n曇り\\\\n曇り\\\\n曇り\\\\n曇り\\\\n曇り\\\\n曇り\\\\n曇り\\\\n曇り\\\\n曇り\\\\n北\\\\n北\\\\n北\\\\n北\\\\n北\\\\n北\\\\n北北東\\\\n北北東\\\\n北北東\\\\n北東\\\\n東北東\\\\n東\\\\n東南東\\\\n南東\\\\n南東\\\\n南東\\\\n南東\\\\n南東\\\\n東南東\\\\n東南東\\\\n東\\\\n東\\\\n北東\\\\n北北西\\\\n東京都雨雲レーダー現在の雨雲を見る\\\\nこれからの予報を見る\\\\nスギ花粉予測\\\\n東京都の花粉飛散分布予測\\\\n02月27日\\\\n少ない\\\\n48時間後までの予測を見る\\\\n10日間天気\\\\n03月01日\\\\n(金)\\\\n03月02日\\\\n(土)\\\\n03月03日\\\\n(日)\\\\n03月04日\\\\n(月)\\\\n03月05日\\\\n(火)\\\\n03月06日\\\\n(水)\\\\n03月07日\\\\n(木)\\\\n03月08日\\\\n(金)\\\\n雨のち曇\\\\n晴時々曇\\\\n晴\\\\n晴時々曇\\\\n曇時々雨\\\\n曇時々雨\\\\n曇時々雨\\\\n曇時々晴\\\\n14\\\\n5\\\\n9\\\\n4\\\\n13\\\\n2\\\\n16\\\\n4\\\\n11\\\\n8\\\\n9\\\\n6\\\\n10\\\\n4\\\\n12\\\\n4\\\\n90%\\\\n40%\\\\n20%\\\\n30%\\\\n90%\\\\n80%\\\\n50%\\\\n40%\\\\n気象予報士のポイント解説(日直予報士)\\\\n 3月に入っても強い寒気が南下\\\\u3000今週末は日本海側で大雪の恐れ\\\\u3000太平洋側も冬の寒さ\\\\n木曜～金曜\\\\u3000また南岸低気圧\\\\u3000九州～関東、東北で雨や湿った雪\\\\u3000風も強まる\\\\n関西\\\\u300028日(水)貴重な日差しで気温上昇\\\\u3000南部ではスギ花粉がピーク\\\\u3000万全の対策を\\\\n関東週間\\\\u3000明日の朝まで強風に注意\\\\u3000交通への影響のおそれ\\\\u3000天気周期変化\\\\u3000寒暖差大\\\\nこちらもおすすめ\\\\n東京地方(東京)各地の天気\\\\n天気ガイド\\\\n東京の観測ランキング\\\\n※中央区に最も近い観測地点（アメダス）を表示しています。\\\\n注目の情報\\\\nアクエリアス 冬の汗かき予報\\\\n冬でも汗をかいている。今日の汗かきシーンをチェック！PR\\\\n30日間無料トライアル実施中\\\\n登山天気がパワーUP！最新の山の状態がすぐにわかる！\\\\n人気の日直予報士を配信\\\\ntenki.jpの公式Twitterをチェック!天気、降水確率、最高最低気温を配信\\\\n天気予報\\\\n観測\\\\n防災情報\\\\n天気図\\\\n指数情報\\\\nレジャー天気\\\\n季節特集\\\\n天気ニュース\\\\ntenki.jp+more\\\\n全国のコンテンツ\\\\ntenki.jpトップ\\\\n天気予報\\\\n観測\\\\n防災情報\\\\n天気図\\\\n指数情報\\\\nレジャー天気\\\\n季節特集\\\\n天気ニュース\\')]\\n\"\"\"\\n\\n質問: 東京の今日の天気は？\\n', additional_kwargs={}, response_metadata={})]), 'input': {'question': '東京の今日の天気は？', 'context': [Document(metadata={'title': '東京都の天気（今日・明日の天気） | @nifty天気予報', 'source': 'https://weather.nifty.com/prefecture/13', 'score': 0.85967577, 'images': []}, page_content='東京都の天気（今日・明日の天気） | @nifty天気予報 @niftyトップ 今日・明日の天気 サイトマップ MY天気 地震情報台風情報警報・注意報花粉情報洗濯指数傘指数衛星画像天気図 スポーツレジャー観光地公共施設 全国の天気 東京都 台風20号、21号発生中 東京都の天気 今日の天気10月27日(日) 明日の天気10月28日(月) 東京  24/17 50% 大島  23/19 50% 八丈島  25/21 40% 父島  29/26 30% 港区 目黒区 大田区 世田谷区 墨田区 江東区 荒川区 足立区 葛飾区 日野市 多摩市 稲城市 多摩北部 三鷹市 昭島市 小平市 東村山市 東大和市 清瀬市 青梅市 大島 八丈島 東京  21/17 70% 大島  21/21 70% 八丈島  26/23 70% 父島  29/26 40% 港区 目黒区 大田区 世田谷区 墨田区 江東区 荒川区 足立区 葛飾区 日野市 多摩市 稲城市 多摩北部 三鷹市 昭島市 東村山市 東大和市 清瀬市 青梅市 大島 八丈島 栃木県 群馬県 東京都 長崎県 熊本県 大分県 宮崎県 沖縄県 お天気豆知識 ### 音速 秋が深まり気温も下がってくると、夏、元気に鳴いていた虫たちの声も次第に聞こえなくなります。特に夜などはひっそりとした静けさを感じることでしょう。皆さんは、気温の変化が音の伝わる速さにも影響する、ということを知っていますか。空気中では、気温が高いほど音は速く伝わります。また、気圧も音速に影響を与えますが、無視できるほど小さなものです。一方、地上のようには電波の伝わらない海中においては、音は空気中よりも速く伝わり、重要な通信手段となっています。水中では、水温が高いほど音速は速くなり、水圧が高くても速く伝わるようになります。つまり、海面付近の日射を受けて暖かいところと、大きな水圧のかかっている深海が、海の中では音速の速い領域となっているのです。音はそれが伝わっていく物質が密なほど速くなる、といった性質があります。そのため、一般には軽い空気よりも重たい水の中のほうが音を速く伝えるのです。空気中での音速は、通常、秒速３４０メートルですが、水中での音速は、秒速１５００メートル。空気中の４倍以上というすさまじい速さで伝わっていくのです。 ### ウエザーマーケティング 私達が毎日のように利用しているスーパーやコンビニの商品の中には、気温や天気、季節によってその売れゆきが大きく変わってくるものがあります。例えば、水着やスキー用品などの季節商品や、セーターやコートなどの衣類、野菜や飲み物などがそうです。当然、お店では、消費者が買いたいと思う時期に最適な商品を提供したいと考えています。その際、気象情報を活用しながら、販売計画を立てたり、商品の仕入れや在庫の管理などを工夫することを、「ウェザーマーケティング」と言います。天気や降水確率、体感温度などを商品の販売活動に活用することにより、むだを防ぎ、売り上げを上げるチャンスを知ることができるのです。さらに、ウェザーマーケティングは、仕入れや在庫管理などの販売計画だけでなく、店鋪の人員配置、売り場作り、プロモーション計画などにも役立てることができます。このように、気象情報はテレビで見ている天気予報だけでなく、流通の業界にもさまざまな形で活用されているのです。 ### ゴルフボールのしくみ スポーツの秋です。ゴルフを楽しむ方も多いでしょう。一見ただの小さな円球に思えるゴルフボールですが、その中には最先端のテクノロジーがつまっています。表面にあるへこみはディンプルといって、単なる飾りではありません。ディンプルには空気抵抗を減らして、揚力を増やす効果があり、ボールが遠くまで飛ぶための翼の役割をします。また、ゴルフボールは大きく分けて、糸巻きボールとソリッドボールがありますが、現在はソリッドボールが市場のほとんどを占めています。ソリッドボールは反発力の強い合成ゴムでできていて、インパクト時のエネルギーを飛距離につなげる仕組みになっています。少しでも飛距離がのびるよう、小さなボールにいろいろな工夫があるのですね。 花粉情報 洗濯指数 傘指数 スポーツ レジャー 公共施設 その他 MY天気 衛星画像 天気図 お問い合わせ ©Copyright Weathernews Inc. 個人情報保護ポリシー ウェブサイト利用ガイドライン 推奨環境 運営会社 ©NIFTY Corporation'), Document(metadata={'title': '東京（東京）の天気 - Yahoo!天気・災害', 'source': 'https://weather.yahoo.co.jp/weather/jp/13/4410.html', 'score': 0.80126834, 'images': []}, page_content='パーソナル天気 現在位置： 天気・災害トップ > 関東・信越 > 東京都 > 東京（東京） 今日明日の天気 2024年11月19日 4時00分発表 11月19日(火) 晴時々曇 13℃[-7] 8℃[-3] 時間  0-6 6-12    12-18   18-24 降水  0％  0％  0％  0％ 風： 北の風後北東の風２３区西部では北の風やや強く 波： 1.5メートル後0.5メートル 11月20日(水) 曇のち雨 12℃[-1] 7℃[-1] 時間  0-6 6-12    12-18   18-24 降水  0％  10％ 30％ 60％ 風： 北西の風後東の風 波： 0.5メートル 東京地方の警報・注意報 注意報 強風、波浪 週間天気 2024年11月19日 2時00分発表 日付 11月21日 (木) 11月22日 (金) 11月23日 (土) 11月24日 (日) 11月25日 (月) 11月26日 (火) 天気 雨のち晴   晴時々曇   晴時々曇   晴時々曇   晴時々曇   曇一時雨 気温（℃）   14 降水 確率（％）   60  0   0   0   10  50 2024年11月19日 4時00分 発表 (C) Mapbox (C) OpenStreetMap (C) LY Corporation Yahoo!地図ガイドライン (C) Mapbox (C) OpenStreetMap (C) LY Corporation Yahoo!地図ガイドライン 11/18(月)18時\\u3000師走の寒さ\\u3000今季一番低く\\u3000北日本中心に積雪増加も Copyright (C) 2024 Weather Map Co., Ltd. All Rights Reserved. © LY Corporation'), Document(metadata={'title': '中央区の1時間天気 - 日本気象協会 tenki.jp', 'source': 'https://tenki.jp/forecast/3/16/4410/13102/1hour.html', 'score': 0.76554126, 'images': []}, page_content='tenki.jp\\n中央区の天気27日18:00発表\\n雷レーダーで落雷情報を見る\\n今日27日(火)\\n明日28日(水)\\n明後日29日(木)\\n今日 2024年02月27日(火)[赤口]\\n晴れ\\n晴れ\\n晴れ\\n晴れ\\n晴れ\\n晴れ\\n晴れ\\n晴れ\\n晴れ\\n晴れ\\n晴れ\\n晴れ\\n晴れ\\n晴れ\\n晴れ\\n晴れ\\n晴れ\\n晴れ\\n晴れ\\n晴れ\\n晴れ\\n晴れ\\n晴れ\\n晴れ\\n北西\\n北西\\n北西\\n北西\\n北西\\n北西\\n北西\\n西北西\\n北西\\n北西\\n北北西\\n北西\\n北西\\n北北西\\n北北西\\n北北西\\n北北西\\n北北西\\n北西\\n北西\\n北西\\n北西\\n北西\\n北北西\\n東京都雨雲レーダー現在の雨雲を見る\\nこれからの予報を見る\\n明日 2024年02月28日(水)[先勝]\\n晴れ\\n晴れ\\n晴れ\\n晴れ\\n晴れ\\n晴れ\\n晴れ\\n晴れ\\n晴れ\\n晴れ\\n晴れ\\n晴れ\\n晴れ\\n晴れ\\n晴れ\\n晴れ\\n晴れ\\n晴れ\\n晴れ\\n晴れ\\n晴れ\\n晴れ\\n晴れ\\n晴れ\\n北西\\n北西\\n北西\\n北西\\n北西\\n北北西\\n北北西\\n北北西\\n北西\\n北西\\n北北西\\n北北西\\n北西\\n北北西\\n北北西\\n北北西\\n北北西\\n北北西\\n北北西\\n北北西\\n北北西\\n北北西\\n北\\n北\\n東京都雨雲レーダー現在の雨雲を見る\\nこれからの予報を見る\\n明後日 2024年02月29日(木)[友引]\\n晴れ\\n晴れ\\n晴れ\\n晴れ\\n晴れ\\n晴れ\\n晴れ\\n晴れ\\n晴れ\\n晴れ\\n晴れ\\n晴れ\\n晴れ\\n曇り\\n曇り\\n曇り\\n曇り\\n曇り\\n曇り\\n曇り\\n曇り\\n曇り\\n曇り\\n曇り\\n北\\n北\\n北\\n北\\n北\\n北\\n北北東\\n北北東\\n北北東\\n北東\\n東北東\\n東\\n東南東\\n南東\\n南東\\n南東\\n南東\\n南東\\n東南東\\n東南東\\n東\\n東\\n北東\\n北北西\\n東京都雨雲レーダー現在の雨雲を見る\\nこれからの予報を見る\\nスギ花粉予測\\n東京都の花粉飛散分布予測\\n02月27日\\n少ない\\n48時間後までの予測を見る\\n10日間天気\\n03月01日\\n(金)\\n03月02日\\n(土)\\n03月03日\\n(日)\\n03月04日\\n(月)\\n03月05日\\n(火)\\n03月06日\\n(水)\\n03月07日\\n(木)\\n03月08日\\n(金)\\n雨のち曇\\n晴時々曇\\n晴\\n晴時々曇\\n曇時々雨\\n曇時々雨\\n曇時々雨\\n曇時々晴\\n14\\n5\\n9\\n4\\n13\\n2\\n16\\n4\\n11\\n8\\n9\\n6\\n10\\n4\\n12\\n4\\n90%\\n40%\\n20%\\n30%\\n90%\\n80%\\n50%\\n40%\\n気象予報士のポイント解説(日直予報士)\\n 3月に入っても強い寒気が南下\\u3000今週末は日本海側で大雪の恐れ\\u3000太平洋側も冬の寒さ\\n木曜～金曜\\u3000また南岸低気圧\\u3000九州～関東、東北で雨や湿った雪\\u3000風も強まる\\n関西\\u300028日(水)貴重な日差しで気温上昇\\u3000南部ではスギ花粉がピーク\\u3000万全の対策を\\n関東週間\\u3000明日の朝まで強風に注意\\u3000交通への影響のおそれ\\u3000天気周期変化\\u3000寒暖差大\\nこちらもおすすめ\\n東京地方(東京)各地の天気\\n天気ガイド\\n東京の観測ランキング\\n※中央区に最も近い観測地点（アメダス）を表示しています。\\n注目の情報\\nアクエリアス 冬の汗かき予報\\n冬でも汗をかいている。今日の汗かきシーンをチェック！PR\\n30日間無料トライアル実施中\\n登山天気がパワーUP！最新の山の状態がすぐにわかる！\\n人気の日直予報士を配信\\ntenki.jpの公式Twitterをチェック!天気、降水確率、最高最低気温を配信\\n天気予報\\n観測\\n防災情報\\n天気図\\n指数情報\\nレジャー天気\\n季節特集\\n天気ニュース\\ntenki.jp+more\\n全国のコンテンツ\\ntenki.jpトップ\\n天気予報\\n観測\\n防災情報\\n天気図\\n指数情報\\nレジャー天気\\n季節特集\\n天気ニュース')]}}, 'run_id': '10f6219e-9ff6-40cf-bdc4-033d6c55cee9', 'name': 'ChatPromptTemplate', 'tags': ['seq:step:2'], 'metadata': {}, 'parent_ids': ['6d17a6ef-6ed4-4242-aef7-48a56477d13d']}\n",
      "{'event': 'on_chat_model_start', 'data': {'input': {'messages': [[HumanMessage(content='以下の文脈だけを踏まえて質問に回答してください。\\n\\n文脈: \"\"\"\\n[Document(metadata={\\'title\\': \\'東京都の天気（今日・明日の天気） | @nifty天気予報\\', \\'source\\': \\'https://weather.nifty.com/prefecture/13\\', \\'score\\': 0.85967577, \\'images\\': []}, page_content=\\'東京都の天気（今日・明日の天気） | @nifty天気予報 @niftyトップ 今日・明日の天気 サイトマップ MY天気 地震情報台風情報警報・注意報花粉情報洗濯指数傘指数衛星画像天気図 スポーツレジャー観光地公共施設 全国の天気 東京都 台風20号、21号発生中 東京都の天気 今日の天気10月27日(日) 明日の天気10月28日(月) 東京  24/17 50% 大島  23/19 50% 八丈島  25/21 40% 父島  29/26 30% 港区 目黒区 大田区 世田谷区 墨田区 江東区 荒川区 足立区 葛飾区 日野市 多摩市 稲城市 多摩北部 三鷹市 昭島市 小平市 東村山市 東大和市 清瀬市 青梅市 大島 八丈島 東京  21/17 70% 大島  21/21 70% 八丈島  26/23 70% 父島  29/26 40% 港区 目黒区 大田区 世田谷区 墨田区 江東区 荒川区 足立区 葛飾区 日野市 多摩市 稲城市 多摩北部 三鷹市 昭島市 東村山市 東大和市 清瀬市 青梅市 大島 八丈島 栃木県 群馬県 東京都 長崎県 熊本県 大分県 宮崎県 沖縄県 お天気豆知識 ### 音速 秋が深まり気温も下がってくると、夏、元気に鳴いていた虫たちの声も次第に聞こえなくなります。特に夜などはひっそりとした静けさを感じることでしょう。皆さんは、気温の変化が音の伝わる速さにも影響する、ということを知っていますか。空気中では、気温が高いほど音は速く伝わります。また、気圧も音速に影響を与えますが、無視できるほど小さなものです。一方、地上のようには電波の伝わらない海中においては、音は空気中よりも速く伝わり、重要な通信手段となっています。水中では、水温が高いほど音速は速くなり、水圧が高くても速く伝わるようになります。つまり、海面付近の日射を受けて暖かいところと、大きな水圧のかかっている深海が、海の中では音速の速い領域となっているのです。音はそれが伝わっていく物質が密なほど速くなる、といった性質があります。そのため、一般には軽い空気よりも重たい水の中のほうが音を速く伝えるのです。空気中での音速は、通常、秒速３４０メートルですが、水中での音速は、秒速１５００メートル。空気中の４倍以上というすさまじい速さで伝わっていくのです。 ### ウエザーマーケティング 私達が毎日のように利用しているスーパーやコンビニの商品の中には、気温や天気、季節によってその売れゆきが大きく変わってくるものがあります。例えば、水着やスキー用品などの季節商品や、セーターやコートなどの衣類、野菜や飲み物などがそうです。当然、お店では、消費者が買いたいと思う時期に最適な商品を提供したいと考えています。その際、気象情報を活用しながら、販売計画を立てたり、商品の仕入れや在庫の管理などを工夫することを、「ウェザーマーケティング」と言います。天気や降水確率、体感温度などを商品の販売活動に活用することにより、むだを防ぎ、売り上げを上げるチャンスを知ることができるのです。さらに、ウェザーマーケティングは、仕入れや在庫管理などの販売計画だけでなく、店鋪の人員配置、売り場作り、プロモーション計画などにも役立てることができます。このように、気象情報はテレビで見ている天気予報だけでなく、流通の業界にもさまざまな形で活用されているのです。 ### ゴルフボールのしくみ スポーツの秋です。ゴルフを楽しむ方も多いでしょう。一見ただの小さな円球に思えるゴルフボールですが、その中には最先端のテクノロジーがつまっています。表面にあるへこみはディンプルといって、単なる飾りではありません。ディンプルには空気抵抗を減らして、揚力を増やす効果があり、ボールが遠くまで飛ぶための翼の役割をします。また、ゴルフボールは大きく分けて、糸巻きボールとソリッドボールがありますが、現在はソリッドボールが市場のほとんどを占めています。ソリッドボールは反発力の強い合成ゴムでできていて、インパクト時のエネルギーを飛距離につなげる仕組みになっています。少しでも飛距離がのびるよう、小さなボールにいろいろな工夫があるのですね。 花粉情報 洗濯指数 傘指数 スポーツ レジャー 公共施設 その他 MY天気 衛星画像 天気図 お問い合わせ ©Copyright Weathernews Inc. 個人情報保護ポリシー ウェブサイト利用ガイドライン 推奨環境 運営会社 ©NIFTY Corporation\\'), Document(metadata={\\'title\\': \\'東京（東京）の天気 - Yahoo!天気・災害\\', \\'source\\': \\'https://weather.yahoo.co.jp/weather/jp/13/4410.html\\', \\'score\\': 0.80126834, \\'images\\': []}, page_content=\\'パーソナル天気 現在位置： 天気・災害トップ > 関東・信越 > 東京都 > 東京（東京） 今日明日の天気 2024年11月19日 4時00分発表 11月19日(火) 晴時々曇 13℃[-7] 8℃[-3] 時間  0-6 6-12    12-18   18-24 降水  0％  0％  0％  0％ 風： 北の風後北東の風２３区西部では北の風やや強く 波： 1.5メートル後0.5メートル 11月20日(水) 曇のち雨 12℃[-1] 7℃[-1] 時間  0-6 6-12    12-18   18-24 降水  0％  10％ 30％ 60％ 風： 北西の風後東の風 波： 0.5メートル 東京地方の警報・注意報 注意報 強風、波浪 週間天気 2024年11月19日 2時00分発表 日付 11月21日 (木) 11月22日 (金) 11月23日 (土) 11月24日 (日) 11月25日 (月) 11月26日 (火) 天気 雨のち晴   晴時々曇   晴時々曇   晴時々曇   晴時々曇   曇一時雨 気温（℃）   14 降水 確率（％）   60  0   0   0   10  50 2024年11月19日 4時00分 発表 (C) Mapbox (C) OpenStreetMap (C) LY Corporation Yahoo!地図ガイドライン (C) Mapbox (C) OpenStreetMap (C) LY Corporation Yahoo!地図ガイドライン 11/18(月)18時\\\\u3000師走の寒さ\\\\u3000今季一番低く\\\\u3000北日本中心に積雪増加も Copyright (C) 2024 Weather Map Co., Ltd. All Rights Reserved. © LY Corporation\\'), Document(metadata={\\'title\\': \\'中央区の1時間天気 - 日本気象協会 tenki.jp\\', \\'source\\': \\'https://tenki.jp/forecast/3/16/4410/13102/1hour.html\\', \\'score\\': 0.76554126, \\'images\\': []}, page_content=\\'tenki.jp\\\\n中央区の天気27日18:00発表\\\\n雷レーダーで落雷情報を見る\\\\n今日27日(火)\\\\n明日28日(水)\\\\n明後日29日(木)\\\\n今日 2024年02月27日(火)[赤口]\\\\n晴れ\\\\n晴れ\\\\n晴れ\\\\n晴れ\\\\n晴れ\\\\n晴れ\\\\n晴れ\\\\n晴れ\\\\n晴れ\\\\n晴れ\\\\n晴れ\\\\n晴れ\\\\n晴れ\\\\n晴れ\\\\n晴れ\\\\n晴れ\\\\n晴れ\\\\n晴れ\\\\n晴れ\\\\n晴れ\\\\n晴れ\\\\n晴れ\\\\n晴れ\\\\n晴れ\\\\n北西\\\\n北西\\\\n北西\\\\n北西\\\\n北西\\\\n北西\\\\n北西\\\\n西北西\\\\n北西\\\\n北西\\\\n北北西\\\\n北西\\\\n北西\\\\n北北西\\\\n北北西\\\\n北北西\\\\n北北西\\\\n北北西\\\\n北西\\\\n北西\\\\n北西\\\\n北西\\\\n北西\\\\n北北西\\\\n東京都雨雲レーダー現在の雨雲を見る\\\\nこれからの予報を見る\\\\n明日 2024年02月28日(水)[先勝]\\\\n晴れ\\\\n晴れ\\\\n晴れ\\\\n晴れ\\\\n晴れ\\\\n晴れ\\\\n晴れ\\\\n晴れ\\\\n晴れ\\\\n晴れ\\\\n晴れ\\\\n晴れ\\\\n晴れ\\\\n晴れ\\\\n晴れ\\\\n晴れ\\\\n晴れ\\\\n晴れ\\\\n晴れ\\\\n晴れ\\\\n晴れ\\\\n晴れ\\\\n晴れ\\\\n晴れ\\\\n北西\\\\n北西\\\\n北西\\\\n北西\\\\n北西\\\\n北北西\\\\n北北西\\\\n北北西\\\\n北西\\\\n北西\\\\n北北西\\\\n北北西\\\\n北西\\\\n北北西\\\\n北北西\\\\n北北西\\\\n北北西\\\\n北北西\\\\n北北西\\\\n北北西\\\\n北北西\\\\n北北西\\\\n北\\\\n北\\\\n東京都雨雲レーダー現在の雨雲を見る\\\\nこれからの予報を見る\\\\n明後日 2024年02月29日(木)[友引]\\\\n晴れ\\\\n晴れ\\\\n晴れ\\\\n晴れ\\\\n晴れ\\\\n晴れ\\\\n晴れ\\\\n晴れ\\\\n晴れ\\\\n晴れ\\\\n晴れ\\\\n晴れ\\\\n晴れ\\\\n曇り\\\\n曇り\\\\n曇り\\\\n曇り\\\\n曇り\\\\n曇り\\\\n曇り\\\\n曇り\\\\n曇り\\\\n曇り\\\\n曇り\\\\n北\\\\n北\\\\n北\\\\n北\\\\n北\\\\n北\\\\n北北東\\\\n北北東\\\\n北北東\\\\n北東\\\\n東北東\\\\n東\\\\n東南東\\\\n南東\\\\n南東\\\\n南東\\\\n南東\\\\n南東\\\\n東南東\\\\n東南東\\\\n東\\\\n東\\\\n北東\\\\n北北西\\\\n東京都雨雲レーダー現在の雨雲を見る\\\\nこれからの予報を見る\\\\nスギ花粉予測\\\\n東京都の花粉飛散分布予測\\\\n02月27日\\\\n少ない\\\\n48時間後までの予測を見る\\\\n10日間天気\\\\n03月01日\\\\n(金)\\\\n03月02日\\\\n(土)\\\\n03月03日\\\\n(日)\\\\n03月04日\\\\n(月)\\\\n03月05日\\\\n(火)\\\\n03月06日\\\\n(水)\\\\n03月07日\\\\n(木)\\\\n03月08日\\\\n(金)\\\\n雨のち曇\\\\n晴時々曇\\\\n晴\\\\n晴時々曇\\\\n曇時々雨\\\\n曇時々雨\\\\n曇時々雨\\\\n曇時々晴\\\\n14\\\\n5\\\\n9\\\\n4\\\\n13\\\\n2\\\\n16\\\\n4\\\\n11\\\\n8\\\\n9\\\\n6\\\\n10\\\\n4\\\\n12\\\\n4\\\\n90%\\\\n40%\\\\n20%\\\\n30%\\\\n90%\\\\n80%\\\\n50%\\\\n40%\\\\n気象予報士のポイント解説(日直予報士)\\\\n 3月に入っても強い寒気が南下\\\\u3000今週末は日本海側で大雪の恐れ\\\\u3000太平洋側も冬の寒さ\\\\n木曜～金曜\\\\u3000また南岸低気圧\\\\u3000九州～関東、東北で雨や湿った雪\\\\u3000風も強まる\\\\n関西\\\\u300028日(水)貴重な日差しで気温上昇\\\\u3000南部ではスギ花粉がピーク\\\\u3000万全の対策を\\\\n関東週間\\\\u3000明日の朝まで強風に注意\\\\u3000交通への影響のおそれ\\\\u3000天気周期変化\\\\u3000寒暖差大\\\\nこちらもおすすめ\\\\n東京地方(東京)各地の天気\\\\n天気ガイド\\\\n東京の観測ランキング\\\\n※中央区に最も近い観測地点（アメダス）を表示しています。\\\\n注目の情報\\\\nアクエリアス 冬の汗かき予報\\\\n冬でも汗をかいている。今日の汗かきシーンをチェック！PR\\\\n30日間無料トライアル実施中\\\\n登山天気がパワーUP！最新の山の状態がすぐにわかる！\\\\n人気の日直予報士を配信\\\\ntenki.jpの公式Twitterをチェック!天気、降水確率、最高最低気温を配信\\\\n天気予報\\\\n観測\\\\n防災情報\\\\n天気図\\\\n指数情報\\\\nレジャー天気\\\\n季節特集\\\\n天気ニュース\\\\ntenki.jp+more\\\\n全国のコンテンツ\\\\ntenki.jpトップ\\\\n天気予報\\\\n観測\\\\n防災情報\\\\n天気図\\\\n指数情報\\\\nレジャー天気\\\\n季節特集\\\\n天気ニュース\\')]\\n\"\"\"\\n\\n質問: 東京の今日の天気は？\\n', additional_kwargs={}, response_metadata={})]]}}, 'name': 'ChatOpenAI', 'tags': ['seq:step:3'], 'run_id': '4facae6d-7b00-42c0-bb23-2a4f04bb4ba5', 'metadata': {'ls_provider': 'openai', 'ls_model_name': 'gpt-4o-mini', 'ls_model_type': 'chat', 'ls_temperature': 0.0}, 'parent_ids': ['6d17a6ef-6ed4-4242-aef7-48a56477d13d']}\n",
      "{'event': 'on_chat_model_stream', 'data': {'chunk': AIMessageChunk(content='', additional_kwargs={}, response_metadata={}, id='run-4facae6d-7b00-42c0-bb23-2a4f04bb4ba5')}, 'run_id': '4facae6d-7b00-42c0-bb23-2a4f04bb4ba5', 'name': 'ChatOpenAI', 'tags': ['seq:step:3'], 'metadata': {'ls_provider': 'openai', 'ls_model_name': 'gpt-4o-mini', 'ls_model_type': 'chat', 'ls_temperature': 0.0}, 'parent_ids': ['6d17a6ef-6ed4-4242-aef7-48a56477d13d']}\n",
      "{'event': 'on_parser_start', 'data': {}, 'name': 'StrOutputParser', 'tags': ['seq:step:4'], 'run_id': '400a1563-8006-4c64-8df0-5ba96d996397', 'metadata': {}, 'parent_ids': ['6d17a6ef-6ed4-4242-aef7-48a56477d13d']}\n",
      "{'event': 'on_parser_stream', 'run_id': '400a1563-8006-4c64-8df0-5ba96d996397', 'name': 'StrOutputParser', 'tags': ['seq:step:4'], 'metadata': {}, 'data': {'chunk': ''}, 'parent_ids': ['6d17a6ef-6ed4-4242-aef7-48a56477d13d']}\n",
      "{'event': 'on_chain_stream', 'run_id': '6d17a6ef-6ed4-4242-aef7-48a56477d13d', 'name': 'RunnableSequence', 'tags': [], 'metadata': {}, 'data': {'chunk': ''}, 'parent_ids': []}\n",
      "{'event': 'on_chat_model_stream', 'data': {'chunk': AIMessageChunk(content='東京', additional_kwargs={}, response_metadata={}, id='run-4facae6d-7b00-42c0-bb23-2a4f04bb4ba5')}, 'run_id': '4facae6d-7b00-42c0-bb23-2a4f04bb4ba5', 'name': 'ChatOpenAI', 'tags': ['seq:step:3'], 'metadata': {'ls_provider': 'openai', 'ls_model_name': 'gpt-4o-mini', 'ls_model_type': 'chat', 'ls_temperature': 0.0}, 'parent_ids': ['6d17a6ef-6ed4-4242-aef7-48a56477d13d']}\n",
      "{'event': 'on_parser_stream', 'run_id': '400a1563-8006-4c64-8df0-5ba96d996397', 'name': 'StrOutputParser', 'tags': ['seq:step:4'], 'metadata': {}, 'data': {'chunk': '東京'}, 'parent_ids': ['6d17a6ef-6ed4-4242-aef7-48a56477d13d']}\n",
      "{'event': 'on_chain_stream', 'run_id': '6d17a6ef-6ed4-4242-aef7-48a56477d13d', 'name': 'RunnableSequence', 'tags': [], 'metadata': {}, 'data': {'chunk': '東京'}, 'parent_ids': []}\n",
      "{'event': 'on_chat_model_stream', 'data': {'chunk': AIMessageChunk(content='の', additional_kwargs={}, response_metadata={}, id='run-4facae6d-7b00-42c0-bb23-2a4f04bb4ba5')}, 'run_id': '4facae6d-7b00-42c0-bb23-2a4f04bb4ba5', 'name': 'ChatOpenAI', 'tags': ['seq:step:3'], 'metadata': {'ls_provider': 'openai', 'ls_model_name': 'gpt-4o-mini', 'ls_model_type': 'chat', 'ls_temperature': 0.0}, 'parent_ids': ['6d17a6ef-6ed4-4242-aef7-48a56477d13d']}\n",
      "{'event': 'on_parser_stream', 'run_id': '400a1563-8006-4c64-8df0-5ba96d996397', 'name': 'StrOutputParser', 'tags': ['seq:step:4'], 'metadata': {}, 'data': {'chunk': 'の'}, 'parent_ids': ['6d17a6ef-6ed4-4242-aef7-48a56477d13d']}\n",
      "{'event': 'on_chain_stream', 'run_id': '6d17a6ef-6ed4-4242-aef7-48a56477d13d', 'name': 'RunnableSequence', 'tags': [], 'metadata': {}, 'data': {'chunk': 'の'}, 'parent_ids': []}\n",
      "{'event': 'on_chat_model_stream', 'data': {'chunk': AIMessageChunk(content='今日', additional_kwargs={}, response_metadata={}, id='run-4facae6d-7b00-42c0-bb23-2a4f04bb4ba5')}, 'run_id': '4facae6d-7b00-42c0-bb23-2a4f04bb4ba5', 'name': 'ChatOpenAI', 'tags': ['seq:step:3'], 'metadata': {'ls_provider': 'openai', 'ls_model_name': 'gpt-4o-mini', 'ls_model_type': 'chat', 'ls_temperature': 0.0}, 'parent_ids': ['6d17a6ef-6ed4-4242-aef7-48a56477d13d']}\n",
      "{'event': 'on_parser_stream', 'run_id': '400a1563-8006-4c64-8df0-5ba96d996397', 'name': 'StrOutputParser', 'tags': ['seq:step:4'], 'metadata': {}, 'data': {'chunk': '今日'}, 'parent_ids': ['6d17a6ef-6ed4-4242-aef7-48a56477d13d']}\n",
      "{'event': 'on_chain_stream', 'run_id': '6d17a6ef-6ed4-4242-aef7-48a56477d13d', 'name': 'RunnableSequence', 'tags': [], 'metadata': {}, 'data': {'chunk': '今日'}, 'parent_ids': []}\n",
      "{'event': 'on_chat_model_stream', 'data': {'chunk': AIMessageChunk(content='の', additional_kwargs={}, response_metadata={}, id='run-4facae6d-7b00-42c0-bb23-2a4f04bb4ba5')}, 'run_id': '4facae6d-7b00-42c0-bb23-2a4f04bb4ba5', 'name': 'ChatOpenAI', 'tags': ['seq:step:3'], 'metadata': {'ls_provider': 'openai', 'ls_model_name': 'gpt-4o-mini', 'ls_model_type': 'chat', 'ls_temperature': 0.0}, 'parent_ids': ['6d17a6ef-6ed4-4242-aef7-48a56477d13d']}\n",
      "{'event': 'on_parser_stream', 'run_id': '400a1563-8006-4c64-8df0-5ba96d996397', 'name': 'StrOutputParser', 'tags': ['seq:step:4'], 'metadata': {}, 'data': {'chunk': 'の'}, 'parent_ids': ['6d17a6ef-6ed4-4242-aef7-48a56477d13d']}\n",
      "{'event': 'on_chain_stream', 'run_id': '6d17a6ef-6ed4-4242-aef7-48a56477d13d', 'name': 'RunnableSequence', 'tags': [], 'metadata': {}, 'data': {'chunk': 'の'}, 'parent_ids': []}\n",
      "{'event': 'on_chat_model_stream', 'data': {'chunk': AIMessageChunk(content='天', additional_kwargs={}, response_metadata={}, id='run-4facae6d-7b00-42c0-bb23-2a4f04bb4ba5')}, 'run_id': '4facae6d-7b00-42c0-bb23-2a4f04bb4ba5', 'name': 'ChatOpenAI', 'tags': ['seq:step:3'], 'metadata': {'ls_provider': 'openai', 'ls_model_name': 'gpt-4o-mini', 'ls_model_type': 'chat', 'ls_temperature': 0.0}, 'parent_ids': ['6d17a6ef-6ed4-4242-aef7-48a56477d13d']}\n",
      "{'event': 'on_parser_stream', 'run_id': '400a1563-8006-4c64-8df0-5ba96d996397', 'name': 'StrOutputParser', 'tags': ['seq:step:4'], 'metadata': {}, 'data': {'chunk': '天'}, 'parent_ids': ['6d17a6ef-6ed4-4242-aef7-48a56477d13d']}\n",
      "{'event': 'on_chain_stream', 'run_id': '6d17a6ef-6ed4-4242-aef7-48a56477d13d', 'name': 'RunnableSequence', 'tags': [], 'metadata': {}, 'data': {'chunk': '天'}, 'parent_ids': []}\n",
      "{'event': 'on_chat_model_stream', 'data': {'chunk': AIMessageChunk(content='気', additional_kwargs={}, response_metadata={}, id='run-4facae6d-7b00-42c0-bb23-2a4f04bb4ba5')}, 'run_id': '4facae6d-7b00-42c0-bb23-2a4f04bb4ba5', 'name': 'ChatOpenAI', 'tags': ['seq:step:3'], 'metadata': {'ls_provider': 'openai', 'ls_model_name': 'gpt-4o-mini', 'ls_model_type': 'chat', 'ls_temperature': 0.0}, 'parent_ids': ['6d17a6ef-6ed4-4242-aef7-48a56477d13d']}\n",
      "{'event': 'on_parser_stream', 'run_id': '400a1563-8006-4c64-8df0-5ba96d996397', 'name': 'StrOutputParser', 'tags': ['seq:step:4'], 'metadata': {}, 'data': {'chunk': '気'}, 'parent_ids': ['6d17a6ef-6ed4-4242-aef7-48a56477d13d']}\n",
      "{'event': 'on_chain_stream', 'run_id': '6d17a6ef-6ed4-4242-aef7-48a56477d13d', 'name': 'RunnableSequence', 'tags': [], 'metadata': {}, 'data': {'chunk': '気'}, 'parent_ids': []}\n",
      "{'event': 'on_chat_model_stream', 'data': {'chunk': AIMessageChunk(content='は', additional_kwargs={}, response_metadata={}, id='run-4facae6d-7b00-42c0-bb23-2a4f04bb4ba5')}, 'run_id': '4facae6d-7b00-42c0-bb23-2a4f04bb4ba5', 'name': 'ChatOpenAI', 'tags': ['seq:step:3'], 'metadata': {'ls_provider': 'openai', 'ls_model_name': 'gpt-4o-mini', 'ls_model_type': 'chat', 'ls_temperature': 0.0}, 'parent_ids': ['6d17a6ef-6ed4-4242-aef7-48a56477d13d']}\n",
      "{'event': 'on_parser_stream', 'run_id': '400a1563-8006-4c64-8df0-5ba96d996397', 'name': 'StrOutputParser', 'tags': ['seq:step:4'], 'metadata': {}, 'data': {'chunk': 'は'}, 'parent_ids': ['6d17a6ef-6ed4-4242-aef7-48a56477d13d']}\n",
      "{'event': 'on_chain_stream', 'run_id': '6d17a6ef-6ed4-4242-aef7-48a56477d13d', 'name': 'RunnableSequence', 'tags': [], 'metadata': {}, 'data': {'chunk': 'は'}, 'parent_ids': []}\n",
      "{'event': 'on_chat_model_stream', 'data': {'chunk': AIMessageChunk(content='、', additional_kwargs={}, response_metadata={}, id='run-4facae6d-7b00-42c0-bb23-2a4f04bb4ba5')}, 'run_id': '4facae6d-7b00-42c0-bb23-2a4f04bb4ba5', 'name': 'ChatOpenAI', 'tags': ['seq:step:3'], 'metadata': {'ls_provider': 'openai', 'ls_model_name': 'gpt-4o-mini', 'ls_model_type': 'chat', 'ls_temperature': 0.0}, 'parent_ids': ['6d17a6ef-6ed4-4242-aef7-48a56477d13d']}\n",
      "{'event': 'on_parser_stream', 'run_id': '400a1563-8006-4c64-8df0-5ba96d996397', 'name': 'StrOutputParser', 'tags': ['seq:step:4'], 'metadata': {}, 'data': {'chunk': '、'}, 'parent_ids': ['6d17a6ef-6ed4-4242-aef7-48a56477d13d']}\n",
      "{'event': 'on_chain_stream', 'run_id': '6d17a6ef-6ed4-4242-aef7-48a56477d13d', 'name': 'RunnableSequence', 'tags': [], 'metadata': {}, 'data': {'chunk': '、'}, 'parent_ids': []}\n",
      "{'event': 'on_chat_model_stream', 'data': {'chunk': AIMessageChunk(content='10', additional_kwargs={}, response_metadata={}, id='run-4facae6d-7b00-42c0-bb23-2a4f04bb4ba5')}, 'run_id': '4facae6d-7b00-42c0-bb23-2a4f04bb4ba5', 'name': 'ChatOpenAI', 'tags': ['seq:step:3'], 'metadata': {'ls_provider': 'openai', 'ls_model_name': 'gpt-4o-mini', 'ls_model_type': 'chat', 'ls_temperature': 0.0}, 'parent_ids': ['6d17a6ef-6ed4-4242-aef7-48a56477d13d']}\n",
      "{'event': 'on_parser_stream', 'run_id': '400a1563-8006-4c64-8df0-5ba96d996397', 'name': 'StrOutputParser', 'tags': ['seq:step:4'], 'metadata': {}, 'data': {'chunk': '10'}, 'parent_ids': ['6d17a6ef-6ed4-4242-aef7-48a56477d13d']}\n",
      "{'event': 'on_chain_stream', 'run_id': '6d17a6ef-6ed4-4242-aef7-48a56477d13d', 'name': 'RunnableSequence', 'tags': [], 'metadata': {}, 'data': {'chunk': '10'}, 'parent_ids': []}\n",
      "{'event': 'on_chat_model_stream', 'data': {'chunk': AIMessageChunk(content='月', additional_kwargs={}, response_metadata={}, id='run-4facae6d-7b00-42c0-bb23-2a4f04bb4ba5')}, 'run_id': '4facae6d-7b00-42c0-bb23-2a4f04bb4ba5', 'name': 'ChatOpenAI', 'tags': ['seq:step:3'], 'metadata': {'ls_provider': 'openai', 'ls_model_name': 'gpt-4o-mini', 'ls_model_type': 'chat', 'ls_temperature': 0.0}, 'parent_ids': ['6d17a6ef-6ed4-4242-aef7-48a56477d13d']}\n",
      "{'event': 'on_parser_stream', 'run_id': '400a1563-8006-4c64-8df0-5ba96d996397', 'name': 'StrOutputParser', 'tags': ['seq:step:4'], 'metadata': {}, 'data': {'chunk': '月'}, 'parent_ids': ['6d17a6ef-6ed4-4242-aef7-48a56477d13d']}\n",
      "{'event': 'on_chain_stream', 'run_id': '6d17a6ef-6ed4-4242-aef7-48a56477d13d', 'name': 'RunnableSequence', 'tags': [], 'metadata': {}, 'data': {'chunk': '月'}, 'parent_ids': []}\n",
      "{'event': 'on_chat_model_stream', 'data': {'chunk': AIMessageChunk(content='27', additional_kwargs={}, response_metadata={}, id='run-4facae6d-7b00-42c0-bb23-2a4f04bb4ba5')}, 'run_id': '4facae6d-7b00-42c0-bb23-2a4f04bb4ba5', 'name': 'ChatOpenAI', 'tags': ['seq:step:3'], 'metadata': {'ls_provider': 'openai', 'ls_model_name': 'gpt-4o-mini', 'ls_model_type': 'chat', 'ls_temperature': 0.0}, 'parent_ids': ['6d17a6ef-6ed4-4242-aef7-48a56477d13d']}\n",
      "{'event': 'on_parser_stream', 'run_id': '400a1563-8006-4c64-8df0-5ba96d996397', 'name': 'StrOutputParser', 'tags': ['seq:step:4'], 'metadata': {}, 'data': {'chunk': '27'}, 'parent_ids': ['6d17a6ef-6ed4-4242-aef7-48a56477d13d']}\n",
      "{'event': 'on_chain_stream', 'run_id': '6d17a6ef-6ed4-4242-aef7-48a56477d13d', 'name': 'RunnableSequence', 'tags': [], 'metadata': {}, 'data': {'chunk': '27'}, 'parent_ids': []}\n",
      "{'event': 'on_chat_model_stream', 'data': {'chunk': AIMessageChunk(content='日', additional_kwargs={}, response_metadata={}, id='run-4facae6d-7b00-42c0-bb23-2a4f04bb4ba5')}, 'run_id': '4facae6d-7b00-42c0-bb23-2a4f04bb4ba5', 'name': 'ChatOpenAI', 'tags': ['seq:step:3'], 'metadata': {'ls_provider': 'openai', 'ls_model_name': 'gpt-4o-mini', 'ls_model_type': 'chat', 'ls_temperature': 0.0}, 'parent_ids': ['6d17a6ef-6ed4-4242-aef7-48a56477d13d']}\n",
      "{'event': 'on_parser_stream', 'run_id': '400a1563-8006-4c64-8df0-5ba96d996397', 'name': 'StrOutputParser', 'tags': ['seq:step:4'], 'metadata': {}, 'data': {'chunk': '日'}, 'parent_ids': ['6d17a6ef-6ed4-4242-aef7-48a56477d13d']}\n",
      "{'event': 'on_chain_stream', 'run_id': '6d17a6ef-6ed4-4242-aef7-48a56477d13d', 'name': 'RunnableSequence', 'tags': [], 'metadata': {}, 'data': {'chunk': '日'}, 'parent_ids': []}\n",
      "{'event': 'on_chat_model_stream', 'data': {'chunk': AIMessageChunk(content='（日', additional_kwargs={}, response_metadata={}, id='run-4facae6d-7b00-42c0-bb23-2a4f04bb4ba5')}, 'run_id': '4facae6d-7b00-42c0-bb23-2a4f04bb4ba5', 'name': 'ChatOpenAI', 'tags': ['seq:step:3'], 'metadata': {'ls_provider': 'openai', 'ls_model_name': 'gpt-4o-mini', 'ls_model_type': 'chat', 'ls_temperature': 0.0}, 'parent_ids': ['6d17a6ef-6ed4-4242-aef7-48a56477d13d']}\n",
      "{'event': 'on_parser_stream', 'run_id': '400a1563-8006-4c64-8df0-5ba96d996397', 'name': 'StrOutputParser', 'tags': ['seq:step:4'], 'metadata': {}, 'data': {'chunk': '（日'}, 'parent_ids': ['6d17a6ef-6ed4-4242-aef7-48a56477d13d']}\n",
      "{'event': 'on_chain_stream', 'run_id': '6d17a6ef-6ed4-4242-aef7-48a56477d13d', 'name': 'RunnableSequence', 'tags': [], 'metadata': {}, 'data': {'chunk': '（日'}, 'parent_ids': []}\n",
      "{'event': 'on_chat_model_stream', 'data': {'chunk': AIMessageChunk(content='）', additional_kwargs={}, response_metadata={}, id='run-4facae6d-7b00-42c0-bb23-2a4f04bb4ba5')}, 'run_id': '4facae6d-7b00-42c0-bb23-2a4f04bb4ba5', 'name': 'ChatOpenAI', 'tags': ['seq:step:3'], 'metadata': {'ls_provider': 'openai', 'ls_model_name': 'gpt-4o-mini', 'ls_model_type': 'chat', 'ls_temperature': 0.0}, 'parent_ids': ['6d17a6ef-6ed4-4242-aef7-48a56477d13d']}\n",
      "{'event': 'on_parser_stream', 'run_id': '400a1563-8006-4c64-8df0-5ba96d996397', 'name': 'StrOutputParser', 'tags': ['seq:step:4'], 'metadata': {}, 'data': {'chunk': '）'}, 'parent_ids': ['6d17a6ef-6ed4-4242-aef7-48a56477d13d']}\n",
      "{'event': 'on_chain_stream', 'run_id': '6d17a6ef-6ed4-4242-aef7-48a56477d13d', 'name': 'RunnableSequence', 'tags': [], 'metadata': {}, 'data': {'chunk': '）'}, 'parent_ids': []}\n",
      "{'event': 'on_chat_model_stream', 'data': {'chunk': AIMessageChunk(content='で', additional_kwargs={}, response_metadata={}, id='run-4facae6d-7b00-42c0-bb23-2a4f04bb4ba5')}, 'run_id': '4facae6d-7b00-42c0-bb23-2a4f04bb4ba5', 'name': 'ChatOpenAI', 'tags': ['seq:step:3'], 'metadata': {'ls_provider': 'openai', 'ls_model_name': 'gpt-4o-mini', 'ls_model_type': 'chat', 'ls_temperature': 0.0}, 'parent_ids': ['6d17a6ef-6ed4-4242-aef7-48a56477d13d']}\n",
      "{'event': 'on_parser_stream', 'run_id': '400a1563-8006-4c64-8df0-5ba96d996397', 'name': 'StrOutputParser', 'tags': ['seq:step:4'], 'metadata': {}, 'data': {'chunk': 'で'}, 'parent_ids': ['6d17a6ef-6ed4-4242-aef7-48a56477d13d']}\n",
      "{'event': 'on_chain_stream', 'run_id': '6d17a6ef-6ed4-4242-aef7-48a56477d13d', 'name': 'RunnableSequence', 'tags': [], 'metadata': {}, 'data': {'chunk': 'で'}, 'parent_ids': []}\n",
      "{'event': 'on_chat_model_stream', 'data': {'chunk': AIMessageChunk(content='、', additional_kwargs={}, response_metadata={}, id='run-4facae6d-7b00-42c0-bb23-2a4f04bb4ba5')}, 'run_id': '4facae6d-7b00-42c0-bb23-2a4f04bb4ba5', 'name': 'ChatOpenAI', 'tags': ['seq:step:3'], 'metadata': {'ls_provider': 'openai', 'ls_model_name': 'gpt-4o-mini', 'ls_model_type': 'chat', 'ls_temperature': 0.0}, 'parent_ids': ['6d17a6ef-6ed4-4242-aef7-48a56477d13d']}\n",
      "{'event': 'on_parser_stream', 'run_id': '400a1563-8006-4c64-8df0-5ba96d996397', 'name': 'StrOutputParser', 'tags': ['seq:step:4'], 'metadata': {}, 'data': {'chunk': '、'}, 'parent_ids': ['6d17a6ef-6ed4-4242-aef7-48a56477d13d']}\n",
      "{'event': 'on_chain_stream', 'run_id': '6d17a6ef-6ed4-4242-aef7-48a56477d13d', 'name': 'RunnableSequence', 'tags': [], 'metadata': {}, 'data': {'chunk': '、'}, 'parent_ids': []}\n",
      "{'event': 'on_chat_model_stream', 'data': {'chunk': AIMessageChunk(content='最高', additional_kwargs={}, response_metadata={}, id='run-4facae6d-7b00-42c0-bb23-2a4f04bb4ba5')}, 'run_id': '4facae6d-7b00-42c0-bb23-2a4f04bb4ba5', 'name': 'ChatOpenAI', 'tags': ['seq:step:3'], 'metadata': {'ls_provider': 'openai', 'ls_model_name': 'gpt-4o-mini', 'ls_model_type': 'chat', 'ls_temperature': 0.0}, 'parent_ids': ['6d17a6ef-6ed4-4242-aef7-48a56477d13d']}\n",
      "{'event': 'on_parser_stream', 'run_id': '400a1563-8006-4c64-8df0-5ba96d996397', 'name': 'StrOutputParser', 'tags': ['seq:step:4'], 'metadata': {}, 'data': {'chunk': '最高'}, 'parent_ids': ['6d17a6ef-6ed4-4242-aef7-48a56477d13d']}\n",
      "{'event': 'on_chain_stream', 'run_id': '6d17a6ef-6ed4-4242-aef7-48a56477d13d', 'name': 'RunnableSequence', 'tags': [], 'metadata': {}, 'data': {'chunk': '最高'}, 'parent_ids': []}\n",
      "{'event': 'on_chat_model_stream', 'data': {'chunk': AIMessageChunk(content='気', additional_kwargs={}, response_metadata={}, id='run-4facae6d-7b00-42c0-bb23-2a4f04bb4ba5')}, 'run_id': '4facae6d-7b00-42c0-bb23-2a4f04bb4ba5', 'name': 'ChatOpenAI', 'tags': ['seq:step:3'], 'metadata': {'ls_provider': 'openai', 'ls_model_name': 'gpt-4o-mini', 'ls_model_type': 'chat', 'ls_temperature': 0.0}, 'parent_ids': ['6d17a6ef-6ed4-4242-aef7-48a56477d13d']}\n",
      "{'event': 'on_parser_stream', 'run_id': '400a1563-8006-4c64-8df0-5ba96d996397', 'name': 'StrOutputParser', 'tags': ['seq:step:4'], 'metadata': {}, 'data': {'chunk': '気'}, 'parent_ids': ['6d17a6ef-6ed4-4242-aef7-48a56477d13d']}\n",
      "{'event': 'on_chain_stream', 'run_id': '6d17a6ef-6ed4-4242-aef7-48a56477d13d', 'name': 'RunnableSequence', 'tags': [], 'metadata': {}, 'data': {'chunk': '気'}, 'parent_ids': []}\n",
      "{'event': 'on_chat_model_stream', 'data': {'chunk': AIMessageChunk(content='温', additional_kwargs={}, response_metadata={}, id='run-4facae6d-7b00-42c0-bb23-2a4f04bb4ba5')}, 'run_id': '4facae6d-7b00-42c0-bb23-2a4f04bb4ba5', 'name': 'ChatOpenAI', 'tags': ['seq:step:3'], 'metadata': {'ls_provider': 'openai', 'ls_model_name': 'gpt-4o-mini', 'ls_model_type': 'chat', 'ls_temperature': 0.0}, 'parent_ids': ['6d17a6ef-6ed4-4242-aef7-48a56477d13d']}\n",
      "{'event': 'on_parser_stream', 'run_id': '400a1563-8006-4c64-8df0-5ba96d996397', 'name': 'StrOutputParser', 'tags': ['seq:step:4'], 'metadata': {}, 'data': {'chunk': '温'}, 'parent_ids': ['6d17a6ef-6ed4-4242-aef7-48a56477d13d']}\n",
      "{'event': 'on_chain_stream', 'run_id': '6d17a6ef-6ed4-4242-aef7-48a56477d13d', 'name': 'RunnableSequence', 'tags': [], 'metadata': {}, 'data': {'chunk': '温'}, 'parent_ids': []}\n",
      "{'event': 'on_chat_model_stream', 'data': {'chunk': AIMessageChunk(content='24', additional_kwargs={}, response_metadata={}, id='run-4facae6d-7b00-42c0-bb23-2a4f04bb4ba5')}, 'run_id': '4facae6d-7b00-42c0-bb23-2a4f04bb4ba5', 'name': 'ChatOpenAI', 'tags': ['seq:step:3'], 'metadata': {'ls_provider': 'openai', 'ls_model_name': 'gpt-4o-mini', 'ls_model_type': 'chat', 'ls_temperature': 0.0}, 'parent_ids': ['6d17a6ef-6ed4-4242-aef7-48a56477d13d']}\n",
      "{'event': 'on_parser_stream', 'run_id': '400a1563-8006-4c64-8df0-5ba96d996397', 'name': 'StrOutputParser', 'tags': ['seq:step:4'], 'metadata': {}, 'data': {'chunk': '24'}, 'parent_ids': ['6d17a6ef-6ed4-4242-aef7-48a56477d13d']}\n",
      "{'event': 'on_chain_stream', 'run_id': '6d17a6ef-6ed4-4242-aef7-48a56477d13d', 'name': 'RunnableSequence', 'tags': [], 'metadata': {}, 'data': {'chunk': '24'}, 'parent_ids': []}\n",
      "{'event': 'on_chat_model_stream', 'data': {'chunk': AIMessageChunk(content='℃', additional_kwargs={}, response_metadata={}, id='run-4facae6d-7b00-42c0-bb23-2a4f04bb4ba5')}, 'run_id': '4facae6d-7b00-42c0-bb23-2a4f04bb4ba5', 'name': 'ChatOpenAI', 'tags': ['seq:step:3'], 'metadata': {'ls_provider': 'openai', 'ls_model_name': 'gpt-4o-mini', 'ls_model_type': 'chat', 'ls_temperature': 0.0}, 'parent_ids': ['6d17a6ef-6ed4-4242-aef7-48a56477d13d']}\n",
      "{'event': 'on_parser_stream', 'run_id': '400a1563-8006-4c64-8df0-5ba96d996397', 'name': 'StrOutputParser', 'tags': ['seq:step:4'], 'metadata': {}, 'data': {'chunk': '℃'}, 'parent_ids': ['6d17a6ef-6ed4-4242-aef7-48a56477d13d']}\n",
      "{'event': 'on_chain_stream', 'run_id': '6d17a6ef-6ed4-4242-aef7-48a56477d13d', 'name': 'RunnableSequence', 'tags': [], 'metadata': {}, 'data': {'chunk': '℃'}, 'parent_ids': []}\n",
      "{'event': 'on_chat_model_stream', 'data': {'chunk': AIMessageChunk(content='、', additional_kwargs={}, response_metadata={}, id='run-4facae6d-7b00-42c0-bb23-2a4f04bb4ba5')}, 'run_id': '4facae6d-7b00-42c0-bb23-2a4f04bb4ba5', 'name': 'ChatOpenAI', 'tags': ['seq:step:3'], 'metadata': {'ls_provider': 'openai', 'ls_model_name': 'gpt-4o-mini', 'ls_model_type': 'chat', 'ls_temperature': 0.0}, 'parent_ids': ['6d17a6ef-6ed4-4242-aef7-48a56477d13d']}\n",
      "{'event': 'on_parser_stream', 'run_id': '400a1563-8006-4c64-8df0-5ba96d996397', 'name': 'StrOutputParser', 'tags': ['seq:step:4'], 'metadata': {}, 'data': {'chunk': '、'}, 'parent_ids': ['6d17a6ef-6ed4-4242-aef7-48a56477d13d']}\n",
      "{'event': 'on_chain_stream', 'run_id': '6d17a6ef-6ed4-4242-aef7-48a56477d13d', 'name': 'RunnableSequence', 'tags': [], 'metadata': {}, 'data': {'chunk': '、'}, 'parent_ids': []}\n",
      "{'event': 'on_chat_model_stream', 'data': {'chunk': AIMessageChunk(content='最低', additional_kwargs={}, response_metadata={}, id='run-4facae6d-7b00-42c0-bb23-2a4f04bb4ba5')}, 'run_id': '4facae6d-7b00-42c0-bb23-2a4f04bb4ba5', 'name': 'ChatOpenAI', 'tags': ['seq:step:3'], 'metadata': {'ls_provider': 'openai', 'ls_model_name': 'gpt-4o-mini', 'ls_model_type': 'chat', 'ls_temperature': 0.0}, 'parent_ids': ['6d17a6ef-6ed4-4242-aef7-48a56477d13d']}\n",
      "{'event': 'on_parser_stream', 'run_id': '400a1563-8006-4c64-8df0-5ba96d996397', 'name': 'StrOutputParser', 'tags': ['seq:step:4'], 'metadata': {}, 'data': {'chunk': '最低'}, 'parent_ids': ['6d17a6ef-6ed4-4242-aef7-48a56477d13d']}\n",
      "{'event': 'on_chain_stream', 'run_id': '6d17a6ef-6ed4-4242-aef7-48a56477d13d', 'name': 'RunnableSequence', 'tags': [], 'metadata': {}, 'data': {'chunk': '最低'}, 'parent_ids': []}\n",
      "{'event': 'on_chat_model_stream', 'data': {'chunk': AIMessageChunk(content='気', additional_kwargs={}, response_metadata={}, id='run-4facae6d-7b00-42c0-bb23-2a4f04bb4ba5')}, 'run_id': '4facae6d-7b00-42c0-bb23-2a4f04bb4ba5', 'name': 'ChatOpenAI', 'tags': ['seq:step:3'], 'metadata': {'ls_provider': 'openai', 'ls_model_name': 'gpt-4o-mini', 'ls_model_type': 'chat', 'ls_temperature': 0.0}, 'parent_ids': ['6d17a6ef-6ed4-4242-aef7-48a56477d13d']}\n",
      "{'event': 'on_parser_stream', 'run_id': '400a1563-8006-4c64-8df0-5ba96d996397', 'name': 'StrOutputParser', 'tags': ['seq:step:4'], 'metadata': {}, 'data': {'chunk': '気'}, 'parent_ids': ['6d17a6ef-6ed4-4242-aef7-48a56477d13d']}\n",
      "{'event': 'on_chain_stream', 'run_id': '6d17a6ef-6ed4-4242-aef7-48a56477d13d', 'name': 'RunnableSequence', 'tags': [], 'metadata': {}, 'data': {'chunk': '気'}, 'parent_ids': []}\n",
      "{'event': 'on_chat_model_stream', 'data': {'chunk': AIMessageChunk(content='温', additional_kwargs={}, response_metadata={}, id='run-4facae6d-7b00-42c0-bb23-2a4f04bb4ba5')}, 'run_id': '4facae6d-7b00-42c0-bb23-2a4f04bb4ba5', 'name': 'ChatOpenAI', 'tags': ['seq:step:3'], 'metadata': {'ls_provider': 'openai', 'ls_model_name': 'gpt-4o-mini', 'ls_model_type': 'chat', 'ls_temperature': 0.0}, 'parent_ids': ['6d17a6ef-6ed4-4242-aef7-48a56477d13d']}\n",
      "{'event': 'on_parser_stream', 'run_id': '400a1563-8006-4c64-8df0-5ba96d996397', 'name': 'StrOutputParser', 'tags': ['seq:step:4'], 'metadata': {}, 'data': {'chunk': '温'}, 'parent_ids': ['6d17a6ef-6ed4-4242-aef7-48a56477d13d']}\n",
      "{'event': 'on_chain_stream', 'run_id': '6d17a6ef-6ed4-4242-aef7-48a56477d13d', 'name': 'RunnableSequence', 'tags': [], 'metadata': {}, 'data': {'chunk': '温'}, 'parent_ids': []}\n",
      "{'event': 'on_chat_model_stream', 'data': {'chunk': AIMessageChunk(content='17', additional_kwargs={}, response_metadata={}, id='run-4facae6d-7b00-42c0-bb23-2a4f04bb4ba5')}, 'run_id': '4facae6d-7b00-42c0-bb23-2a4f04bb4ba5', 'name': 'ChatOpenAI', 'tags': ['seq:step:3'], 'metadata': {'ls_provider': 'openai', 'ls_model_name': 'gpt-4o-mini', 'ls_model_type': 'chat', 'ls_temperature': 0.0}, 'parent_ids': ['6d17a6ef-6ed4-4242-aef7-48a56477d13d']}\n",
      "{'event': 'on_parser_stream', 'run_id': '400a1563-8006-4c64-8df0-5ba96d996397', 'name': 'StrOutputParser', 'tags': ['seq:step:4'], 'metadata': {}, 'data': {'chunk': '17'}, 'parent_ids': ['6d17a6ef-6ed4-4242-aef7-48a56477d13d']}\n",
      "{'event': 'on_chain_stream', 'run_id': '6d17a6ef-6ed4-4242-aef7-48a56477d13d', 'name': 'RunnableSequence', 'tags': [], 'metadata': {}, 'data': {'chunk': '17'}, 'parent_ids': []}\n",
      "{'event': 'on_chat_model_stream', 'data': {'chunk': AIMessageChunk(content='℃', additional_kwargs={}, response_metadata={}, id='run-4facae6d-7b00-42c0-bb23-2a4f04bb4ba5')}, 'run_id': '4facae6d-7b00-42c0-bb23-2a4f04bb4ba5', 'name': 'ChatOpenAI', 'tags': ['seq:step:3'], 'metadata': {'ls_provider': 'openai', 'ls_model_name': 'gpt-4o-mini', 'ls_model_type': 'chat', 'ls_temperature': 0.0}, 'parent_ids': ['6d17a6ef-6ed4-4242-aef7-48a56477d13d']}\n",
      "{'event': 'on_parser_stream', 'run_id': '400a1563-8006-4c64-8df0-5ba96d996397', 'name': 'StrOutputParser', 'tags': ['seq:step:4'], 'metadata': {}, 'data': {'chunk': '℃'}, 'parent_ids': ['6d17a6ef-6ed4-4242-aef7-48a56477d13d']}\n",
      "{'event': 'on_chain_stream', 'run_id': '6d17a6ef-6ed4-4242-aef7-48a56477d13d', 'name': 'RunnableSequence', 'tags': [], 'metadata': {}, 'data': {'chunk': '℃'}, 'parent_ids': []}\n",
      "{'event': 'on_chat_model_stream', 'data': {'chunk': AIMessageChunk(content='、', additional_kwargs={}, response_metadata={}, id='run-4facae6d-7b00-42c0-bb23-2a4f04bb4ba5')}, 'run_id': '4facae6d-7b00-42c0-bb23-2a4f04bb4ba5', 'name': 'ChatOpenAI', 'tags': ['seq:step:3'], 'metadata': {'ls_provider': 'openai', 'ls_model_name': 'gpt-4o-mini', 'ls_model_type': 'chat', 'ls_temperature': 0.0}, 'parent_ids': ['6d17a6ef-6ed4-4242-aef7-48a56477d13d']}\n",
      "{'event': 'on_parser_stream', 'run_id': '400a1563-8006-4c64-8df0-5ba96d996397', 'name': 'StrOutputParser', 'tags': ['seq:step:4'], 'metadata': {}, 'data': {'chunk': '、'}, 'parent_ids': ['6d17a6ef-6ed4-4242-aef7-48a56477d13d']}\n",
      "{'event': 'on_chain_stream', 'run_id': '6d17a6ef-6ed4-4242-aef7-48a56477d13d', 'name': 'RunnableSequence', 'tags': [], 'metadata': {}, 'data': {'chunk': '、'}, 'parent_ids': []}\n",
      "{'event': 'on_chat_model_stream', 'data': {'chunk': AIMessageChunk(content='降', additional_kwargs={}, response_metadata={}, id='run-4facae6d-7b00-42c0-bb23-2a4f04bb4ba5')}, 'run_id': '4facae6d-7b00-42c0-bb23-2a4f04bb4ba5', 'name': 'ChatOpenAI', 'tags': ['seq:step:3'], 'metadata': {'ls_provider': 'openai', 'ls_model_name': 'gpt-4o-mini', 'ls_model_type': 'chat', 'ls_temperature': 0.0}, 'parent_ids': ['6d17a6ef-6ed4-4242-aef7-48a56477d13d']}\n",
      "{'event': 'on_parser_stream', 'run_id': '400a1563-8006-4c64-8df0-5ba96d996397', 'name': 'StrOutputParser', 'tags': ['seq:step:4'], 'metadata': {}, 'data': {'chunk': '降'}, 'parent_ids': ['6d17a6ef-6ed4-4242-aef7-48a56477d13d']}\n",
      "{'event': 'on_chain_stream', 'run_id': '6d17a6ef-6ed4-4242-aef7-48a56477d13d', 'name': 'RunnableSequence', 'tags': [], 'metadata': {}, 'data': {'chunk': '降'}, 'parent_ids': []}\n",
      "{'event': 'on_chat_model_stream', 'data': {'chunk': AIMessageChunk(content='水', additional_kwargs={}, response_metadata={}, id='run-4facae6d-7b00-42c0-bb23-2a4f04bb4ba5')}, 'run_id': '4facae6d-7b00-42c0-bb23-2a4f04bb4ba5', 'name': 'ChatOpenAI', 'tags': ['seq:step:3'], 'metadata': {'ls_provider': 'openai', 'ls_model_name': 'gpt-4o-mini', 'ls_model_type': 'chat', 'ls_temperature': 0.0}, 'parent_ids': ['6d17a6ef-6ed4-4242-aef7-48a56477d13d']}\n",
      "{'event': 'on_parser_stream', 'run_id': '400a1563-8006-4c64-8df0-5ba96d996397', 'name': 'StrOutputParser', 'tags': ['seq:step:4'], 'metadata': {}, 'data': {'chunk': '水'}, 'parent_ids': ['6d17a6ef-6ed4-4242-aef7-48a56477d13d']}\n",
      "{'event': 'on_chain_stream', 'run_id': '6d17a6ef-6ed4-4242-aef7-48a56477d13d', 'name': 'RunnableSequence', 'tags': [], 'metadata': {}, 'data': {'chunk': '水'}, 'parent_ids': []}\n",
      "{'event': 'on_chat_model_stream', 'data': {'chunk': AIMessageChunk(content='確', additional_kwargs={}, response_metadata={}, id='run-4facae6d-7b00-42c0-bb23-2a4f04bb4ba5')}, 'run_id': '4facae6d-7b00-42c0-bb23-2a4f04bb4ba5', 'name': 'ChatOpenAI', 'tags': ['seq:step:3'], 'metadata': {'ls_provider': 'openai', 'ls_model_name': 'gpt-4o-mini', 'ls_model_type': 'chat', 'ls_temperature': 0.0}, 'parent_ids': ['6d17a6ef-6ed4-4242-aef7-48a56477d13d']}\n",
      "{'event': 'on_parser_stream', 'run_id': '400a1563-8006-4c64-8df0-5ba96d996397', 'name': 'StrOutputParser', 'tags': ['seq:step:4'], 'metadata': {}, 'data': {'chunk': '確'}, 'parent_ids': ['6d17a6ef-6ed4-4242-aef7-48a56477d13d']}\n",
      "{'event': 'on_chain_stream', 'run_id': '6d17a6ef-6ed4-4242-aef7-48a56477d13d', 'name': 'RunnableSequence', 'tags': [], 'metadata': {}, 'data': {'chunk': '確'}, 'parent_ids': []}\n",
      "{'event': 'on_chat_model_stream', 'data': {'chunk': AIMessageChunk(content='率', additional_kwargs={}, response_metadata={}, id='run-4facae6d-7b00-42c0-bb23-2a4f04bb4ba5')}, 'run_id': '4facae6d-7b00-42c0-bb23-2a4f04bb4ba5', 'name': 'ChatOpenAI', 'tags': ['seq:step:3'], 'metadata': {'ls_provider': 'openai', 'ls_model_name': 'gpt-4o-mini', 'ls_model_type': 'chat', 'ls_temperature': 0.0}, 'parent_ids': ['6d17a6ef-6ed4-4242-aef7-48a56477d13d']}\n",
      "{'event': 'on_parser_stream', 'run_id': '400a1563-8006-4c64-8df0-5ba96d996397', 'name': 'StrOutputParser', 'tags': ['seq:step:4'], 'metadata': {}, 'data': {'chunk': '率'}, 'parent_ids': ['6d17a6ef-6ed4-4242-aef7-48a56477d13d']}\n",
      "{'event': 'on_chain_stream', 'run_id': '6d17a6ef-6ed4-4242-aef7-48a56477d13d', 'name': 'RunnableSequence', 'tags': [], 'metadata': {}, 'data': {'chunk': '率'}, 'parent_ids': []}\n",
      "{'event': 'on_chat_model_stream', 'data': {'chunk': AIMessageChunk(content='は', additional_kwargs={}, response_metadata={}, id='run-4facae6d-7b00-42c0-bb23-2a4f04bb4ba5')}, 'run_id': '4facae6d-7b00-42c0-bb23-2a4f04bb4ba5', 'name': 'ChatOpenAI', 'tags': ['seq:step:3'], 'metadata': {'ls_provider': 'openai', 'ls_model_name': 'gpt-4o-mini', 'ls_model_type': 'chat', 'ls_temperature': 0.0}, 'parent_ids': ['6d17a6ef-6ed4-4242-aef7-48a56477d13d']}\n",
      "{'event': 'on_parser_stream', 'run_id': '400a1563-8006-4c64-8df0-5ba96d996397', 'name': 'StrOutputParser', 'tags': ['seq:step:4'], 'metadata': {}, 'data': {'chunk': 'は'}, 'parent_ids': ['6d17a6ef-6ed4-4242-aef7-48a56477d13d']}\n",
      "{'event': 'on_chain_stream', 'run_id': '6d17a6ef-6ed4-4242-aef7-48a56477d13d', 'name': 'RunnableSequence', 'tags': [], 'metadata': {}, 'data': {'chunk': 'は'}, 'parent_ids': []}\n",
      "{'event': 'on_chat_model_stream', 'data': {'chunk': AIMessageChunk(content='50', additional_kwargs={}, response_metadata={}, id='run-4facae6d-7b00-42c0-bb23-2a4f04bb4ba5')}, 'run_id': '4facae6d-7b00-42c0-bb23-2a4f04bb4ba5', 'name': 'ChatOpenAI', 'tags': ['seq:step:3'], 'metadata': {'ls_provider': 'openai', 'ls_model_name': 'gpt-4o-mini', 'ls_model_type': 'chat', 'ls_temperature': 0.0}, 'parent_ids': ['6d17a6ef-6ed4-4242-aef7-48a56477d13d']}\n",
      "{'event': 'on_parser_stream', 'run_id': '400a1563-8006-4c64-8df0-5ba96d996397', 'name': 'StrOutputParser', 'tags': ['seq:step:4'], 'metadata': {}, 'data': {'chunk': '50'}, 'parent_ids': ['6d17a6ef-6ed4-4242-aef7-48a56477d13d']}\n",
      "{'event': 'on_chain_stream', 'run_id': '6d17a6ef-6ed4-4242-aef7-48a56477d13d', 'name': 'RunnableSequence', 'tags': [], 'metadata': {}, 'data': {'chunk': '50'}, 'parent_ids': []}\n",
      "{'event': 'on_chat_model_stream', 'data': {'chunk': AIMessageChunk(content='%', additional_kwargs={}, response_metadata={}, id='run-4facae6d-7b00-42c0-bb23-2a4f04bb4ba5')}, 'run_id': '4facae6d-7b00-42c0-bb23-2a4f04bb4ba5', 'name': 'ChatOpenAI', 'tags': ['seq:step:3'], 'metadata': {'ls_provider': 'openai', 'ls_model_name': 'gpt-4o-mini', 'ls_model_type': 'chat', 'ls_temperature': 0.0}, 'parent_ids': ['6d17a6ef-6ed4-4242-aef7-48a56477d13d']}\n",
      "{'event': 'on_parser_stream', 'run_id': '400a1563-8006-4c64-8df0-5ba96d996397', 'name': 'StrOutputParser', 'tags': ['seq:step:4'], 'metadata': {}, 'data': {'chunk': '%'}, 'parent_ids': ['6d17a6ef-6ed4-4242-aef7-48a56477d13d']}\n",
      "{'event': 'on_chain_stream', 'run_id': '6d17a6ef-6ed4-4242-aef7-48a56477d13d', 'name': 'RunnableSequence', 'tags': [], 'metadata': {}, 'data': {'chunk': '%'}, 'parent_ids': []}\n",
      "{'event': 'on_chat_model_stream', 'data': {'chunk': AIMessageChunk(content='です', additional_kwargs={}, response_metadata={}, id='run-4facae6d-7b00-42c0-bb23-2a4f04bb4ba5')}, 'run_id': '4facae6d-7b00-42c0-bb23-2a4f04bb4ba5', 'name': 'ChatOpenAI', 'tags': ['seq:step:3'], 'metadata': {'ls_provider': 'openai', 'ls_model_name': 'gpt-4o-mini', 'ls_model_type': 'chat', 'ls_temperature': 0.0}, 'parent_ids': ['6d17a6ef-6ed4-4242-aef7-48a56477d13d']}\n",
      "{'event': 'on_parser_stream', 'run_id': '400a1563-8006-4c64-8df0-5ba96d996397', 'name': 'StrOutputParser', 'tags': ['seq:step:4'], 'metadata': {}, 'data': {'chunk': 'です'}, 'parent_ids': ['6d17a6ef-6ed4-4242-aef7-48a56477d13d']}\n",
      "{'event': 'on_chain_stream', 'run_id': '6d17a6ef-6ed4-4242-aef7-48a56477d13d', 'name': 'RunnableSequence', 'tags': [], 'metadata': {}, 'data': {'chunk': 'です'}, 'parent_ids': []}\n",
      "{'event': 'on_chat_model_stream', 'data': {'chunk': AIMessageChunk(content='。', additional_kwargs={}, response_metadata={}, id='run-4facae6d-7b00-42c0-bb23-2a4f04bb4ba5')}, 'run_id': '4facae6d-7b00-42c0-bb23-2a4f04bb4ba5', 'name': 'ChatOpenAI', 'tags': ['seq:step:3'], 'metadata': {'ls_provider': 'openai', 'ls_model_name': 'gpt-4o-mini', 'ls_model_type': 'chat', 'ls_temperature': 0.0}, 'parent_ids': ['6d17a6ef-6ed4-4242-aef7-48a56477d13d']}\n",
      "{'event': 'on_parser_stream', 'run_id': '400a1563-8006-4c64-8df0-5ba96d996397', 'name': 'StrOutputParser', 'tags': ['seq:step:4'], 'metadata': {}, 'data': {'chunk': '。'}, 'parent_ids': ['6d17a6ef-6ed4-4242-aef7-48a56477d13d']}\n",
      "{'event': 'on_chain_stream', 'run_id': '6d17a6ef-6ed4-4242-aef7-48a56477d13d', 'name': 'RunnableSequence', 'tags': [], 'metadata': {}, 'data': {'chunk': '。'}, 'parent_ids': []}\n",
      "{'event': 'on_chat_model_stream', 'data': {'chunk': AIMessageChunk(content='', additional_kwargs={}, response_metadata={'finish_reason': 'stop', 'model_name': 'gpt-4o-mini-2024-07-18', 'system_fingerprint': 'fp_0aa8d3e20b'}, id='run-4facae6d-7b00-42c0-bb23-2a4f04bb4ba5')}, 'run_id': '4facae6d-7b00-42c0-bb23-2a4f04bb4ba5', 'name': 'ChatOpenAI', 'tags': ['seq:step:3'], 'metadata': {'ls_provider': 'openai', 'ls_model_name': 'gpt-4o-mini', 'ls_model_type': 'chat', 'ls_temperature': 0.0}, 'parent_ids': ['6d17a6ef-6ed4-4242-aef7-48a56477d13d']}\n",
      "{'event': 'on_parser_stream', 'run_id': '400a1563-8006-4c64-8df0-5ba96d996397', 'name': 'StrOutputParser', 'tags': ['seq:step:4'], 'metadata': {}, 'data': {'chunk': ''}, 'parent_ids': ['6d17a6ef-6ed4-4242-aef7-48a56477d13d']}\n",
      "{'event': 'on_chain_stream', 'run_id': '6d17a6ef-6ed4-4242-aef7-48a56477d13d', 'name': 'RunnableSequence', 'tags': [], 'metadata': {}, 'data': {'chunk': ''}, 'parent_ids': []}\n",
      "{'event': 'on_chat_model_end', 'data': {'output': AIMessageChunk(content='東京の今日の天気は、10月27日（日）で、最高気温24℃、最低気温17℃、降水確率は50%です。', additional_kwargs={}, response_metadata={'finish_reason': 'stop', 'model_name': 'gpt-4o-mini-2024-07-18', 'system_fingerprint': 'fp_0aa8d3e20b'}, id='run-4facae6d-7b00-42c0-bb23-2a4f04bb4ba5'), 'input': {'messages': [[HumanMessage(content='以下の文脈だけを踏まえて質問に回答してください。\\n\\n文脈: \"\"\"\\n[Document(metadata={\\'title\\': \\'東京都の天気（今日・明日の天気） | @nifty天気予報\\', \\'source\\': \\'https://weather.nifty.com/prefecture/13\\', \\'score\\': 0.85967577, \\'images\\': []}, page_content=\\'東京都の天気（今日・明日の天気） | @nifty天気予報 @niftyトップ 今日・明日の天気 サイトマップ MY天気 地震情報台風情報警報・注意報花粉情報洗濯指数傘指数衛星画像天気図 スポーツレジャー観光地公共施設 全国の天気 東京都 台風20号、21号発生中 東京都の天気 今日の天気10月27日(日) 明日の天気10月28日(月) 東京  24/17 50% 大島  23/19 50% 八丈島  25/21 40% 父島  29/26 30% 港区 目黒区 大田区 世田谷区 墨田区 江東区 荒川区 足立区 葛飾区 日野市 多摩市 稲城市 多摩北部 三鷹市 昭島市 小平市 東村山市 東大和市 清瀬市 青梅市 大島 八丈島 東京  21/17 70% 大島  21/21 70% 八丈島  26/23 70% 父島  29/26 40% 港区 目黒区 大田区 世田谷区 墨田区 江東区 荒川区 足立区 葛飾区 日野市 多摩市 稲城市 多摩北部 三鷹市 昭島市 東村山市 東大和市 清瀬市 青梅市 大島 八丈島 栃木県 群馬県 東京都 長崎県 熊本県 大分県 宮崎県 沖縄県 お天気豆知識 ### 音速 秋が深まり気温も下がってくると、夏、元気に鳴いていた虫たちの声も次第に聞こえなくなります。特に夜などはひっそりとした静けさを感じることでしょう。皆さんは、気温の変化が音の伝わる速さにも影響する、ということを知っていますか。空気中では、気温が高いほど音は速く伝わります。また、気圧も音速に影響を与えますが、無視できるほど小さなものです。一方、地上のようには電波の伝わらない海中においては、音は空気中よりも速く伝わり、重要な通信手段となっています。水中では、水温が高いほど音速は速くなり、水圧が高くても速く伝わるようになります。つまり、海面付近の日射を受けて暖かいところと、大きな水圧のかかっている深海が、海の中では音速の速い領域となっているのです。音はそれが伝わっていく物質が密なほど速くなる、といった性質があります。そのため、一般には軽い空気よりも重たい水の中のほうが音を速く伝えるのです。空気中での音速は、通常、秒速３４０メートルですが、水中での音速は、秒速１５００メートル。空気中の４倍以上というすさまじい速さで伝わっていくのです。 ### ウエザーマーケティング 私達が毎日のように利用しているスーパーやコンビニの商品の中には、気温や天気、季節によってその売れゆきが大きく変わってくるものがあります。例えば、水着やスキー用品などの季節商品や、セーターやコートなどの衣類、野菜や飲み物などがそうです。当然、お店では、消費者が買いたいと思う時期に最適な商品を提供したいと考えています。その際、気象情報を活用しながら、販売計画を立てたり、商品の仕入れや在庫の管理などを工夫することを、「ウェザーマーケティング」と言います。天気や降水確率、体感温度などを商品の販売活動に活用することにより、むだを防ぎ、売り上げを上げるチャンスを知ることができるのです。さらに、ウェザーマーケティングは、仕入れや在庫管理などの販売計画だけでなく、店鋪の人員配置、売り場作り、プロモーション計画などにも役立てることができます。このように、気象情報はテレビで見ている天気予報だけでなく、流通の業界にもさまざまな形で活用されているのです。 ### ゴルフボールのしくみ スポーツの秋です。ゴルフを楽しむ方も多いでしょう。一見ただの小さな円球に思えるゴルフボールですが、その中には最先端のテクノロジーがつまっています。表面にあるへこみはディンプルといって、単なる飾りではありません。ディンプルには空気抵抗を減らして、揚力を増やす効果があり、ボールが遠くまで飛ぶための翼の役割をします。また、ゴルフボールは大きく分けて、糸巻きボールとソリッドボールがありますが、現在はソリッドボールが市場のほとんどを占めています。ソリッドボールは反発力の強い合成ゴムでできていて、インパクト時のエネルギーを飛距離につなげる仕組みになっています。少しでも飛距離がのびるよう、小さなボールにいろいろな工夫があるのですね。 花粉情報 洗濯指数 傘指数 スポーツ レジャー 公共施設 その他 MY天気 衛星画像 天気図 お問い合わせ ©Copyright Weathernews Inc. 個人情報保護ポリシー ウェブサイト利用ガイドライン 推奨環境 運営会社 ©NIFTY Corporation\\'), Document(metadata={\\'title\\': \\'東京（東京）の天気 - Yahoo!天気・災害\\', \\'source\\': \\'https://weather.yahoo.co.jp/weather/jp/13/4410.html\\', \\'score\\': 0.80126834, \\'images\\': []}, page_content=\\'パーソナル天気 現在位置： 天気・災害トップ > 関東・信越 > 東京都 > 東京（東京） 今日明日の天気 2024年11月19日 4時00分発表 11月19日(火) 晴時々曇 13℃[-7] 8℃[-3] 時間  0-6 6-12    12-18   18-24 降水  0％  0％  0％  0％ 風： 北の風後北東の風２３区西部では北の風やや強く 波： 1.5メートル後0.5メートル 11月20日(水) 曇のち雨 12℃[-1] 7℃[-1] 時間  0-6 6-12    12-18   18-24 降水  0％  10％ 30％ 60％ 風： 北西の風後東の風 波： 0.5メートル 東京地方の警報・注意報 注意報 強風、波浪 週間天気 2024年11月19日 2時00分発表 日付 11月21日 (木) 11月22日 (金) 11月23日 (土) 11月24日 (日) 11月25日 (月) 11月26日 (火) 天気 雨のち晴   晴時々曇   晴時々曇   晴時々曇   晴時々曇   曇一時雨 気温（℃）   14 降水 確率（％）   60  0   0   0   10  50 2024年11月19日 4時00分 発表 (C) Mapbox (C) OpenStreetMap (C) LY Corporation Yahoo!地図ガイドライン (C) Mapbox (C) OpenStreetMap (C) LY Corporation Yahoo!地図ガイドライン 11/18(月)18時\\\\u3000師走の寒さ\\\\u3000今季一番低く\\\\u3000北日本中心に積雪増加も Copyright (C) 2024 Weather Map Co., Ltd. All Rights Reserved. © LY Corporation\\'), Document(metadata={\\'title\\': \\'中央区の1時間天気 - 日本気象協会 tenki.jp\\', \\'source\\': \\'https://tenki.jp/forecast/3/16/4410/13102/1hour.html\\', \\'score\\': 0.76554126, \\'images\\': []}, page_content=\\'tenki.jp\\\\n中央区の天気27日18:00発表\\\\n雷レーダーで落雷情報を見る\\\\n今日27日(火)\\\\n明日28日(水)\\\\n明後日29日(木)\\\\n今日 2024年02月27日(火)[赤口]\\\\n晴れ\\\\n晴れ\\\\n晴れ\\\\n晴れ\\\\n晴れ\\\\n晴れ\\\\n晴れ\\\\n晴れ\\\\n晴れ\\\\n晴れ\\\\n晴れ\\\\n晴れ\\\\n晴れ\\\\n晴れ\\\\n晴れ\\\\n晴れ\\\\n晴れ\\\\n晴れ\\\\n晴れ\\\\n晴れ\\\\n晴れ\\\\n晴れ\\\\n晴れ\\\\n晴れ\\\\n北西\\\\n北西\\\\n北西\\\\n北西\\\\n北西\\\\n北西\\\\n北西\\\\n西北西\\\\n北西\\\\n北西\\\\n北北西\\\\n北西\\\\n北西\\\\n北北西\\\\n北北西\\\\n北北西\\\\n北北西\\\\n北北西\\\\n北西\\\\n北西\\\\n北西\\\\n北西\\\\n北西\\\\n北北西\\\\n東京都雨雲レーダー現在の雨雲を見る\\\\nこれからの予報を見る\\\\n明日 2024年02月28日(水)[先勝]\\\\n晴れ\\\\n晴れ\\\\n晴れ\\\\n晴れ\\\\n晴れ\\\\n晴れ\\\\n晴れ\\\\n晴れ\\\\n晴れ\\\\n晴れ\\\\n晴れ\\\\n晴れ\\\\n晴れ\\\\n晴れ\\\\n晴れ\\\\n晴れ\\\\n晴れ\\\\n晴れ\\\\n晴れ\\\\n晴れ\\\\n晴れ\\\\n晴れ\\\\n晴れ\\\\n晴れ\\\\n北西\\\\n北西\\\\n北西\\\\n北西\\\\n北西\\\\n北北西\\\\n北北西\\\\n北北西\\\\n北西\\\\n北西\\\\n北北西\\\\n北北西\\\\n北西\\\\n北北西\\\\n北北西\\\\n北北西\\\\n北北西\\\\n北北西\\\\n北北西\\\\n北北西\\\\n北北西\\\\n北北西\\\\n北\\\\n北\\\\n東京都雨雲レーダー現在の雨雲を見る\\\\nこれからの予報を見る\\\\n明後日 2024年02月29日(木)[友引]\\\\n晴れ\\\\n晴れ\\\\n晴れ\\\\n晴れ\\\\n晴れ\\\\n晴れ\\\\n晴れ\\\\n晴れ\\\\n晴れ\\\\n晴れ\\\\n晴れ\\\\n晴れ\\\\n晴れ\\\\n曇り\\\\n曇り\\\\n曇り\\\\n曇り\\\\n曇り\\\\n曇り\\\\n曇り\\\\n曇り\\\\n曇り\\\\n曇り\\\\n曇り\\\\n北\\\\n北\\\\n北\\\\n北\\\\n北\\\\n北\\\\n北北東\\\\n北北東\\\\n北北東\\\\n北東\\\\n東北東\\\\n東\\\\n東南東\\\\n南東\\\\n南東\\\\n南東\\\\n南東\\\\n南東\\\\n東南東\\\\n東南東\\\\n東\\\\n東\\\\n北東\\\\n北北西\\\\n東京都雨雲レーダー現在の雨雲を見る\\\\nこれからの予報を見る\\\\nスギ花粉予測\\\\n東京都の花粉飛散分布予測\\\\n02月27日\\\\n少ない\\\\n48時間後までの予測を見る\\\\n10日間天気\\\\n03月01日\\\\n(金)\\\\n03月02日\\\\n(土)\\\\n03月03日\\\\n(日)\\\\n03月04日\\\\n(月)\\\\n03月05日\\\\n(火)\\\\n03月06日\\\\n(水)\\\\n03月07日\\\\n(木)\\\\n03月08日\\\\n(金)\\\\n雨のち曇\\\\n晴時々曇\\\\n晴\\\\n晴時々曇\\\\n曇時々雨\\\\n曇時々雨\\\\n曇時々雨\\\\n曇時々晴\\\\n14\\\\n5\\\\n9\\\\n4\\\\n13\\\\n2\\\\n16\\\\n4\\\\n11\\\\n8\\\\n9\\\\n6\\\\n10\\\\n4\\\\n12\\\\n4\\\\n90%\\\\n40%\\\\n20%\\\\n30%\\\\n90%\\\\n80%\\\\n50%\\\\n40%\\\\n気象予報士のポイント解説(日直予報士)\\\\n 3月に入っても強い寒気が南下\\\\u3000今週末は日本海側で大雪の恐れ\\\\u3000太平洋側も冬の寒さ\\\\n木曜～金曜\\\\u3000また南岸低気圧\\\\u3000九州～関東、東北で雨や湿った雪\\\\u3000風も強まる\\\\n関西\\\\u300028日(水)貴重な日差しで気温上昇\\\\u3000南部ではスギ花粉がピーク\\\\u3000万全の対策を\\\\n関東週間\\\\u3000明日の朝まで強風に注意\\\\u3000交通への影響のおそれ\\\\u3000天気周期変化\\\\u3000寒暖差大\\\\nこちらもおすすめ\\\\n東京地方(東京)各地の天気\\\\n天気ガイド\\\\n東京の観測ランキング\\\\n※中央区に最も近い観測地点（アメダス）を表示しています。\\\\n注目の情報\\\\nアクエリアス 冬の汗かき予報\\\\n冬でも汗をかいている。今日の汗かきシーンをチェック！PR\\\\n30日間無料トライアル実施中\\\\n登山天気がパワーUP！最新の山の状態がすぐにわかる！\\\\n人気の日直予報士を配信\\\\ntenki.jpの公式Twitterをチェック!天気、降水確率、最高最低気温を配信\\\\n天気予報\\\\n観測\\\\n防災情報\\\\n天気図\\\\n指数情報\\\\nレジャー天気\\\\n季節特集\\\\n天気ニュース\\\\ntenki.jp+more\\\\n全国のコンテンツ\\\\ntenki.jpトップ\\\\n天気予報\\\\n観測\\\\n防災情報\\\\n天気図\\\\n指数情報\\\\nレジャー天気\\\\n季節特集\\\\n天気ニュース\\')]\\n\"\"\"\\n\\n質問: 東京の今日の天気は？\\n', additional_kwargs={}, response_metadata={})]]}}, 'run_id': '4facae6d-7b00-42c0-bb23-2a4f04bb4ba5', 'name': 'ChatOpenAI', 'tags': ['seq:step:3'], 'metadata': {'ls_provider': 'openai', 'ls_model_name': 'gpt-4o-mini', 'ls_model_type': 'chat', 'ls_temperature': 0.0}, 'parent_ids': ['6d17a6ef-6ed4-4242-aef7-48a56477d13d']}\n",
      "{'event': 'on_parser_end', 'data': {'output': '東京の今日の天気は、10月27日（日）で、最高気温24℃、最低気温17℃、降水確率は50%です。', 'input': AIMessageChunk(content='東京の今日の天気は、10月27日（日）で、最高気温24℃、最低気温17℃、降水確率は50%です。', additional_kwargs={}, response_metadata={'finish_reason': 'stop', 'model_name': 'gpt-4o-mini-2024-07-18', 'system_fingerprint': 'fp_0aa8d3e20b'}, id='run-4facae6d-7b00-42c0-bb23-2a4f04bb4ba5')}, 'run_id': '400a1563-8006-4c64-8df0-5ba96d996397', 'name': 'StrOutputParser', 'tags': ['seq:step:4'], 'metadata': {}, 'parent_ids': ['6d17a6ef-6ed4-4242-aef7-48a56477d13d']}\n",
      "{'event': 'on_chain_end', 'data': {'output': '東京の今日の天気は、10月27日（日）で、最高気温24℃、最低気温17℃、降水確率は50%です。'}, 'run_id': '6d17a6ef-6ed4-4242-aef7-48a56477d13d', 'name': 'RunnableSequence', 'tags': [], 'metadata': {}, 'parent_ids': []}\n"
     ]
    }
   ],
   "source": [
    "chain = (\n",
    "    {\"context\": retriever, \"question\": RunnablePassthrough()}\n",
    "    | prompt\n",
    "    | model\n",
    "    | StrOutputParser()\n",
    ")\n",
    "\n",
    "async for event in chain.astream_events(\"東京の今日の天気は？\", version=\"v2\"):\n",
    "    print(event, flush=True)"
   ]
  },
  {
   "cell_type": "code",
   "execution_count": 34,
   "metadata": {},
   "outputs": [
    {
     "name": "stdout",
     "output_type": "stream",
     "text": [
      "=== 検索結果 ===\n",
      "page_content='東京都の天気（今日・明日の天気） | @nifty天気予報 @niftyトップ 今日・明日の天気 サイトマップ MY天気 地震情報台風情報警報・注意報花粉情報洗濯指数傘指数衛星画像天気図 スポーツレジャー観光地公共施設 全国の天気 東京都 台風20号、21号発生中 東京都の天気 今日の天気10月27日(日) 明日の天気10月28日(月) 東京  24/17 50% 大島  23/19 50% 八丈島  25/21 40% 父島  29/26 30% 港区 目黒区 大田区 世田谷区 墨田区 江東区 荒川区 足立区 葛飾区 日野市 多摩市 稲城市 多摩北部 三鷹市 昭島市 小平市 東村山市 東大和市 清瀬市 青梅市 大島 八丈島 東京  21/17 70% 大島  21/21 70% 八丈島  26/23 70% 父島  29/26 40% 港区 目黒区 大田区 世田谷区 墨田区 江東区 荒川区 足立区 葛飾区 日野市 多摩市 稲城市 多摩北部 三鷹市 昭島市 東村山市 東大和市 清瀬市 青梅市 大島 八丈島 栃木県 群馬県 東京都 長崎県 熊本県 大分県 宮崎県 沖縄県 お天気豆知識 ### 音速 秋が深まり気温も下がってくると、夏、元気に鳴いていた虫たちの声も次第に聞こえなくなります。特に夜などはひっそりとした静けさを感じることでしょう。皆さんは、気温の変化が音の伝わる速さにも影響する、ということを知っていますか。空気中では、気温が高いほど音は速く伝わります。また、気圧も音速に影響を与えますが、無視できるほど小さなものです。一方、地上のようには電波の伝わらない海中においては、音は空気中よりも速く伝わり、重要な通信手段となっています。水中では、水温が高いほど音速は速くなり、水圧が高くても速く伝わるようになります。つまり、海面付近の日射を受けて暖かいところと、大きな水圧のかかっている深海が、海の中では音速の速い領域となっているのです。音はそれが伝わっていく物質が密なほど速くなる、といった性質があります。そのため、一般には軽い空気よりも重たい水の中のほうが音を速く伝えるのです。空気中での音速は、通常、秒速３４０メートルですが、水中での音速は、秒速１５００メートル。空気中の４倍以上というすさまじい速さで伝わっていくのです。 ### ウエザーマーケティング 私達が毎日のように利用しているスーパーやコンビニの商品の中には、気温や天気、季節によってその売れゆきが大きく変わってくるものがあります。例えば、水着やスキー用品などの季節商品や、セーターやコートなどの衣類、野菜や飲み物などがそうです。当然、お店では、消費者が買いたいと思う時期に最適な商品を提供したいと考えています。その際、気象情報を活用しながら、販売計画を立てたり、商品の仕入れや在庫の管理などを工夫することを、「ウェザーマーケティング」と言います。天気や降水確率、体感温度などを商品の販売活動に活用することにより、むだを防ぎ、売り上げを上げるチャンスを知ることができるのです。さらに、ウェザーマーケティングは、仕入れや在庫管理などの販売計画だけでなく、店鋪の人員配置、売り場作り、プロモーション計画などにも役立てることができます。このように、気象情報はテレビで見ている天気予報だけでなく、流通の業界にもさまざまな形で活用されているのです。 ### ゴルフボールのしくみ スポーツの秋です。ゴルフを楽しむ方も多いでしょう。一見ただの小さな円球に思えるゴルフボールですが、その中には最先端のテクノロジーがつまっています。表面にあるへこみはディンプルといって、単なる飾りではありません。ディンプルには空気抵抗を減らして、揚力を増やす効果があり、ボールが遠くまで飛ぶための翼の役割をします。また、ゴルフボールは大きく分けて、糸巻きボールとソリッドボールがありますが、現在はソリッドボールが市場のほとんどを占めています。ソリッドボールは反発力の強い合成ゴムでできていて、インパクト時のエネルギーを飛距離につなげる仕組みになっています。少しでも飛距離がのびるよう、小さなボールにいろいろな工夫があるのですね。 花粉情報 洗濯指数 傘指数 スポーツ レジャー 公共施設 その他 MY天気 衛星画像 天気図 お問い合わせ ©Copyright Weathernews Inc. 個人情報保護ポリシー ウェブサイト利用ガイドライン 推奨環境 運営会社 ©NIFTY Corporation' metadata={'title': '東京都の天気（今日・明日の天気） | @nifty天気予報', 'source': 'https://weather.nifty.com/prefecture/13', 'score': 0.85967577, 'images': []}\n",
      "page_content='パーソナル天気 現在位置： 天気・災害トップ > 関東・信越 > 東京都 > 東京（東京） 今日明日の天気 2024年11月19日 4時00分発表 11月19日(火) 晴時々曇 13℃[-7] 8℃[-3] 時間  0-6 6-12    12-18   18-24 降水  0％  0％  0％  0％ 風： 北の風後北東の風２３区西部では北の風やや強く 波： 1.5メートル後0.5メートル 11月20日(水) 曇のち雨 12℃[-1] 7℃[-1] 時間  0-6 6-12    12-18   18-24 降水  0％  10％ 30％ 60％ 風： 北西の風後東の風 波： 0.5メートル 東京地方の警報・注意報 注意報 強風、波浪 週間天気 2024年11月19日 2時00分発表 日付 11月21日 (木) 11月22日 (金) 11月23日 (土) 11月24日 (日) 11月25日 (月) 11月26日 (火) 天気 雨のち晴   晴時々曇   晴時々曇   晴時々曇   晴時々曇   曇一時雨 気温（℃）   14 降水 確率（％）   60  0   0   0   10  50 2024年11月19日 4時00分 発表 (C) Mapbox (C) OpenStreetMap (C) LY Corporation Yahoo!地図ガイドライン (C) Mapbox (C) OpenStreetMap (C) LY Corporation Yahoo!地図ガイドライン 11/18(月)18時　師走の寒さ　今季一番低く　北日本中心に積雪増加も Copyright (C) 2024 Weather Map Co., Ltd. All Rights Reserved. © LY Corporation' metadata={'title': '東京（東京）の天気 - Yahoo!天気・災害', 'source': 'https://weather.yahoo.co.jp/weather/jp/13/4410.html', 'score': 0.8010817, 'images': []}\n",
      "page_content='tenki.jp\n",
      "中央区の天気27日18:00発表\n",
      "雷レーダーで落雷情報を見る\n",
      "今日27日(火)\n",
      "明日28日(水)\n",
      "明後日29日(木)\n",
      "今日 2024年02月27日(火)[赤口]\n",
      "晴れ\n",
      "晴れ\n",
      "晴れ\n",
      "晴れ\n",
      "晴れ\n",
      "晴れ\n",
      "晴れ\n",
      "晴れ\n",
      "晴れ\n",
      "晴れ\n",
      "晴れ\n",
      "晴れ\n",
      "晴れ\n",
      "晴れ\n",
      "晴れ\n",
      "晴れ\n",
      "晴れ\n",
      "晴れ\n",
      "晴れ\n",
      "晴れ\n",
      "晴れ\n",
      "晴れ\n",
      "晴れ\n",
      "晴れ\n",
      "北西\n",
      "北西\n",
      "北西\n",
      "北西\n",
      "北西\n",
      "北西\n",
      "北西\n",
      "西北西\n",
      "北西\n",
      "北西\n",
      "北北西\n",
      "北西\n",
      "北西\n",
      "北北西\n",
      "北北西\n",
      "北北西\n",
      "北北西\n",
      "北北西\n",
      "北西\n",
      "北西\n",
      "北西\n",
      "北西\n",
      "北西\n",
      "北北西\n",
      "東京都雨雲レーダー現在の雨雲を見る\n",
      "これからの予報を見る\n",
      "明日 2024年02月28日(水)[先勝]\n",
      "晴れ\n",
      "晴れ\n",
      "晴れ\n",
      "晴れ\n",
      "晴れ\n",
      "晴れ\n",
      "晴れ\n",
      "晴れ\n",
      "晴れ\n",
      "晴れ\n",
      "晴れ\n",
      "晴れ\n",
      "晴れ\n",
      "晴れ\n",
      "晴れ\n",
      "晴れ\n",
      "晴れ\n",
      "晴れ\n",
      "晴れ\n",
      "晴れ\n",
      "晴れ\n",
      "晴れ\n",
      "晴れ\n",
      "晴れ\n",
      "北西\n",
      "北西\n",
      "北西\n",
      "北西\n",
      "北西\n",
      "北北西\n",
      "北北西\n",
      "北北西\n",
      "北西\n",
      "北西\n",
      "北北西\n",
      "北北西\n",
      "北西\n",
      "北北西\n",
      "北北西\n",
      "北北西\n",
      "北北西\n",
      "北北西\n",
      "北北西\n",
      "北北西\n",
      "北北西\n",
      "北北西\n",
      "北\n",
      "北\n",
      "東京都雨雲レーダー現在の雨雲を見る\n",
      "これからの予報を見る\n",
      "明後日 2024年02月29日(木)[友引]\n",
      "晴れ\n",
      "晴れ\n",
      "晴れ\n",
      "晴れ\n",
      "晴れ\n",
      "晴れ\n",
      "晴れ\n",
      "晴れ\n",
      "晴れ\n",
      "晴れ\n",
      "晴れ\n",
      "晴れ\n",
      "晴れ\n",
      "曇り\n",
      "曇り\n",
      "曇り\n",
      "曇り\n",
      "曇り\n",
      "曇り\n",
      "曇り\n",
      "曇り\n",
      "曇り\n",
      "曇り\n",
      "曇り\n",
      "北\n",
      "北\n",
      "北\n",
      "北\n",
      "北\n",
      "北\n",
      "北北東\n",
      "北北東\n",
      "北北東\n",
      "北東\n",
      "東北東\n",
      "東\n",
      "東南東\n",
      "南東\n",
      "南東\n",
      "南東\n",
      "南東\n",
      "南東\n",
      "東南東\n",
      "東南東\n",
      "東\n",
      "東\n",
      "北東\n",
      "北北西\n",
      "東京都雨雲レーダー現在の雨雲を見る\n",
      "これからの予報を見る\n",
      "スギ花粉予測\n",
      "東京都の花粉飛散分布予測\n",
      "02月27日\n",
      "少ない\n",
      "48時間後までの予測を見る\n",
      "10日間天気\n",
      "03月01日\n",
      "(金)\n",
      "03月02日\n",
      "(土)\n",
      "03月03日\n",
      "(日)\n",
      "03月04日\n",
      "(月)\n",
      "03月05日\n",
      "(火)\n",
      "03月06日\n",
      "(水)\n",
      "03月07日\n",
      "(木)\n",
      "03月08日\n",
      "(金)\n",
      "雨のち曇\n",
      "晴時々曇\n",
      "晴\n",
      "晴時々曇\n",
      "曇時々雨\n",
      "曇時々雨\n",
      "曇時々雨\n",
      "曇時々晴\n",
      "14\n",
      "5\n",
      "9\n",
      "4\n",
      "13\n",
      "2\n",
      "16\n",
      "4\n",
      "11\n",
      "8\n",
      "9\n",
      "6\n",
      "10\n",
      "4\n",
      "12\n",
      "4\n",
      "90%\n",
      "40%\n",
      "20%\n",
      "30%\n",
      "90%\n",
      "80%\n",
      "50%\n",
      "40%\n",
      "気象予報士のポイント解説(日直予報士)\n",
      " 3月に入っても強い寒気が南下　今週末は日本海側で大雪の恐れ　太平洋側も冬の寒さ\n",
      "木曜～金曜　また南岸低気圧　九州～関東、東北で雨や湿った雪　風も強まる\n",
      "関西　28日(水)貴重な日差しで気温上昇　南部ではスギ花粉がピーク　万全の対策を\n",
      "関東週間　明日の朝まで強風に注意　交通への影響のおそれ　天気周期変化　寒暖差大\n",
      "こちらもおすすめ\n",
      "東京地方(東京)各地の天気\n",
      "天気ガイド\n",
      "東京の観測ランキング\n",
      "※中央区に最も近い観測地点（アメダス）を表示しています。\n",
      "注目の情報\n",
      "アクエリアス 冬の汗かき予報\n",
      "冬でも汗をかいている。今日の汗かきシーンをチェック！PR\n",
      "30日間無料トライアル実施中\n",
      "登山天気がパワーUP！最新の山の状態がすぐにわかる！\n",
      "人気の日直予報士を配信\n",
      "tenki.jpの公式Twitterをチェック!天気、降水確率、最高最低気温を配信\n",
      "天気予報\n",
      "観測\n",
      "防災情報\n",
      "天気図\n",
      "指数情報\n",
      "レジャー天気\n",
      "季節特集\n",
      "天気ニュース\n",
      "tenki.jp+more\n",
      "全国のコンテンツ\n",
      "tenki.jpトップ\n",
      "天気予報\n",
      "観測\n",
      "防災情報\n",
      "天気図\n",
      "指数情報\n",
      "レジャー天気\n",
      "季節特集\n",
      "天気ニュース' metadata={'title': '中央区の1時間天気 - 日本気象協会 tenki.jp', 'source': 'https://tenki.jp/forecast/3/16/4410/13102/1hour.html', 'score': 0.76554126, 'images': []}\n",
      "=== 最終出力 ===\n",
      "東京の今日の天気は、10月27日（日）で、最高気温24℃、最低気温17℃、降水確率は50%です。"
     ]
    }
   ],
   "source": [
    "async for event in chain.astream_events(\"東京の今日の天気は？\", version=\"v2\"):\n",
    "    event_kind = event[\"event\"]\n",
    "\n",
    "    if event_kind == \"on_retriever_end\":\n",
    "        print(\"=== 検索結果 ===\")\n",
    "        documents = event[\"data\"][\"output\"]\n",
    "        for document in documents:\n",
    "            print(document)\n",
    "\n",
    "    elif event_kind == \"on_parser_start\":\n",
    "        print(\"=== 最終出力 ===\")\n",
    "\n",
    "    elif event_kind == \"on_parser_stream\":\n",
    "        chunk = event[\"data\"][\"chunk\"]\n",
    "        print(chunk, end=\"\", flush=True)"
   ]
  },
  {
   "cell_type": "markdown",
   "metadata": {},
   "source": [
    "### （コラム）Chat history と Memory\n"
   ]
  },
  {
   "cell_type": "code",
   "execution_count": 35,
   "metadata": {},
   "outputs": [],
   "source": [
    "from langchain_core.output_parsers import StrOutputParser\n",
    "from langchain_core.prompts import ChatPromptTemplate, MessagesPlaceholder\n",
    "from langchain_openai import ChatOpenAI\n",
    "\n",
    "model = ChatOpenAI(model=\"gpt-4o-mini\", temperature=0)\n",
    "\n",
    "prompt = ChatPromptTemplate.from_messages(\n",
    "    [\n",
    "        (\"system\", \"You are a helpful assistant.\"),\n",
    "        MessagesPlaceholder(\"chat_history\", optional=True),\n",
    "        (\"human\", \"{input}\"),\n",
    "    ]\n",
    ")\n",
    "\n",
    "chain = prompt | model | StrOutputParser()"
   ]
  },
  {
   "cell_type": "code",
   "execution_count": 36,
   "metadata": {},
   "outputs": [],
   "source": [
    "from langchain_community.chat_message_histories import SQLChatMessageHistory\n",
    "\n",
    "\n",
    "def respond(session_id: str, human_message: str) -> str:\n",
    "    chat_message_history = SQLChatMessageHistory(\n",
    "        session_id=session_id, connection=\"sqlite:///sqlite.db\"\n",
    "    )\n",
    "\n",
    "    ai_message = chain.invoke(\n",
    "        {\n",
    "            \"chat_history\": chat_message_history.get_messages(),\n",
    "            \"input\": human_message,\n",
    "        }\n",
    "    )\n",
    "\n",
    "    chat_message_history.add_user_message(human_message)\n",
    "    chat_message_history.add_ai_message(ai_message)\n",
    "\n",
    "    return ai_message"
   ]
  },
  {
   "cell_type": "code",
   "execution_count": 37,
   "metadata": {},
   "outputs": [
    {
     "name": "stdout",
     "output_type": "stream",
     "text": [
      "こんにちは、ジョンさん！お会いできて嬉しいです。今日はどんなことをお話ししましょうか？\n",
      "はい、あなたの名前はジョンさんです。何か特別なことについてお話ししたいことがありますか？\n"
     ]
    }
   ],
   "source": [
    "from uuid import uuid4\n",
    "\n",
    "session_id = uuid4().hex\n",
    "\n",
    "output1 = respond(\n",
    "    session_id=session_id,\n",
    "    human_message=\"こんにちは！私はジョンと言います！\",\n",
    ")\n",
    "print(output1)\n",
    "\n",
    "output2 = respond(\n",
    "    session_id=session_id,\n",
    "    human_message=\"私の名前が分かりますか？\",\n",
    ")\n",
    "print(output2)"
   ]
  }
 ],
 "metadata": {
  "kernelspec": {
   "display_name": "Python 3",
   "language": "python",
   "name": "python3"
  },
  "language_info": {
   "codemirror_mode": {
    "name": "ipython",
    "version": 3
   },
   "file_extension": ".py",
   "mimetype": "text/x-python",
   "name": "python",
   "nbconvert_exporter": "python",
   "pygments_lexer": "ipython3",
   "version": "3.10.12"
  }
 },
 "nbformat": 4,
 "nbformat_minor": 2
}
